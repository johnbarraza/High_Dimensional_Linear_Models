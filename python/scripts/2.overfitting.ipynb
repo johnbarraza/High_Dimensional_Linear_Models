{
 "cells": [
  {
   "cell_type": "markdown",
   "id": "4eed5220",
   "metadata": {},
   "source": [
    "# 2. Overfitting \n",
    "\n",
    "En esta sección, vamos a simular un proceso de generación de datos (PGD) para ilustrar el concepto de **overfitting** (sobreajuste)."
   ]
  },
  {
   "cell_type": "code",
   "execution_count": null,
   "id": "95b30f57",
   "metadata": {},
   "outputs": [],
   "source": [
    "# !pip install numpy scikit-learn seaborn matplotlib\n",
    "import numpy as np\n",
    "from matplotlib import pyplot as plt\n",
    "from sklearn.linear_model import LinearRegression\n",
    "from sklearn.model_selection import train_test_split\n",
    "from sklearn.model_selection import KFold\n",
    "from sklearn.linear_model import LassoCV, Lasso\n",
    "from sklearn.metrics import r2_score\n",
    "import random"
   ]
  },
  {
   "cell_type": "markdown",
   "id": "08e6990b",
   "metadata": {},
   "source": [
    "# 2. Definimos los parámetros de la simulación"
   ]
  },
  {
   "cell_type": "code",
   "execution_count": null,
   "id": "83c54356",
   "metadata": {},
   "outputs": [],
   "source": [
    "#parametros\n",
    "n = 1000\n",
    "features = [1, 2, 5, 10, 20, 50, 100, 200, 500, 1000]\n",
    "\n",
    "#generacion de datos, PGD\n",
    "np.random.seed(0)\n",
    "x = np.random.uniform(0, 1, n)\n",
    "epsilon_y = np.random.normal(0, 1, n)\n",
    "x.sort()\n",
    "x = x.reshape(-1, 1)\n",
    "# print(x) "
   ]
  },
  {
   "cell_type": "markdown",
   "id": "c6e97470",
   "metadata": {},
   "source": [
    "Ahora creamos y sin intercepto"
   ]
  },
  {
   "cell_type": "code",
   "execution_count": null,
   "id": "1486152b",
   "metadata": {},
   "outputs": [],
   "source": []
  }
 ],
 "metadata": {
  "kernelspec": {
   "display_name": "causal_ai",
   "language": "python",
   "name": "python3"
  },
  "language_info": {
   "codemirror_mode": {
    "name": "ipython",
    "version": 3
   },
   "file_extension": ".py",
   "mimetype": "text/x-python",
   "name": "python",
   "nbconvert_exporter": "python",
   "pygments_lexer": "ipython3",
   "version": "3.12.11"
  }
 },
 "nbformat": 4,
 "nbformat_minor": 5
}
