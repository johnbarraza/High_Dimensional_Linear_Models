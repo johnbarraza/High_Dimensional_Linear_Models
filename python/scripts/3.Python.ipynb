{
 "cells": [
  {
   "cell_type": "markdown",
   "id": "de9b046f-0666-4d8d-930a-5700f2c1b8db",
   "metadata": {},
   "source": [
    "### Python"
   ]
  },
  {
   "cell_type": "code",
   "execution_count": 2,
   "id": "d378d60f-16dc-43ec-838f-aab3ef0f5803",
   "metadata": {},
   "outputs": [],
   "source": [
    "import pandas as pd"
   ]
  },
  {
   "cell_type": "code",
   "execution_count": null,
   "id": "b16e04b1-4b6e-4435-a1e1-7896ebf4a507",
   "metadata": {},
   "outputs": [],
   "source": [
    "data = pd.read_csv(\"C:\\\\Users\\\\carlo\\\\Documents\\\\AI\\\\apartments.csv\")\n",
    "\n",
    "# C:\\\\Users\\\\johnb\\\\Documents\\\\GitHub\\\\causalai-2025\\\\python\\\\input\\\\apartments.csv"
   ]
  },
  {
   "cell_type": "code",
   "execution_count": 4,
   "id": "d72e8fde-aea8-4ee0-8ff5-056f7690ddf7",
   "metadata": {},
   "outputs": [
    {
     "data": {
      "text/plain": [
       "Index(['id', 'price', 'month', 'area', 'type', 'rooms', 'centredistance',\n",
       "       'schooldistance', 'clinicdistance', 'postofficedistance',\n",
       "       'kindergartendistance', 'restaurantdistance', 'collegedistance',\n",
       "       'pharmacydistance', 'ownership', 'buildingmaterial', 'hasparkingspace',\n",
       "       'hasbalcony', 'haselevator', 'hassecurity', 'hasstorageroom'],\n",
       "      dtype='object')"
      ]
     },
     "execution_count": 4,
     "metadata": {},
     "output_type": "execute_result"
    }
   ],
   "source": [
    "data.columns"
   ]
  },
  {
   "cell_type": "code",
   "execution_count": null,
   "id": "4f78a0c5-51e2-4f56-8df7-0ac736b245a1",
   "metadata": {},
   "outputs": [],
   "source": [
    "data.head()"
   ]
  },
  {
   "cell_type": "code",
   "execution_count": null,
   "id": "8b85d34d-b519-44ea-b962-c6af45c43238",
   "metadata": {},
   "outputs": [],
   "source": [
    "data['area2'] = data['area'] ** 2"
   ]
  },
  {
   "cell_type": "code",
   "execution_count": null,
   "id": "f6b39bec-4c61-4afe-b50e-6e08600100b6",
   "metadata": {},
   "outputs": [],
   "source": [
    "data['hasparkingspace'] = np.where(data['hasparkingspace'] == \"yes\", 1, 0)\n",
    "data['hasbalcony'] = np.where(data['hasbalcony'] == \"yes\", 1, 0)\n",
    "data['haselevator'] = np.where(data['haselevator'] == \"yes\", 1, 0)\n",
    "data['hassecurity'] = np.where(data['hassecurity'] == \"yes\", 1, 0)\n",
    "data['hasstorageroom'] = np.where(data['hasstorageroom'] == \"yes\", 1, 0)"
   ]
  },
  {
   "cell_type": "code",
   "execution_count": null,
   "id": "fa12d733-9dc1-45f3-870b-2cb07c3c1d77",
   "metadata": {},
   "outputs": [],
   "source": [
    "data['ud'] = data['area'] % 10"
   ]
  },
  {
   "cell_type": "code",
   "execution_count": null,
   "id": "f01d3fd7-4854-40cc-b46a-4c1e74994a20",
   "metadata": {},
   "outputs": [],
   "source": [
    "uds = pd.get_dummies(data['ud'], prefix = 'ud')"
   ]
  },
  {
   "cell_type": "code",
   "execution_count": null,
   "id": "0aeb7c09-a293-4a90-b336-83471c8948b3",
   "metadata": {},
   "outputs": [],
   "source": [
    "data = pd.concat([data, uds], axis=1)"
   ]
  },
  {
   "cell_type": "code",
   "execution_count": null,
   "id": "b292a709-bb25-47bc-971b-e3803ff73a4d",
   "metadata": {},
   "outputs": [],
   "source": [
    "data['month'] = data['month'].astype('category')\n",
    "data['type'] = data['type'].astype('category')\n",
    "data['rooms'] = data['rooms'].astype('category')\n",
    "data['ownership'] = data['ownership'].astype('category')\n",
    "data['buildingmaterial'] = data['buildingmaterial'].astype('category')"
   ]
  },
  {
   "cell_type": "code",
   "execution_count": null,
   "id": "8ce687d2-2baf-4590-8687-7122c9947f36",
   "metadata": {},
   "outputs": [],
   "source": [
    "import statsmodels.api as sm\n",
    "from statsmodels.formula.api import ols"
   ]
  },
  {
   "cell_type": "code",
   "execution_count": null,
   "id": "0416826c-71c4-40b8-9406-6b587a817eef",
   "metadata": {},
   "outputs": [],
   "source": [
    "reg = ols(\n",
    "    \"\"\"price ~ ud_0 + ud_1 + ud_2 + ud_3 + ud_4 + ud_5 + ud_6 + ud_7 + ud_8\n",
    "              + area + area2\n",
    "              + schooldistance + clinicdistance + postofficedistance\n",
    "              + kindergartendistance + collegedistance + pharmacydistance\n",
    "              + C(ownership) + C(buildingmaterial)\n",
    "              + hasparkingspace + hasbalcony + haselevator\n",
    "              + hassecurity + hasstorageroom\"\"\",\n",
    "    data=data\n",
    ").fit()\n",
    "\n",
    "print(reg.summary())"
   ]
  },
  {
   "cell_type": "markdown",
   "id": "9abd488f-72e6-457e-acd5-c1505b232b5c",
   "metadata": {},
   "source": [
    "### Partialing Out"
   ]
  },
  {
   "cell_type": "code",
   "execution_count": null,
   "id": "f04e809d-aea7-47ec-b022-586176fbd3be",
   "metadata": {},
   "outputs": [],
   "source": [
    "residuos_mc = reg.resid"
   ]
  },
  {
   "cell_type": "code",
   "execution_count": null,
   "id": "05ae5a33-c12d-4ad5-ac4b-136d7024cbaa",
   "metadata": {},
   "outputs": [],
   "source": [
    "modelsinud0 = ols(\n",
    "    \"\"\"price ~ ud_1 + ud_2 + ud_3 + ud_4 + ud_5 + ud_6 + ud_7 + ud_8\n",
    "              + area + area2\n",
    "              + schooldistance + clinicdistance + postofficedistance\n",
    "              + kindergartendistance + collegedistance + pharmacydistance\n",
    "              + C(ownership) + C(buildingmaterial)\n",
    "              + hasparkingspace + hasbalcony + haselevator\n",
    "              + hassecurity + hasstorageroom\"\"\",\n",
    "    data=data\n",
    ").fit()\n",
    "\n",
    "print(modelsinud0.summary())"
   ]
  },
  {
   "cell_type": "code",
   "execution_count": null,
   "id": "e82a683c-368d-41ca-bd1c-d410bbd27ed3",
   "metadata": {},
   "outputs": [],
   "source": [
    "residuos_msinud0 = modelsinud0.resid"
   ]
  },
  {
   "cell_type": "code",
   "execution_count": null,
   "id": "294ed974-795c-44c8-935d-1836ca08c112",
   "metadata": {},
   "outputs": [],
   "source": [
    "residuos_msinud0.shape"
   ]
  },
  {
   "cell_type": "code",
   "execution_count": null,
   "id": "7e5b03f1-8502-4e96-bfd4-0414d32ca91a",
   "metadata": {},
   "outputs": [],
   "source": [
    "data[\"ud_0\"] = data[\"ud_0\"].astype(int)"
   ]
  },
  {
   "cell_type": "code",
   "execution_count": null,
   "id": "2515c51c-518c-4f6d-9cb2-e9186fef54dc",
   "metadata": {},
   "outputs": [],
   "source": [
    "modelud0 = ols(\n",
    "    \"\"\"ud_0 ~ ud_1 + ud_2 + ud_3 + ud_4 + ud_5 + ud_6 + ud_7 + ud_8\n",
    "              + area + area2\n",
    "              + schooldistance + clinicdistance + postofficedistance\n",
    "              + kindergartendistance + collegedistance + pharmacydistance\n",
    "              + C(ownership) + C(buildingmaterial)\n",
    "              + hasparkingspace + hasbalcony + haselevator\n",
    "              + hassecurity + hasstorageroom\"\"\",\n",
    "    data=data\n",
    ").fit()\n",
    "\n",
    "print(modelud0.summary())"
   ]
  },
  {
   "cell_type": "code",
   "execution_count": null,
   "id": "4ecd121a-e956-4da2-b38a-8e4ec13bb752",
   "metadata": {},
   "outputs": [],
   "source": [
    "residuosud0 = modelud0.resid"
   ]
  },
  {
   "cell_type": "code",
   "execution_count": null,
   "id": "e66a6f60-feb0-45f9-94b8-6a0317d205c2",
   "metadata": {},
   "outputs": [],
   "source": [
    "residuosud0.shape"
   ]
  },
  {
   "cell_type": "code",
   "execution_count": null,
   "id": "9b5bbf27-08f0-4d46-a51c-501a4c5a18fa",
   "metadata": {},
   "outputs": [],
   "source": [
    "df_res = pd.DataFrame({\n",
    "    \"residuos_msinud0\": modelsinud0.resid,\n",
    "    \"residuosud0\": modelud0.resid\n",
    "})\n",
    "\n",
    "print(df_res.shape)\n",
    "\n",
    "p0model = smf.ols(\"residuos_msinud0 ~ residuosud0\", data=df_res).fit()\n",
    "print(p0model.summary())\n"
   ]
  },
  {
   "cell_type": "code",
   "execution_count": null,
   "id": "8d4f7a9d-6404-4d21-b387-d498e52d1675",
   "metadata": {},
   "outputs": [],
   "source": [
    "reg.params[1]"
   ]
  },
  {
   "cell_type": "code",
   "execution_count": null,
   "id": "0e9b0141-9677-43cf-ae4d-df7a38cfa119",
   "metadata": {},
   "outputs": [],
   "source": [
    "p0model.params[1]"
   ]
  },
  {
   "cell_type": "code",
   "execution_count": null,
   "id": "562b9dee-1349-4c21-957b-0a018d13f4fc",
   "metadata": {},
   "outputs": [],
   "source": [
    "datasinud0 = data[data[\"ud_0\"] == 0]"
   ]
  },
  {
   "cell_type": "code",
   "execution_count": null,
   "id": "8a60ebd9-cdb4-4201-a304-721ec5546cc9",
   "metadata": {},
   "outputs": [],
   "source": [
    "modelnoud0 = smf.ols(\n",
    "    \"\"\"price ~ ud_1 + ud_2 + ud_3 + ud_4 + ud_5 + ud_6 + ud_7 + ud_8\n",
    "              + area + area2\n",
    "              + schooldistance + clinicdistance + postofficedistance\n",
    "              + kindergartendistance + collegedistance + pharmacydistance\n",
    "              + C(ownership) + C(buildingmaterial)\n",
    "              + hasparkingspace + hasbalcony + haselevator\n",
    "              + hassecurity + hasstorageroom\"\"\",\n",
    "    data=datasinud0\n",
    ").fit()\n",
    "\n",
    "print(modelnoud0.summary())"
   ]
  },
  {
   "cell_type": "code",
   "execution_count": null,
   "id": "cc94ac17-34d7-45f2-8be8-35d5e54d7d20",
   "metadata": {},
   "outputs": [],
   "source": [
    "data[\"price_predicted\"] = modelnoud0.predict(data)"
   ]
  },
  {
   "cell_type": "code",
   "execution_count": null,
   "id": "56f2fea3-a7b7-4d4d-89db-7ab38ffac809",
   "metadata": {},
   "outputs": [],
   "source": [
    "price_predicted = modelnoud0.predict(data)\n",
    "\n",
    "data[\"price_predicted\"] = price_predicted\n",
    "\n",
    "df_pred_ud0 = pd.DataFrame({\n",
    "    \"price_predicted\": price_predicted,\n",
    "    \"ud_0\": data[\"ud_0\"]\n",
    "})\n",
    "\n",
    "print(df_pred_ud0.head())"
   ]
  },
  {
   "cell_type": "code",
   "execution_count": null,
   "id": "1bd7c44a-a66a-4b73-89ec-7bbcee8c105d",
   "metadata": {},
   "outputs": [],
   "source": [
    "data[\"price_predicted\"] = price_predicted"
   ]
  },
  {
   "cell_type": "code",
   "execution_count": null,
   "id": "49060025-3468-4f1f-815c-fb6cef9de991",
   "metadata": {},
   "outputs": [],
   "source": [
    "dataud0 = data[data[\"ud_0\"] == 1]"
   ]
  },
  {
   "cell_type": "code",
   "execution_count": null,
   "id": "e6af9350-f79e-4c4a-9da7-293772535452",
   "metadata": {},
   "outputs": [],
   "source": [
    "avgprice = dataud0[\"price\"].mean()\n",
    "avgpredicted = dataud0[\"price_predicted\"].mean(skipna=True)"
   ]
  },
  {
   "cell_type": "code",
   "execution_count": null,
   "id": "072d78c1-ad89-4a21-9d24-0639cd30097c",
   "metadata": {},
   "outputs": [],
   "source": [
    "Comparison = pd.DataFrame({\n",
    "    \"avgprice\": [avgprice],\n",
    "    \"avgpredicted\": [avgpredicted]\n",
    "})\n",
    "\n",
    "Comparison"
   ]
  }
 ],
 "metadata": {
  "kernelspec": {
   "display_name": "causal_ai",
   "language": "python",
   "name": "python3"
  },
  "language_info": {
   "codemirror_mode": {
    "name": "ipython",
    "version": 3
   },
   "file_extension": ".py",
   "mimetype": "text/x-python",
   "name": "python",
   "nbconvert_exporter": "python",
   "pygments_lexer": "ipython3",
   "version": "3.12.11"
  }
 },
 "nbformat": 4,
 "nbformat_minor": 5
}
