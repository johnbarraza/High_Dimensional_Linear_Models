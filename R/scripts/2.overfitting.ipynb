{
 "cells": [
  {
   "cell_type": "markdown",
   "metadata": {},
   "source": [
    "# Ejercicio 2: Overfitting en R\n",
    "Este notebook implementa el cálculo de R², R² ajustado y R² fuera de muestra usando modelos polinomiales."
   ]
  },
  {
   "cell_type": "code",
   "execution_count": null,
   "metadata": {
    "vscode": {
     "languageId": "r"
    }
   },
   "outputs": [
    {
     "name": "stderr",
     "output_type": "stream",
     "text": [
      "Warning message:\n",
      "\"'newdata' had 250 rows but variables found have 750 rows\"\n",
      "\u001b[1m\u001b[22mSaving 6.67 x 6.67 in image\n"
     ]
    },
    {
     "data": {
      "image/png": "[encoded data removed]",
      "text/plain": [
       "plot without title"
      ]
     },
     "metadata": {
      "image/png": {
       "height": 420,
       "width": 420
      }
     },
     "output_type": "display_data"
    },
    {
     "name": "stderr",
     "output_type": "stream",
     "text": [
      "\u001b[1m\u001b[22mSaving 6.67 x 6.67 in image\n"
     ]
    },
    {
     "data": {
      "image/png": "[encoded data removed]",
      "text/plain": [
       "plot without title"
      ]
     },
     "metadata": {
      "image/png": {
       "height": 420,
       "width": 420
      }
     },
     "output_type": "display_data"
    },
    {
     "name": "stderr",
     "output_type": "stream",
     "text": [
      "\u001b[1m\u001b[22mSaving 6.67 x 6.67 in image\n"
     ]
    },
    {
     "data": {
      "image/png": "[encoded data removed]",
      "text/plain": [
       "plot without title"
      ]
     },
     "metadata": {
      "image/png": {
       "height": 420,
       "width": 420
      }
     },
     "output_type": "display_data"
    }
   ],
   "source": [
    "library(ggplot2)\n",
    "set.seed(123)\n",
    "n <- 1000\n",
    "X <- runif(n, 0, 1)\n",
    "e <- rnorm(n, 0, 1)\n",
    "y <- exp(4 * X) + e \n",
    "\n",
    "mse <- function(y, y_hat) {\n",
    "  mean((y - y_hat)^2)\n",
    "}\n",
    "\n",
    "r2_manual <- function(y, y_hat) {\n",
    "  mse_val <- mse(y, y_hat)\n",
    "  1 - mse_val / mean(y^2)\n",
    "}\n",
    "\n",
    "r2_adjusted <- function(r2, n, k) {\n",
    "  if (k >= n - 1) return(NA)\n",
    "  1 - (1 - r2) * (n - 1) / (n - k - 1)\n",
    "}\n",
    "\n",
    "features_list <- c(1, 2, 5, 10, 20, 50, 100, 200, 500)\n",
    "r2_full <- c()\n",
    "r2_adj <- c()\n",
    "r2_out <- c()\n",
    "\n",
    "for (p in features_list) {\n",
    "  X_p <- sapply(1:p, function(i) X^i)\n",
    "  X_p <- as.data.frame(X_p)\n",
    "\n",
    "  model <- lm(y ~ ., data = X_p)\n",
    "  y_hat <- predict(model, X_p)\n",
    "\n",
    "  r2 <- r2_manual(y, y_hat)\n",
    "  r2_full <- c(r2_full, r2)\n",
    "  r2_adj <- c(r2_adj, r2_adjusted(r2, n, p))\n",
    "  \n",
    "  idx <- sample(1:n, size = 0.75*n)\n",
    "  trainX <- X_p[idx, ]\n",
    "  testX <- X_p[-idx, ]\n",
    "  trainY <- y[idx]\n",
    "  testY <- y[-idx]\n",
    "                \n",
    "  train_data <- data.frame(trainY = trainY, trainX)\n",
    "  test_data  <- data.frame(testY = testY, testX)\n",
    "                \n",
    "  model_train <- lm(trainY ~ ., data = train_data)\n",
    "  y_pred_test <- predict(model_train, test_data)\n",
    "                \n",
    "  r2_out <- c(r2_out, r2_manual(test_data$testY, y_pred_test))\n",
    "}\n",
    "\n",
    "df_results <- data.frame(\n",
    "  Features = features_list,\n",
    "  R2_full = r2_full,\n",
    "  R2_adj = r2_adj,\n",
    "  R2_out = r2_out\n",
    ")\n",
    "\n",
    "\n",
    "# Creamos la ruta de salida \"output\"\n",
    "output_path <- \"C:/Users/johnb/Documents/GitHub/causalai-2025/R/output\"\n",
    "dir.create(output_path, showWarnings = FALSE, recursive = TRUE)\n",
    "\n",
    "# Gráfico 1: R² en toda la muestra\n",
    "p1 <-ggplot(df_results, aes(x = Features, y = R2_full)) +\n",
    "  geom_line() + geom_point() +\n",
    "  scale_x_log10() +\n",
    "  labs(title = \"R² en toda la muestra (R)\", x = \"Número de features\", y = \"R²\")\n",
    "  print(p1)\n",
    "  ggsave(filename = \"r2_full_sample.png\", plot = p1, path = output_path)\n",
    "\n",
    "\n",
    "# Gráfico 2: R² ajustado\n",
    "p2 <-ggplot(df_results, aes(x = Features, y = R2_adj)) +\n",
    "  geom_line(color=\"orange\") + geom_point(color=\"orange\") +\n",
    "  scale_x_log10() +\n",
    "  labs(title = \"R² ajustado (R)\", x = \"Número de features\", y = \"R² ajustado\")\n",
    "  print(p2)\n",
    "  ggsave(filename = \"r2_adjusted.png\", plot = p2, path = output_path)\n",
    "\n",
    "\n",
    "# Gráfico 3: R² en test\n",
    "p3 <-ggplot(df_results, aes(x = Features, y = R2_out)) +\n",
    "  geom_line(color=\"green\") + geom_point(color=\"green\") +\n",
    "  scale_x_log10() +\n",
    "  labs(title = \"R² en test (R)\", x = \"Número de features\", y = \"R² fuera de muestra\")\n",
    "  print(p3)\n",
    "  ggsave(filename = \"r2_out_of_sample.png\", plot = p3, path = output_path)\n",
    "\n"
   ]
  },
  {
   "cell_type": "markdown",
   "metadata": {},
   "source": [
    "## Evaluación de resultados obtenidos\n",
    "\n",
    "En los tres gráficos se observa un patrón consistente en cuanto al incremento en el número de variables explicativas eleva rápidamente la capacidad explicativa del modelo hasta valores cercanos a uno, tanto en el R² de la muestra, como en el R² ajustado y el R² fuera de muestra.\n",
    "\n",
    "**R² en toda la muestra**:  \n",
    "A medida que se incorporan más regresores (X, X², …, Xᵖ), el modelo logra capturar de manera más precisa la relación no lineal entre X y Y. Este resultado es esperado porque las variables añadidas son relevantes, pues no se trata de ruido, sino de transformaciones con potencias directamente vinculadas con el proceso generador de datos.\n",
    "\n",
    "**R² ajustado**:  \n",
    "Normalmente, el R² ajustado penaliza la inclusión de regresores irrelevantes. Sin embargo, en este ejercicio, como todos los regresores contienen información relacionada con Y, la penalización no reduce significativamente el estadístico, que también se mantiene cercano a 1. Esto refleja que la ganancia de ajuste supera con claridad el costo de complejidad.\n",
    "\n",
    "**R² fuera de muestra**:  \n",
    "El desempeño en el conjunto de prueba confirma que no hay sobreajuste en sentido estricto. El modelo generaliza muy bien porque los regresores no son espurios; son potencias de X que reproducen la forma funcional subyacente de Y. En un escenario alternativo, donde hubiese regresores aleatorios o no correlacionados con la variable dependiente, el R² externo a la muestra caería cuando aumenta el número de variables, lo cual reflejaría el clásico problema de overfitting.\n"
   ]
  }
 ],
 "metadata": {
  "kernelspec": {
   "display_name": "R",
   "language": "R",
   "name": "ir"
  },
  "language_info": {
   "codemirror_mode": "r",
   "file_extension": ".r",
   "mimetype": "text/x-r-source",
   "name": "R",
   "pygments_lexer": "r",
   "version": "4.3.3"
  }
 },
 "nbformat": 4,
 "nbformat_minor": 5
}
