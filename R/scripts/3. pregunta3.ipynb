{
 "cells": [
  {
   "cell_type": "code",
   "execution_count": null,
   "id": "2e7941f5-1fb0-4b72-a15d-7ebe1cb40566",
   "metadata": {
    "vscode": {
     "languageId": "r"
    }
   },
   "outputs": [],
   "source": [
    "install.packages(\"readr\")\n",
    "library(readr)"
   ]
  },
  {
   "cell_type": "code",
   "execution_count": null,
   "id": "d9a0f8b6-3aeb-47a5-b483-65fe83ebddab",
   "metadata": {
    "vscode": {
     "languageId": "r"
    }
   },
   "outputs": [],
   "source": [
    "install.packages(\"dplyr\")\n",
    "library(dplyr)"
   ]
  },
  {
   "cell_type": "markdown",
   "id": "b187a1af-bf0a-47dd-a9f0-8beac629f691",
   "metadata": {},
   "source": [
    "Importar la Data"
   ]
  },
  {
   "cell_type": "code",
   "execution_count": null,
   "id": "c45f69ad-13b5-4e11-9d89-614435ac893c",
   "metadata": {
    "vscode": {
     "languageId": "r"
    }
   },
   "outputs": [],
   "source": [
    "data <- read.csv(\"C:/Users/johnb/Documents/GitHub/causalai-2025/R/input/apartments.csv\")"
   ]
  },
  {
   "cell_type": "code",
   "execution_count": null,
   "id": "81003299-8756-4ec4-ae8d-074dad7dd7f9",
   "metadata": {
    "vscode": {
     "languageId": "r"
    }
   },
   "outputs": [],
   "source": [
    "names(data)"
   ]
  },
  {
   "cell_type": "code",
   "execution_count": null,
   "id": "07ea4f25-917a-45d8-899c-5540a3551667",
   "metadata": {
    "vscode": {
     "languageId": "r"
    }
   },
   "outputs": [],
   "source": [
    "head(data)"
   ]
  },
  {
   "cell_type": "markdown",
   "id": "a6bebe3a-801b-47fd-b068-444608135f57",
   "metadata": {},
   "source": [
    "3a : data cleaning"
   ]
  },
  {
   "cell_type": "code",
   "execution_count": null,
   "id": "5672c120-1f26-41bb-b66b-dfd5da235006",
   "metadata": {
    "vscode": {
     "languageId": "r"
    }
   },
   "outputs": [],
   "source": [
    "area2=data$area^2"
   ]
  },
  {
   "cell_type": "code",
   "execution_count": null,
   "id": "75a84cb7-7b42-42e6-be1f-f3e1ca1af6b7",
   "metadata": {
    "vscode": {
     "languageId": "r"
    }
   },
   "outputs": [],
   "source": [
    "data$area2<-area2"
   ]
  },
  {
   "cell_type": "code",
   "execution_count": null,
   "id": "2ea2c9ba-1c67-41f2-8ac8-5c2b9cfde03e",
   "metadata": {
    "vscode": {
     "languageId": "r"
    }
   },
   "outputs": [],
   "source": [
    "data <- data %>%\n",
    "    mutate(\n",
    "        hasparkingspace = recode(hasparkingspace, \"yes\" = 1, \"no\" = 0),\n",
    "        hasbalcony = recode(hasbalcony, \"yes\" = 1, \"no\" = 0),\n",
    "        haselevator = recode(haselevator, \"yes\" = 1, \"no\" = 0),\n",
    "        hassecurity = recode(hassecurity, \"yes\" = 1, \"no\" = 0),\n",
    "        hasstorageroom = recode(hasstorageroom, \"yes\" = 1, \"no\" = 0)\n",
    "    )\n",
    "    \n"
   ]
  },
  {
   "cell_type": "code",
   "execution_count": null,
   "id": "2427d464-9bef-4a7a-9a39-ece39a79da8f",
   "metadata": {
    "vscode": {
     "languageId": "r"
    }
   },
   "outputs": [],
   "source": [
    "ud <- data$area %% 10"
   ]
  },
  {
   "cell_type": "code",
   "execution_count": null,
   "id": "7f5effdc-6a7c-4b71-b6a1-7cc4db673879",
   "metadata": {
    "vscode": {
     "languageId": "r"
    }
   },
   "outputs": [],
   "source": [
    "data$ud<-ud"
   ]
  },
  {
   "cell_type": "code",
   "execution_count": null,
   "id": "300e4fe0-a479-42d9-ab70-7405feeed56b",
   "metadata": {
    "vscode": {
     "languageId": "r"
    }
   },
   "outputs": [],
   "source": [
    "for (i in 0:9){\n",
    "    data[[paste0(\"ud_\",i)]]<-ifelse(data$ud==i,1,0)\n",
    "    }"
   ]
  },
  {
   "cell_type": "markdown",
   "id": "15f6b31a-753c-45f2-85c0-33a54891b9b7",
   "metadata": {},
   "source": [
    "3b : linear model estimation"
   ]
  },
  {
   "cell_type": "code",
   "execution_count": null,
   "id": "2debd8ca-da81-4ada-ad7b-f605bdb6b20c",
   "metadata": {
    "vscode": {
     "languageId": "r"
    }
   },
   "outputs": [],
   "source": [
    "data$month<-as.factor(data$month)\n",
    "data$type<-as.factor(data$type)\n",
    "data$rooms<-as.factor(data$rooms)\n",
    "data$ownership<-as.factor(data$ownership)\n",
    "data$buildingmaterial<-as.factor(data$buildingmaterial)"
   ]
  },
  {
   "cell_type": "code",
   "execution_count": null,
   "id": "c5cb7c3d-6725-4477-acce-cab6c34b2fa8",
   "metadata": {
    "vscode": {
     "languageId": "r"
    }
   },
   "outputs": [],
   "source": [
    "model<-lm(price~ud_0+ud_1+ud_2+ud_3+ud_4+ud_5+ud_6+ud_7+ud_8+area+area2+schooldistance+clinicdistance+postofficedistance+\n",
    "          kindergartendistance+collegedistance+pharmacydistance+ownership+buildingmaterial+hasparkingspace+hasbalcony+haselevator+\n",
    "          hassecurity+hasstorageroom, data=data)"
   ]
  },
  {
   "cell_type": "code",
   "execution_count": null,
   "id": "fbaea54e-feba-4412-8715-5b6a0fb37d1c",
   "metadata": {
    "vscode": {
     "languageId": "r"
    }
   },
   "outputs": [],
   "source": [
    "tabla<-summary(model)"
   ]
  },
  {
   "cell_type": "code",
   "execution_count": null,
   "id": "7d86a566-9f86-43f0-b341-d43319211d49",
   "metadata": {
    "vscode": {
     "languageId": "r"
    }
   },
   "outputs": [],
   "source": [
    "print(tabla)"
   ]
  },
  {
   "cell_type": "markdown",
   "id": "cfcd9a1a-27f7-4382-bdf8-71fefbabe135",
   "metadata": {},
   "source": [
    "**Comentario**:/n\n",
    "Lo que se ve en el coeficiente de ud_0 es un valor de 1.717e+04 y con una significancia de p-val 4.97e-05 ***./n\n",
    "Esto indica que existe una diferencia significativa entre la categoria base (area cuyo ulitmo digito termina es 9) y areas de departamentos /n\n",
    "que finalizan en 0. En concreto las areas con un metraje de ud0 tienen un precio 17170 polish zlotes mas alto en promedio que un departamento que no termina en 9."
   ]
  },
  {
   "cell_type": "markdown",
   "id": "a45a0923-1bfa-41fe-ae87-08d60330ffc7",
   "metadata": {},
   "source": [
    "**partialing out**"
   ]
  },
  {
   "cell_type": "code",
   "execution_count": null,
   "id": "c83c5f3a-59a7-4d7c-8257-d634c7371ef5",
   "metadata": {
    "vscode": {
     "languageId": "r"
    }
   },
   "outputs": [],
   "source": [
    "residuos_mc<-model$residuals"
   ]
  },
  {
   "cell_type": "code",
   "execution_count": null,
   "id": "c6e135ac-5ac8-409b-a042-d9739057c939",
   "metadata": {
    "vscode": {
     "languageId": "r"
    }
   },
   "outputs": [],
   "source": [
    "modelsinud0<-lm(price~ud_1+ud_2+ud_3+ud_4+ud_5+ud_6+ud_7+ud_8+area+area2+schooldistance+clinicdistance+postofficedistance+\n",
    "          kindergartendistance+collegedistance+pharmacydistance+ownership+buildingmaterial+hasparkingspace+hasbalcony+haselevator+\n",
    "          hassecurity+hasstorageroom, data=data)"
   ]
  },
  {
   "cell_type": "code",
   "execution_count": null,
   "id": "6c520d18-d80f-48fe-90a9-223ca19e5e18",
   "metadata": {
    "vscode": {
     "languageId": "r"
    }
   },
   "outputs": [],
   "source": [
    "residuos_msinud0<-modelsinud0$residuals"
   ]
  },
  {
   "cell_type": "code",
   "execution_count": null,
   "id": "500c822c-83c8-4199-a69a-63b608442d85",
   "metadata": {
    "vscode": {
     "languageId": "r"
    }
   },
   "outputs": [],
   "source": [
    "modelud0<-lm(ud_0~ud_1+ud_2+ud_3+ud_4+ud_5+ud_6+ud_7+ud_8+area+area2+schooldistance+clinicdistance+postofficedistance+\n",
    "          kindergartendistance+collegedistance+pharmacydistance+ownership+buildingmaterial+hasparkingspace+hasbalcony+haselevator+\n",
    "          hassecurity+hasstorageroom, data=data)"
   ]
  },
  {
   "cell_type": "code",
   "execution_count": null,
   "id": "6547fe97-437f-4a94-a0e7-1b0f4ef1c946",
   "metadata": {
    "vscode": {
     "languageId": "r"
    }
   },
   "outputs": [],
   "source": [
    "residuosud0<-modelud0$residuals"
   ]
  },
  {
   "cell_type": "code",
   "execution_count": null,
   "id": "ada9851e-131c-48c7-8598-8ac056e7cd08",
   "metadata": {
    "vscode": {
     "languageId": "r"
    }
   },
   "outputs": [],
   "source": [
    "p0model<-lm(residuos_msinud0~residuosud0,data=data)"
   ]
  },
  {
   "cell_type": "code",
   "execution_count": null,
   "id": "13fc1305-0095-4489-a45b-d96d1801c286",
   "metadata": {
    "vscode": {
     "languageId": "r"
    }
   },
   "outputs": [],
   "source": [
    "summary(p0model)"
   ]
  },
  {
   "cell_type": "code",
   "execution_count": null,
   "id": "87293163-3e8d-40d7-9393-19d6717244e3",
   "metadata": {
    "vscode": {
     "languageId": "r"
    }
   },
   "outputs": [],
   "source": [
    "coef(model)[2]"
   ]
  },
  {
   "cell_type": "code",
   "execution_count": null,
   "id": "03e37c36-56b4-49fb-aa68-b26de381f1ea",
   "metadata": {
    "vscode": {
     "languageId": "r"
    }
   },
   "outputs": [],
   "source": [
    "coef(p0model)[2]"
   ]
  },
  {
   "cell_type": "markdown",
   "id": "719737d4-7e25-40fd-a0c8-c90b717ac971",
   "metadata": {},
   "source": [
    "Comentario: *Como se puede ver el modelo con residuos y el modelo completo producen el mismo resultado*"
   ]
  },
  {
   "cell_type": "markdown",
   "id": "8b1740ec-df51-4225-80d3-3467c5dcebaf",
   "metadata": {},
   "source": [
    "3c: price premium for area that ends in 0 digit"
   ]
  },
  {
   "cell_type": "markdown",
   "id": "293162d2-1a97-42a2-b7e4-ff224a6c1e70",
   "metadata": {},
   "source": [
    "3c.1 data train"
   ]
  },
  {
   "cell_type": "code",
   "execution_count": null,
   "id": "957f2b48-431c-4697-8bef-f24b77afd821",
   "metadata": {
    "vscode": {
     "languageId": "r"
    }
   },
   "outputs": [],
   "source": [
    "datasinud0<-filter(data,ud_0==0)"
   ]
  },
  {
   "cell_type": "code",
   "execution_count": null,
   "id": "c81c50ab-8e07-4ae7-99b1-9e9cabca3dc6",
   "metadata": {
    "vscode": {
     "languageId": "r"
    }
   },
   "outputs": [],
   "source": [
    "modelnoud0<-lm(price~ud_1+ud_2+ud_3+ud_4+ud_5+ud_6+ud_7+ud_8+area+area2+schooldistance+clinicdistance+postofficedistance+\n",
    "          kindergartendistance+collegedistance+pharmacydistance+ownership+buildingmaterial+hasparkingspace+hasbalcony+haselevator+\n",
    "          hassecurity+hasstorageroom, data=datasinud0)"
   ]
  },
  {
   "cell_type": "markdown",
   "id": "2f43bed2-e178-48d4-8a6c-03acb2c6dd4c",
   "metadata": {},
   "source": [
    "predecir model con los coeficientes con modelnoud0\n"
   ]
  },
  {
   "cell_type": "markdown",
   "id": "3eec0309-d5ea-4029-aea0-45bd27372f0c",
   "metadata": {},
   "source": [
    "predecir modelo con data sin ud0"
   ]
  },
  {
   "cell_type": "code",
   "execution_count": null,
   "id": "90f49c90-074d-4fb6-929c-b97ff634b120",
   "metadata": {
    "vscode": {
     "languageId": "r"
    }
   },
   "outputs": [],
   "source": [
    "price_predicted<-predict(modelnoud0,data)"
   ]
  },
  {
   "cell_type": "code",
   "execution_count": null,
   "id": "d8400770-bae1-4ff6-96f8-ff7dc3aed5d2",
   "metadata": {
    "vscode": {
     "languageId": "r"
    }
   },
   "outputs": [],
   "source": [
    "data.frame(price_predicted,data$ud_0)"
   ]
  },
  {
   "cell_type": "code",
   "execution_count": null,
   "id": "f5e04bf7-69b5-4871-8bf3-730f86fd3acf",
   "metadata": {
    "vscode": {
     "languageId": "r"
    }
   },
   "outputs": [],
   "source": [
    "ver<-data.frame(data$price, price_predicted)"
   ]
  },
  {
   "cell_type": "code",
   "execution_count": null,
   "id": "e2dd99c7-ab14-4b35-8ce2-7ba49d41959f",
   "metadata": {
    "vscode": {
     "languageId": "r"
    }
   },
   "outputs": [],
   "source": [
    "ver"
   ]
  },
  {
   "cell_type": "markdown",
   "id": "00974187-2cff-4a92-ba43-5817b210cb6d",
   "metadata": {},
   "source": [
    "3c.3 : comparar promedios"
   ]
  },
  {
   "cell_type": "code",
   "execution_count": null,
   "id": "f0fef668-d52f-43db-aacd-39a18c4d15a0",
   "metadata": {
    "vscode": {
     "languageId": "r"
    }
   },
   "outputs": [],
   "source": [
    "data$predecido<-price_predicted"
   ]
  },
  {
   "cell_type": "code",
   "execution_count": null,
   "id": "583b5d4d-bf0e-416f-8cdc-3c46bae4eccb",
   "metadata": {
    "vscode": {
     "languageId": "r"
    }
   },
   "outputs": [],
   "source": [
    "dataud0<-filter(data,ud_0==1)"
   ]
  },
  {
   "cell_type": "code",
   "execution_count": null,
   "id": "c7c9a024-da4d-48b8-b067-5cdef5fefd5a",
   "metadata": {
    "vscode": {
     "languageId": "r"
    }
   },
   "outputs": [],
   "source": [
    "avgprice<-mean(dataud0$price)"
   ]
  },
  {
   "cell_type": "code",
   "execution_count": null,
   "id": "039d157c-0783-46d6-9988-c5d0c56c9f27",
   "metadata": {
    "vscode": {
     "languageId": "r"
    }
   },
   "outputs": [],
   "source": [
    " avgpredicted<-mean(dataud0$predecido,na.rm=T)"
   ]
  },
  {
   "cell_type": "code",
   "execution_count": null,
   "id": "13f614c7-2ddd-41f0-9b2a-7689db788739",
   "metadata": {
    "vscode": {
     "languageId": "r"
    }
   },
   "outputs": [],
   "source": [
    "Comparisson=data.frame(avgprice,avgpredicted)"
   ]
  },
  {
   "cell_type": "code",
   "execution_count": null,
   "id": "1111a70f-042f-411e-8644-81598806df54",
   "metadata": {
    "vscode": {
     "languageId": "r"
    }
   },
   "outputs": [],
   "source": [
    "Comparisson"
   ]
  },
  {
   "cell_type": "markdown",
   "id": "3cb9a2b4-f92a-4627-9430-152b4aedd6a4",
   "metadata": {},
   "source": [
    "**Comentario** : el sesgo viene por parte de que las personas se fijan mas en que el terreno termine en 0 , que en las caracteristicas propias del departamento como numero de cuartos o si tiene asensor. "
   ]
  }
 ],
 "metadata": {
  "kernelspec": {
   "display_name": "R",
   "language": "R",
   "name": "ir"
  },
  "language_info": {
   "codemirror_mode": "r",
   "file_extension": ".r",
   "mimetype": "text/x-r-source",
   "name": "R",
   "pygments_lexer": "r",
   "version": "4.3.3"
  }
 },
 "nbformat": 4,
 "nbformat_minor": 5
}
