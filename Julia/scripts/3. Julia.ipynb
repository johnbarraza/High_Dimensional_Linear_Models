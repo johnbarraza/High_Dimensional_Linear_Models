{
 "cells": [
  {
   "cell_type": "code",
   "execution_count": 1,
   "id": "8240ea02-8d25-44c0-9be5-4b4a77518f10",
   "metadata": {},
   "outputs": [
    {
     "name": "stderr",
     "output_type": "stream",
     "text": [
      "\u001b[32m\u001b[1m    Updating\u001b[22m\u001b[39m registry at `C:\\Users\\carlo\\.julia\\registries\\General.toml`\n",
      "\u001b[32m\u001b[1m   Resolving\u001b[22m\u001b[39m package versions...\n",
      "\u001b[32m\u001b[1m   Installed\u001b[22m\u001b[39m DataAPI ───────────────────── v1.16.0\n",
      "\u001b[32m\u001b[1m   Installed\u001b[22m\u001b[39m IteratorInterfaceExtensions ─ v1.0.0\n",
      "\u001b[32m\u001b[1m   Installed\u001b[22m\u001b[39m SentinelArrays ────────────── v1.4.8\n",
      "\u001b[32m\u001b[1m   Installed\u001b[22m\u001b[39m PooledArrays ──────────────── v1.4.3\n",
      "\u001b[32m\u001b[1m   Installed\u001b[22m\u001b[39m Tables ────────────────────── v1.12.1\n",
      "\u001b[32m\u001b[1m   Installed\u001b[22m\u001b[39m InlineStrings ─────────────── v1.4.5\n",
      "\u001b[32m\u001b[1m   Installed\u001b[22m\u001b[39m TableTraits ───────────────── v1.0.1\n",
      "\u001b[32m\u001b[1m   Installed\u001b[22m\u001b[39m Compat ────────────────────── v4.18.0\n",
      "\u001b[32m\u001b[1m   Installed\u001b[22m\u001b[39m DataValueInterfaces ───────── v1.0.0\n",
      "\u001b[32m\u001b[1m   Installed\u001b[22m\u001b[39m CSV ───────────────────────── v0.10.15\n",
      "\u001b[32m\u001b[1m   Installed\u001b[22m\u001b[39m WorkerUtilities ───────────── v1.6.1\n",
      "\u001b[32m\u001b[1m   Installed\u001b[22m\u001b[39m WeakRefStrings ────────────── v1.4.2\n",
      "\u001b[32m\u001b[1m   Installed\u001b[22m\u001b[39m OrderedCollections ────────── v1.8.1\n",
      "\u001b[32m\u001b[1m   Installed\u001b[22m\u001b[39m FilePathsBase ─────────────── v0.9.24\n",
      "\u001b[32m\u001b[1m   Installed\u001b[22m\u001b[39m TranscodingStreams ────────── v0.11.3\n",
      "\u001b[32m\u001b[1m   Installed\u001b[22m\u001b[39m CodecZlib ─────────────────── v0.7.8\n",
      "\u001b[32m\u001b[1m    Updating\u001b[22m\u001b[39m `C:\\Users\\carlo\\.julia\\environments\\v1.11\\Project.toml`\n",
      "  \u001b[90m[336ed68f] \u001b[39m\u001b[92m+ CSV v0.10.15\u001b[39m\n",
      "\u001b[32m\u001b[1m    Updating\u001b[22m\u001b[39m `C:\\Users\\carlo\\.julia\\environments\\v1.11\\Manifest.toml`\n",
      "  \u001b[90m[336ed68f] \u001b[39m\u001b[92m+ CSV v0.10.15\u001b[39m\n",
      "  \u001b[90m[944b1d66] \u001b[39m\u001b[92m+ CodecZlib v0.7.8\u001b[39m\n",
      "  \u001b[90m[34da2185] \u001b[39m\u001b[92m+ Compat v4.18.0\u001b[39m\n",
      "  \u001b[90m[9a962f9c] \u001b[39m\u001b[92m+ DataAPI v1.16.0\u001b[39m\n",
      "  \u001b[90m[e2d170a0] \u001b[39m\u001b[92m+ DataValueInterfaces v1.0.0\u001b[39m\n",
      "  \u001b[90m[48062228] \u001b[39m\u001b[92m+ FilePathsBase v0.9.24\u001b[39m\n",
      "  \u001b[90m[842dd82b] \u001b[39m\u001b[92m+ InlineStrings v1.4.5\u001b[39m\n",
      "  \u001b[90m[82899510] \u001b[39m\u001b[92m+ IteratorInterfaceExtensions v1.0.0\u001b[39m\n",
      "  \u001b[90m[bac558e1] \u001b[39m\u001b[92m+ OrderedCollections v1.8.1\u001b[39m\n",
      "  \u001b[90m[2dfb63ee] \u001b[39m\u001b[92m+ PooledArrays v1.4.3\u001b[39m\n",
      "  \u001b[90m[91c51154] \u001b[39m\u001b[92m+ SentinelArrays v1.4.8\u001b[39m\n",
      "  \u001b[90m[3783bdb8] \u001b[39m\u001b[92m+ TableTraits v1.0.1\u001b[39m\n",
      "  \u001b[90m[bd369af6] \u001b[39m\u001b[92m+ Tables v1.12.1\u001b[39m\n",
      "  \u001b[90m[3bb67fe8] \u001b[39m\u001b[92m+ TranscodingStreams v0.11.3\u001b[39m\n",
      "  \u001b[90m[ea10d353] \u001b[39m\u001b[92m+ WeakRefStrings v1.4.2\u001b[39m\n",
      "  \u001b[90m[76eceee3] \u001b[39m\u001b[92m+ WorkerUtilities v1.6.1\u001b[39m\n",
      "  \u001b[90m[9fa8497b] \u001b[39m\u001b[92m+ Future v1.11.0\u001b[39m\n",
      " project...ecompiling\u001b[22m\u001b[39m\n",
      "    415.3 ms\u001b[32m  ✓ \u001b[39m\u001b[90mIteratorInterfaceExtensions\u001b[39m\n",
      "    488.7 ms\u001b[32m  ✓ \u001b[39m\u001b[90mDataValueInterfaces\u001b[39m\n",
      "    494.2 ms\u001b[32m  ✓ \u001b[39m\u001b[90mDataAPI\u001b[39m\n",
      "    568.8 ms\u001b[32m  ✓ \u001b[39m\u001b[90mWorkerUtilities\u001b[39m\n",
      "    760.7 ms\u001b[32m  ✓ \u001b[39m\u001b[90mOrderedCollections\u001b[39m\n",
      "    703.2 ms\u001b[32m  ✓ \u001b[39m\u001b[90mInlineStrings\u001b[39m\n",
      "    749.8 ms\u001b[32m  ✓ \u001b[39m\u001b[90mTranscodingStreams\u001b[39m\n",
      "    727.7 ms\u001b[32m  ✓ \u001b[39m\u001b[90mCompat\u001b[39m\n",
      "   1136.2 ms\u001b[32m  ✓ \u001b[39m\u001b[90mSentinelArrays\u001b[39m\n",
      "    679.6 ms\u001b[32m  ✓ \u001b[39m\u001b[90mFilePathsBase\u001b[39m\n",
      "   1265.1 ms\u001b[32m  ✓ \u001b[39m\u001b[90mTableTraits\u001b[39m\n",
      "   1621.5 ms\u001b[32m  ✓ \u001b[39m\u001b[90mPooledArrays\u001b[39m\n",
      "   1645.6 ms\u001b[32m  ✓ \u001b[39m\u001b[90mInlineStrings → ParsersExt\u001b[39m\n",
      "   1572.7 ms\u001b[32m  ✓ \u001b[39m\u001b[90mCodecZlib\u001b[39m\n",
      "   1309.4 ms\u001b[32m  ✓ \u001b[39m\u001b[90mFilePathsBase → FilePathsBaseMmapExt\u001b[39m\n",
      "   1407.4 ms\u001b[32m  ✓ \u001b[39m\u001b[90mWeakRefStrings\u001b[39m\n",
      "   3776.8 ms\u001b[32m  ✓ \u001b[39m\u001b[90mTables\u001b[39m\n",
      "  13409.3 ms\u001b[32m  ✓ \u001b[39mCSV\n",
      "  18 dependencies successfully precompiled in 20 seconds. 40 already precompiled.\n",
      "\u001b[32m\u001b[1m   Resolving\u001b[22m\u001b[39m package versions...\n",
      "\u001b[32m\u001b[1m   Installed\u001b[22m\u001b[39m InvertedIndices ──── v1.3.1\n",
      "\u001b[32m\u001b[1m   Installed\u001b[22m\u001b[39m Crayons ──────────── v4.1.1\n",
      "\u001b[32m\u001b[1m   Installed\u001b[22m\u001b[39m PrettyTables ─────── v2.4.0\n",
      "\u001b[32m\u001b[1m   Installed\u001b[22m\u001b[39m DataFrames ───────── v1.7.1\n",
      "\u001b[32m\u001b[1m   Installed\u001b[22m\u001b[39m Statistics ───────── v1.11.1\n",
      "\u001b[32m\u001b[1m   Installed\u001b[22m\u001b[39m Reexport ─────────── v1.2.2\n",
      "\u001b[32m\u001b[1m   Installed\u001b[22m\u001b[39m DataStructures ───── v0.19.1\n",
      "\u001b[32m\u001b[1m   Installed\u001b[22m\u001b[39m LaTeXStrings ─────── v1.4.0\n",
      "\u001b[32m\u001b[1m   Installed\u001b[22m\u001b[39m StringManipulation ─ v0.4.1\n",
      "\u001b[32m\u001b[1m   Installed\u001b[22m\u001b[39m Missings ─────────── v1.2.0\n",
      "\u001b[32m\u001b[1m   Installed\u001b[22m\u001b[39m SortingAlgorithms ── v1.2.2\n",
      "\u001b[32m\u001b[1m    Updating\u001b[22m\u001b[39m `C:\\Users\\carlo\\.julia\\environments\\v1.11\\Project.toml`\n",
      "  \u001b[90m[a93c6f00] \u001b[39m\u001b[92m+ DataFrames v1.7.1\u001b[39m\n",
      "\u001b[32m\u001b[1m    Updating\u001b[22m\u001b[39m `C:\\Users\\carlo\\.julia\\environments\\v1.11\\Manifest.toml`\n",
      "  \u001b[90m[a8cc5b0e] \u001b[39m\u001b[92m+ Crayons v4.1.1\u001b[39m\n",
      "  \u001b[90m[a93c6f00] \u001b[39m\u001b[92m+ DataFrames v1.7.1\u001b[39m\n",
      "  \u001b[90m[864edb3b] \u001b[39m\u001b[92m+ DataStructures v0.19.1\u001b[39m\n",
      "  \u001b[90m[41ab1584] \u001b[39m\u001b[92m+ InvertedIndices v1.3.1\u001b[39m\n",
      "  \u001b[90m[b964fa9f] \u001b[39m\u001b[92m+ LaTeXStrings v1.4.0\u001b[39m\n",
      "  \u001b[90m[e1d29d7a] \u001b[39m\u001b[92m+ Missings v1.2.0\u001b[39m\n",
      "\u001b[33m⌅\u001b[39m \u001b[90m[08abe8d2] \u001b[39m\u001b[92m+ PrettyTables v2.4.0\u001b[39m\n",
      "  \u001b[90m[189a3867] \u001b[39m\u001b[92m+ Reexport v1.2.2\u001b[39m\n",
      "  \u001b[90m[a2af1166] \u001b[39m\u001b[92m+ SortingAlgorithms v1.2.2\u001b[39m\n",
      "  \u001b[90m[10745b16] \u001b[39m\u001b[92m+ Statistics v1.11.1\u001b[39m\n",
      "  \u001b[90m[892a3eda] \u001b[39m\u001b[92m+ StringManipulation v0.4.1\u001b[39m\n",
      "  \u001b[90m[37e2e46d] \u001b[39m\u001b[92m+ LinearAlgebra v1.11.0\u001b[39m\n",
      "  \u001b[90m[e66e0078] \u001b[39m\u001b[92m+ CompilerSupportLibraries_jll v1.1.1+0\u001b[39m\n",
      "  \u001b[90m[4536629a] \u001b[39m\u001b[92m+ OpenBLAS_jll v0.3.27+1\u001b[39m\n",
      "  \u001b[90m[8e850b90] \u001b[39m\u001b[92m+ libblastrampoline_jll v5.11.0+0\u001b[39m\n",
      "\u001b[36m\u001b[1m        Info\u001b[22m\u001b[39m Packages marked with \u001b[33m⌅\u001b[39m have new versions available but compatibility constraints restrict them from upgrading. To see why use `status --outdated -m`\n",
      " project...ecompiling\u001b[22m\u001b[39m\n",
      "    398.2 ms\u001b[32m  ✓ \u001b[39m\u001b[90mReexport\u001b[39m\n",
      "    489.1 ms\u001b[32m  ✓ \u001b[39m\u001b[90mLaTeXStrings\u001b[39m\n",
      "    446.1 ms\u001b[32m  ✓ \u001b[39m\u001b[90mInvertedIndices\u001b[39m\n",
      "    547.8 ms\u001b[32m  ✓ \u001b[39m\u001b[90mStatistics\u001b[39m\n",
      "    528.6 ms\u001b[32m  ✓ \u001b[39m\u001b[90mMissings\u001b[39m\n",
      "    955.5 ms\u001b[32m  ✓ \u001b[39m\u001b[90mCrayons\u001b[39m\n",
      "   1403.5 ms\u001b[32m  ✓ \u001b[39m\u001b[90mDataStructures\u001b[39m\n",
      "   1383.3 ms\u001b[32m  ✓ \u001b[39m\u001b[90mCompat → CompatLinearAlgebraExt\u001b[39m\n",
      "   1390.0 ms\u001b[32m  ✓ \u001b[39m\u001b[90mStringManipulation\u001b[39m\n",
      "   1297.0 ms\u001b[32m  ✓ \u001b[39m\u001b[90mSortingAlgorithms\u001b[39m\n",
      "  13054.8 ms\u001b[32m  ✓ \u001b[39m\u001b[90mPrettyTables\u001b[39m\n",
      "  26219.3 ms\u001b[32m  ✓ \u001b[39mDataFrames\n",
      "  12 dependencies successfully precompiled in 41 seconds. 59 already precompiled.\n"
     ]
    }
   ],
   "source": [
    "using Pkg\n",
    "Pkg.add(\"CSV\")\n",
    "Pkg.add(\"DataFrames\")"
   ]
  },
  {
   "cell_type": "code",
   "execution_count": 2,
   "id": "43374863-5d3a-4f79-8470-e9e83c817c39",
   "metadata": {},
   "outputs": [
    {
     "data": {
      "text/html": [
       "<div><div style = \"float: left;\"><span>110191×21 DataFrame</span></div><div style = \"float: right;\"><span style = \"font-style: italic;\">110166 rows omitted</span></div><div style = \"clear: both;\"></div></div><div class = \"data-frame\" style = \"overflow-x: scroll;\"><table class = \"data-frame\" style = \"margin-bottom: 6px;\"><thead><tr class = \"header\"><th class = \"rowNumber\" style = \"font-weight: bold; text-align: right;\">Row</th><th style = \"text-align: left;\">id</th><th style = \"text-align: left;\">price</th><th style = \"text-align: left;\">month</th><th style = \"text-align: left;\">area</th><th style = \"text-align: left;\">type</th><th style = \"text-align: left;\">rooms</th><th style = \"text-align: left;\">centredistance</th><th style = \"text-align: left;\">schooldistance</th><th style = \"text-align: left;\">clinicdistance</th><th style = \"text-align: left;\">postofficedistance</th><th style = \"text-align: left;\">kindergartendistance</th><th style = \"text-align: left;\">restaurantdistance</th><th style = \"text-align: left;\">collegedistance</th><th style = \"text-align: left;\">pharmacydistance</th><th style = \"text-align: left;\">ownership</th><th style = \"text-align: left;\">buildingmaterial</th><th style = \"text-align: left;\">hasparkingspace</th><th style = \"text-align: left;\">hasbalcony</th><th style = \"text-align: left;\">haselevator</th><th style = \"text-align: left;\">hassecurity</th><th style = \"text-align: left;\">hasstorageroom</th></tr><tr class = \"subheader headerLastRow\"><th class = \"rowNumber\" style = \"font-weight: bold; text-align: right;\"></th><th title = \"String\" style = \"text-align: left;\">String</th><th title = \"Int64\" style = \"text-align: left;\">Int64</th><th title = \"Int64\" style = \"text-align: left;\">Int64</th><th title = \"Int64\" style = \"text-align: left;\">Int64</th><th title = \"Union{Missing, String31}\" style = \"text-align: left;\">String31?</th><th title = \"Int64\" style = \"text-align: left;\">Int64</th><th title = \"Float64\" style = \"text-align: left;\">Float64</th><th title = \"Union{Missing, Float64}\" style = \"text-align: left;\">Float64?</th><th title = \"Union{Missing, Float64}\" style = \"text-align: left;\">Float64?</th><th title = \"Union{Missing, Float64}\" style = \"text-align: left;\">Float64?</th><th title = \"Union{Missing, Float64}\" style = \"text-align: left;\">Float64?</th><th title = \"Union{Missing, Float64}\" style = \"text-align: left;\">Float64?</th><th title = \"Union{Missing, Float64}\" style = \"text-align: left;\">Float64?</th><th title = \"Union{Missing, Float64}\" style = \"text-align: left;\">Float64?</th><th title = \"String15\" style = \"text-align: left;\">String15</th><th title = \"Union{Missing, String15}\" style = \"text-align: left;\">String15?</th><th title = \"String3\" style = \"text-align: left;\">String3</th><th title = \"String3\" style = \"text-align: left;\">String3</th><th title = \"Union{Missing, String3}\" style = \"text-align: left;\">String3?</th><th title = \"String3\" style = \"text-align: left;\">String3</th><th title = \"String3\" style = \"text-align: left;\">String3</th></tr></thead><tbody><tr><td class = \"rowNumber\" style = \"font-weight: bold; text-align: right;\">1</td><td style = \"text-align: left;\">a01d82c9529f98a54d64b9e061c9a73b</td><td style = \"text-align: right;\">1199999</td><td style = \"text-align: right;\">1</td><td style = \"text-align: right;\">105</td><td style = \"text-align: left;\">apartmentBuilding</td><td style = \"text-align: right;\">4</td><td style = \"text-align: right;\">5.06</td><td style = \"text-align: right;\">1.08</td><td style = \"text-align: right;\">0.949</td><td style = \"text-align: right;\">0.623</td><td style = \"text-align: right;\">0.791</td><td style = \"text-align: right;\">1.054</td><td style = \"text-align: right;\">3.062</td><td style = \"text-align: right;\">0.335</td><td style = \"text-align: left;\">condominium</td><td style = \"text-align: left;\">brick</td><td style = \"text-align: left;\">no</td><td style = \"text-align: left;\">yes</td><td style = \"text-align: left;\">yes</td><td style = \"text-align: left;\">no</td><td style = \"text-align: left;\">no</td></tr><tr><td class = \"rowNumber\" style = \"font-weight: bold; text-align: right;\">2</td><td style = \"text-align: left;\">8373aa373dbc3fe7ca3b7434166b8766</td><td style = \"text-align: right;\">650000</td><td style = \"text-align: right;\">1</td><td style = \"text-align: right;\">73</td><td style = \"text-align: left;\">tenement</td><td style = \"text-align: right;\">3</td><td style = \"text-align: right;\">3.24</td><td style = \"text-align: right;\">0.275</td><td style = \"text-align: right;\">0.672</td><td style = \"text-align: right;\">0.367</td><td style = \"text-align: right;\">0.246</td><td style = \"text-align: right;\">0.3</td><td style = \"text-align: right;\">1.857</td><td style = \"text-align: right;\">0.28</td><td style = \"text-align: left;\">condominium</td><td style = \"text-align: left;\">brick</td><td style = \"text-align: left;\">no</td><td style = \"text-align: left;\">no</td><td style = \"text-align: left;\">no</td><td style = \"text-align: left;\">no</td><td style = \"text-align: left;\">no</td></tr><tr><td class = \"rowNumber\" style = \"font-weight: bold; text-align: right;\">3</td><td style = \"text-align: left;\">7d0c31d5409caab173571cce3dcdf702</td><td style = \"text-align: right;\">590000</td><td style = \"text-align: right;\">1</td><td style = \"text-align: right;\">69</td><td style = \"text-align: left;\">blockOfFlats</td><td style = \"text-align: right;\">3</td><td style = \"text-align: right;\">3.94</td><td style = \"text-align: right;\">0.139</td><td style = \"text-align: right;\">1.336</td><td style = \"text-align: right;\">0.926</td><td style = \"text-align: right;\">0.93</td><td style = \"text-align: right;\">0.071</td><td style = \"text-align: right;\">0.786</td><td style = \"text-align: right;\">0.304</td><td style = \"text-align: left;\">condominium</td><td style = \"text-align: left;\">brick</td><td style = \"text-align: left;\">no</td><td style = \"text-align: left;\">yes</td><td style = \"text-align: left;\">no</td><td style = \"text-align: left;\">no</td><td style = \"text-align: left;\">yes</td></tr><tr><td class = \"rowNumber\" style = \"font-weight: bold; text-align: right;\">4</td><td style = \"text-align: left;\">3eaa36a59b9354206703b5f6b2f2ff1d</td><td style = \"text-align: right;\">584999</td><td style = \"text-align: right;\">1</td><td style = \"text-align: right;\">42</td><td style = \"text-align: left;\">blockOfFlats</td><td style = \"text-align: right;\">2</td><td style = \"text-align: right;\">5.19</td><td style = \"text-align: right;\">0.209</td><td style = \"text-align: right;\">1.533</td><td style = \"text-align: right;\">0.201</td><td style = \"text-align: right;\">0.319</td><td style = \"text-align: right;\">0.157</td><td style = \"text-align: right;\">2.722</td><td style = \"text-align: right;\">0.257</td><td style = \"text-align: left;\">condominium</td><td style = \"font-style: italic; text-align: left;\">missing</td><td style = \"text-align: left;\">no</td><td style = \"text-align: left;\">yes</td><td style = \"text-align: left;\">no</td><td style = \"text-align: left;\">no</td><td style = \"text-align: left;\">no</td></tr><tr><td class = \"rowNumber\" style = \"font-weight: bold; text-align: right;\">5</td><td style = \"text-align: left;\">027b30cebbc49faf3094421b741ddd56</td><td style = \"text-align: right;\">363000</td><td style = \"text-align: right;\">1</td><td style = \"text-align: right;\">46</td><td style = \"text-align: left;\">blockOfFlats</td><td style = \"text-align: right;\">2</td><td style = \"text-align: right;\">1.65</td><td style = \"text-align: right;\">0.25</td><td style = \"text-align: right;\">0.624</td><td style = \"text-align: right;\">0.51</td><td style = \"text-align: right;\">0.177</td><td style = \"text-align: right;\">0.232</td><td style = \"text-align: right;\">0.986</td><td style = \"text-align: right;\">0.273</td><td style = \"text-align: left;\">condominium</td><td style = \"text-align: left;\">concreteSlab</td><td style = \"text-align: left;\">no</td><td style = \"text-align: left;\">no</td><td style = \"text-align: left;\">no</td><td style = \"text-align: left;\">no</td><td style = \"text-align: left;\">yes</td></tr><tr><td class = \"rowNumber\" style = \"font-weight: bold; text-align: right;\">6</td><td style = \"text-align: left;\">27437e173a8c37d5002c0bf69c848b7c</td><td style = \"text-align: right;\">717000</td><td style = \"text-align: right;\">1</td><td style = \"text-align: right;\">81</td><td style = \"text-align: left;\">tenement</td><td style = \"text-align: right;\">3</td><td style = \"text-align: right;\">1.76</td><td style = \"text-align: right;\">0.083</td><td style = \"text-align: right;\">0.257</td><td style = \"text-align: right;\">0.294</td><td style = \"text-align: right;\">0.151</td><td style = \"text-align: right;\">0.102</td><td style = \"text-align: right;\">0.256</td><td style = \"text-align: right;\">0.301</td><td style = \"text-align: left;\">condominium</td><td style = \"text-align: left;\">brick</td><td style = \"text-align: left;\">no</td><td style = \"text-align: left;\">no</td><td style = \"text-align: left;\">no</td><td style = \"text-align: left;\">no</td><td style = \"text-align: left;\">yes</td></tr><tr><td class = \"rowNumber\" style = \"font-weight: bold; text-align: right;\">7</td><td style = \"text-align: left;\">39404087c054348c27522c74ca21a973</td><td style = \"text-align: right;\">689000</td><td style = \"text-align: right;\">1</td><td style = \"text-align: right;\">70</td><td style = \"text-align: left;\">blockOfFlats</td><td style = \"text-align: right;\">3</td><td style = \"text-align: right;\">3.35</td><td style = \"text-align: right;\">0.269</td><td style = \"text-align: right;\">1.364</td><td style = \"text-align: right;\">0.247</td><td style = \"text-align: right;\">0.122</td><td style = \"text-align: right;\">0.388</td><td style = \"text-align: right;\">1.589</td><td style = \"text-align: right;\">0.194</td><td style = \"text-align: left;\">cooperative</td><td style = \"text-align: left;\">concreteSlab</td><td style = \"text-align: left;\">no</td><td style = \"text-align: left;\">yes</td><td style = \"text-align: left;\">yes</td><td style = \"text-align: left;\">no</td><td style = \"text-align: left;\">yes</td></tr><tr><td class = \"rowNumber\" style = \"font-weight: bold; text-align: right;\">8</td><td style = \"text-align: left;\">7a3b00507c086fcf83562f22bb5d01fc</td><td style = \"text-align: right;\">790000</td><td style = \"text-align: right;\">1</td><td style = \"text-align: right;\">67</td><td style = \"text-align: left;\">apartmentBuilding</td><td style = \"text-align: right;\">3</td><td style = \"text-align: right;\">1.61</td><td style = \"text-align: right;\">0.501</td><td style = \"text-align: right;\">0.973</td><td style = \"text-align: right;\">0.713</td><td style = \"text-align: right;\">0.067</td><td style = \"text-align: right;\">0.052</td><td style = \"text-align: right;\">0.988</td><td style = \"text-align: right;\">0.215</td><td style = \"text-align: left;\">condominium</td><td style = \"text-align: left;\">brick</td><td style = \"text-align: left;\">yes</td><td style = \"text-align: left;\">yes</td><td style = \"text-align: left;\">yes</td><td style = \"text-align: left;\">no</td><td style = \"text-align: left;\">no</td></tr><tr><td class = \"rowNumber\" style = \"font-weight: bold; text-align: right;\">9</td><td style = \"text-align: left;\">24af7cc54099d7930535543827604a9d</td><td style = \"text-align: right;\">560000</td><td style = \"text-align: right;\">1</td><td style = \"text-align: right;\">69</td><td style = \"text-align: left;\">blockOfFlats</td><td style = \"text-align: right;\">3</td><td style = \"text-align: right;\">2.29</td><td style = \"text-align: right;\">0.371</td><td style = \"text-align: right;\">0.592</td><td style = \"text-align: right;\">0.213</td><td style = \"text-align: right;\">0.222</td><td style = \"text-align: right;\">0.24</td><td style = \"text-align: right;\">0.583</td><td style = \"text-align: right;\">0.721</td><td style = \"text-align: left;\">condominium</td><td style = \"text-align: left;\">brick</td><td style = \"text-align: left;\">no</td><td style = \"text-align: left;\">yes</td><td style = \"text-align: left;\">no</td><td style = \"text-align: left;\">no</td><td style = \"text-align: left;\">yes</td></tr><tr><td class = \"rowNumber\" style = \"font-weight: bold; text-align: right;\">10</td><td style = \"text-align: left;\">7ebe2d0eeb6231486f90c5835c695cd7</td><td style = \"text-align: right;\">590000</td><td style = \"text-align: right;\">1</td><td style = \"text-align: right;\">56</td><td style = \"text-align: left;\">blockOfFlats</td><td style = \"text-align: right;\">2</td><td style = \"text-align: right;\">4.27</td><td style = \"text-align: right;\">0.509</td><td style = \"text-align: right;\">0.081</td><td style = \"text-align: right;\">0.126</td><td style = \"text-align: right;\">0.381</td><td style = \"text-align: right;\">0.227</td><td style = \"text-align: right;\">1.685</td><td style = \"text-align: right;\">0.186</td><td style = \"text-align: left;\">condominium</td><td style = \"text-align: left;\">brick</td><td style = \"text-align: left;\">no</td><td style = \"text-align: left;\">no</td><td style = \"text-align: left;\">no</td><td style = \"text-align: left;\">no</td><td style = \"text-align: left;\">yes</td></tr><tr><td class = \"rowNumber\" style = \"font-weight: bold; text-align: right;\">11</td><td style = \"text-align: left;\">209a6d2dea99216bdf83a968343cd3b3</td><td style = \"text-align: right;\">390000</td><td style = \"text-align: right;\">1</td><td style = \"text-align: right;\">61</td><td style = \"text-align: left;\">tenement</td><td style = \"text-align: right;\">2</td><td style = \"text-align: right;\">8.16</td><td style = \"text-align: right;\">0.149</td><td style = \"text-align: right;\">1.68</td><td style = \"text-align: right;\">0.534</td><td style = \"text-align: right;\">1.294</td><td style = \"text-align: right;\">1.527</td><td style = \"text-align: right;\">3.72</td><td style = \"text-align: right;\">1.521</td><td style = \"text-align: left;\">condominium</td><td style = \"text-align: left;\">brick</td><td style = \"text-align: left;\">no</td><td style = \"text-align: left;\">no</td><td style = \"text-align: left;\">no</td><td style = \"text-align: left;\">no</td><td style = \"text-align: left;\">yes</td></tr><tr><td class = \"rowNumber\" style = \"font-weight: bold; text-align: right;\">12</td><td style = \"text-align: left;\">bac1869ad9c2c1ef444b0ba6d225761a</td><td style = \"text-align: right;\">599000</td><td style = \"text-align: right;\">1</td><td style = \"text-align: right;\">78</td><td style = \"text-align: left;\">tenement</td><td style = \"text-align: right;\">3</td><td style = \"text-align: right;\">1.22</td><td style = \"text-align: right;\">0.568</td><td style = \"text-align: right;\">0.994</td><td style = \"text-align: right;\">0.346</td><td style = \"text-align: right;\">0.374</td><td style = \"text-align: right;\">0.07</td><td style = \"text-align: right;\">0.675</td><td style = \"text-align: right;\">0.43</td><td style = \"text-align: left;\">condominium</td><td style = \"text-align: left;\">brick</td><td style = \"text-align: left;\">no</td><td style = \"text-align: left;\">no</td><td style = \"text-align: left;\">no</td><td style = \"text-align: left;\">no</td><td style = \"text-align: left;\">yes</td></tr><tr><td class = \"rowNumber\" style = \"font-weight: bold; text-align: right;\">13</td><td style = \"text-align: left;\">0eb9e4df5696c9bf7c849706372fbe18</td><td style = \"text-align: right;\">729000</td><td style = \"text-align: right;\">1</td><td style = \"text-align: right;\">63</td><td style = \"text-align: left;\">apartmentBuilding</td><td style = \"text-align: right;\">3</td><td style = \"text-align: right;\">1.55</td><td style = \"text-align: right;\">0.252</td><td style = \"text-align: right;\">0.635</td><td style = \"text-align: right;\">0.212</td><td style = \"text-align: right;\">0.229</td><td style = \"text-align: right;\">0.053</td><td style = \"text-align: right;\">0.268</td><td style = \"text-align: right;\">0.024</td><td style = \"text-align: left;\">condominium</td><td style = \"text-align: left;\">brick</td><td style = \"text-align: left;\">no</td><td style = \"text-align: left;\">no</td><td style = \"text-align: left;\">yes</td><td style = \"text-align: left;\">no</td><td style = \"text-align: left;\">no</td></tr><tr><td style = \"text-align: right;\">&vellip;</td><td style = \"text-align: right;\">&vellip;</td><td style = \"text-align: right;\">&vellip;</td><td style = \"text-align: right;\">&vellip;</td><td style = \"text-align: right;\">&vellip;</td><td style = \"text-align: right;\">&vellip;</td><td style = \"text-align: right;\">&vellip;</td><td style = \"text-align: right;\">&vellip;</td><td style = \"text-align: right;\">&vellip;</td><td style = \"text-align: right;\">&vellip;</td><td style = \"text-align: right;\">&vellip;</td><td style = \"text-align: right;\">&vellip;</td><td style = \"text-align: right;\">&vellip;</td><td style = \"text-align: right;\">&vellip;</td><td style = \"text-align: right;\">&vellip;</td><td style = \"text-align: right;\">&vellip;</td><td style = \"text-align: right;\">&vellip;</td><td style = \"text-align: right;\">&vellip;</td><td style = \"text-align: right;\">&vellip;</td><td style = \"text-align: right;\">&vellip;</td><td style = \"text-align: right;\">&vellip;</td><td style = \"text-align: right;\">&vellip;</td></tr><tr><td class = \"rowNumber\" style = \"font-weight: bold; text-align: right;\">110180</td><td style = \"text-align: left;\">e2dc3b3752eb91a6cbc360e4daf028e0</td><td style = \"text-align: right;\">399000</td><td style = \"text-align: right;\">6</td><td style = \"text-align: right;\">72</td><td style = \"text-align: left;\">tenement</td><td style = \"text-align: right;\">4</td><td style = \"text-align: right;\">0.56</td><td style = \"text-align: right;\">0.301</td><td style = \"text-align: right;\">0.455</td><td style = \"text-align: right;\">0.801</td><td style = \"text-align: right;\">0.313</td><td style = \"text-align: right;\">0.123</td><td style = \"text-align: right;\">0.268</td><td style = \"text-align: right;\">0.3</td><td style = \"text-align: left;\">condominium</td><td style = \"text-align: left;\">brick</td><td style = \"text-align: left;\">no</td><td style = \"text-align: left;\">no</td><td style = \"text-align: left;\">no</td><td style = \"text-align: left;\">no</td><td style = \"text-align: left;\">no</td></tr><tr><td class = \"rowNumber\" style = \"font-weight: bold; text-align: right;\">110181</td><td style = \"text-align: left;\">da82091e1e8b715150be680a4e0ab136</td><td style = \"text-align: right;\">749000</td><td style = \"text-align: right;\">6</td><td style = \"text-align: right;\">59</td><td style = \"text-align: left;\">apartmentBuilding</td><td style = \"text-align: right;\">3</td><td style = \"text-align: right;\">0.64</td><td style = \"text-align: right;\">0.082</td><td style = \"text-align: right;\">0.344</td><td style = \"text-align: right;\">0.377</td><td style = \"text-align: right;\">0.533</td><td style = \"text-align: right;\">0.037</td><td style = \"text-align: right;\">0.557</td><td style = \"text-align: right;\">0.101</td><td style = \"text-align: left;\">condominium</td><td style = \"text-align: left;\">brick</td><td style = \"text-align: left;\">yes</td><td style = \"text-align: left;\">yes</td><td style = \"text-align: left;\">yes</td><td style = \"text-align: left;\">no</td><td style = \"text-align: left;\">no</td></tr><tr><td class = \"rowNumber\" style = \"font-weight: bold; text-align: right;\">110182</td><td style = \"text-align: left;\">a60ba102db3a0bc6382067374af4da88</td><td style = \"text-align: right;\">279000</td><td style = \"text-align: right;\">6</td><td style = \"text-align: right;\">48</td><td style = \"text-align: left;\">tenement</td><td style = \"text-align: right;\">2</td><td style = \"text-align: right;\">1.48</td><td style = \"text-align: right;\">0.117</td><td style = \"text-align: right;\">0.692</td><td style = \"text-align: right;\">0.431</td><td style = \"text-align: right;\">0.218</td><td style = \"text-align: right;\">0.209</td><td style = \"text-align: right;\">0.2</td><td style = \"text-align: right;\">0.467</td><td style = \"text-align: left;\">condominium</td><td style = \"text-align: left;\">brick</td><td style = \"text-align: left;\">no</td><td style = \"text-align: left;\">no</td><td style = \"text-align: left;\">no</td><td style = \"text-align: left;\">no</td><td style = \"text-align: left;\">yes</td></tr><tr><td class = \"rowNumber\" style = \"font-weight: bold; text-align: right;\">110183</td><td style = \"text-align: left;\">e8ab3325e52904d3dfa03f9a67a4f65b</td><td style = \"text-align: right;\">949000</td><td style = \"text-align: right;\">6</td><td style = \"text-align: right;\">124</td><td style = \"text-align: left;\">tenement</td><td style = \"text-align: right;\">4</td><td style = \"text-align: right;\">0.65</td><td style = \"text-align: right;\">0.111</td><td style = \"text-align: right;\">0.205</td><td style = \"text-align: right;\">0.351</td><td style = \"text-align: right;\">0.405</td><td style = \"text-align: right;\">0.058</td><td style = \"text-align: right;\">0.622</td><td style = \"text-align: right;\">0.205</td><td style = \"text-align: left;\">condominium</td><td style = \"text-align: left;\">brick</td><td style = \"text-align: left;\">yes</td><td style = \"text-align: left;\">yes</td><td style = \"text-align: left;\">no</td><td style = \"text-align: left;\">no</td><td style = \"text-align: left;\">yes</td></tr><tr><td class = \"rowNumber\" style = \"font-weight: bold; text-align: right;\">110184</td><td style = \"text-align: left;\">cefd286e6a2eb7e6ba65a194e49baf03</td><td style = \"text-align: right;\">510000</td><td style = \"text-align: right;\">6</td><td style = \"text-align: right;\">88</td><td style = \"text-align: left;\">tenement</td><td style = \"text-align: right;\">3</td><td style = \"text-align: right;\">0.49</td><td style = \"text-align: right;\">0.169</td><td style = \"text-align: right;\">0.474</td><td style = \"text-align: right;\">0.258</td><td style = \"text-align: right;\">0.486</td><td style = \"text-align: right;\">0.021</td><td style = \"text-align: right;\">0.657</td><td style = \"text-align: right;\">0.181</td><td style = \"text-align: left;\">condominium</td><td style = \"text-align: left;\">brick</td><td style = \"text-align: left;\">yes</td><td style = \"text-align: left;\">no</td><td style = \"text-align: left;\">no</td><td style = \"text-align: left;\">no</td><td style = \"text-align: left;\">yes</td></tr><tr><td class = \"rowNumber\" style = \"font-weight: bold; text-align: right;\">110185</td><td style = \"text-align: left;\">43ba1ff7e0804730281149d62fc9a48b</td><td style = \"text-align: right;\">599000</td><td style = \"text-align: right;\">6</td><td style = \"text-align: right;\">95</td><td style = \"text-align: left;\">tenement</td><td style = \"text-align: right;\">4</td><td style = \"text-align: right;\">0.65</td><td style = \"text-align: right;\">0.111</td><td style = \"text-align: right;\">0.205</td><td style = \"text-align: right;\">0.351</td><td style = \"text-align: right;\">0.405</td><td style = \"text-align: right;\">0.058</td><td style = \"text-align: right;\">0.622</td><td style = \"text-align: right;\">0.205</td><td style = \"text-align: left;\">condominium</td><td style = \"text-align: left;\">brick</td><td style = \"text-align: left;\">no</td><td style = \"text-align: left;\">no</td><td style = \"text-align: left;\">no</td><td style = \"text-align: left;\">no</td><td style = \"text-align: left;\">yes</td></tr><tr><td class = \"rowNumber\" style = \"font-weight: bold; text-align: right;\">110186</td><td style = \"text-align: left;\">4d5c0e9d63750d4e7ff183460b3fc8d1</td><td style = \"text-align: right;\">670000</td><td style = \"text-align: right;\">6</td><td style = \"text-align: right;\">101</td><td style = \"text-align: left;\">tenement</td><td style = \"text-align: right;\">3</td><td style = \"text-align: right;\">1.09</td><td style = \"text-align: right;\">0.112</td><td style = \"text-align: right;\">0.463</td><td style = \"text-align: right;\">0.197</td><td style = \"text-align: right;\">0.34</td><td style = \"text-align: right;\">0.083</td><td style = \"text-align: right;\">0.098</td><td style = \"text-align: right;\">0.331</td><td style = \"text-align: left;\">condominium</td><td style = \"text-align: left;\">brick</td><td style = \"text-align: left;\">yes</td><td style = \"text-align: left;\">no</td><td style = \"text-align: left;\">no</td><td style = \"text-align: left;\">no</td><td style = \"text-align: left;\">yes</td></tr><tr><td class = \"rowNumber\" style = \"font-weight: bold; text-align: right;\">110187</td><td style = \"text-align: left;\">ca83fdbc19c1e62e1cc6b6b21dcd5e03</td><td style = \"text-align: right;\">460000</td><td style = \"text-align: right;\">6</td><td style = \"text-align: right;\">54</td><td style = \"font-style: italic; text-align: left;\">missing</td><td style = \"text-align: right;\">3</td><td style = \"text-align: right;\">3.01</td><td style = \"text-align: right;\">0.325</td><td style = \"text-align: right;\">0.599</td><td style = \"text-align: right;\">0.201</td><td style = \"text-align: right;\">0.216</td><td style = \"text-align: right;\">0.111</td><td style = \"text-align: right;\">0.614</td><td style = \"text-align: right;\">0.062</td><td style = \"text-align: left;\">condominium</td><td style = \"font-style: italic; text-align: left;\">missing</td><td style = \"text-align: left;\">no</td><td style = \"text-align: left;\">yes</td><td style = \"text-align: left;\">no</td><td style = \"text-align: left;\">no</td><td style = \"text-align: left;\">yes</td></tr><tr><td class = \"rowNumber\" style = \"font-weight: bold; text-align: right;\">110188</td><td style = \"text-align: left;\">204c93689b7cdc62a17ef3c0dbf7034a</td><td style = \"text-align: right;\">499000</td><td style = \"text-align: right;\">6</td><td style = \"text-align: right;\">98</td><td style = \"text-align: left;\">tenement</td><td style = \"text-align: right;\">3</td><td style = \"text-align: right;\">0.59</td><td style = \"text-align: right;\">0.113</td><td style = \"text-align: right;\">0.226</td><td style = \"text-align: right;\">0.225</td><td style = \"text-align: right;\">0.412</td><td style = \"text-align: right;\">0.124</td><td style = \"text-align: right;\">0.478</td><td style = \"text-align: right;\">0.273</td><td style = \"text-align: left;\">condominium</td><td style = \"text-align: left;\">brick</td><td style = \"text-align: left;\">no</td><td style = \"text-align: left;\">no</td><td style = \"text-align: left;\">no</td><td style = \"text-align: left;\">no</td><td style = \"text-align: left;\">yes</td></tr><tr><td class = \"rowNumber\" style = \"font-weight: bold; text-align: right;\">110189</td><td style = \"text-align: left;\">bb19da639a2de8bba49be2ca49053c87</td><td style = \"text-align: right;\">795000</td><td style = \"text-align: right;\">6</td><td style = \"text-align: right;\">109</td><td style = \"text-align: left;\">tenement</td><td style = \"text-align: right;\">5</td><td style = \"text-align: right;\">1.08</td><td style = \"text-align: right;\">0.281</td><td style = \"text-align: right;\">0.792</td><td style = \"text-align: right;\">0.233</td><td style = \"text-align: right;\">0.176</td><td style = \"text-align: right;\">0.107</td><td style = \"text-align: right;\">0.226</td><td style = \"text-align: right;\">0.143</td><td style = \"text-align: left;\">condominium</td><td style = \"text-align: left;\">brick</td><td style = \"text-align: left;\">no</td><td style = \"text-align: left;\">no</td><td style = \"text-align: left;\">no</td><td style = \"text-align: left;\">no</td><td style = \"text-align: left;\">yes</td></tr><tr><td class = \"rowNumber\" style = \"font-weight: bold; text-align: right;\">110190</td><td style = \"text-align: left;\">1e7f4f1fdfea31eb84e071d697839632</td><td style = \"text-align: right;\">360000</td><td style = \"text-align: right;\">6</td><td style = \"text-align: right;\">50</td><td style = \"font-style: italic; text-align: left;\">missing</td><td style = \"text-align: right;\">2</td><td style = \"text-align: right;\">0.88</td><td style = \"text-align: right;\">0.174</td><td style = \"text-align: right;\">0.496</td><td style = \"text-align: right;\">0.388</td><td style = \"text-align: right;\">0.46</td><td style = \"text-align: right;\">0.079</td><td style = \"text-align: right;\">0.332</td><td style = \"text-align: right;\">0.25</td><td style = \"text-align: left;\">condominium</td><td style = \"text-align: left;\">brick</td><td style = \"text-align: left;\">yes</td><td style = \"text-align: left;\">no</td><td style = \"text-align: left;\">no</td><td style = \"text-align: left;\">no</td><td style = \"text-align: left;\">no</td></tr><tr><td class = \"rowNumber\" style = \"font-weight: bold; text-align: right;\">110191</td><td style = \"text-align: left;\">60fcbfa2a2a48ebcc2e554efba7f2729</td><td style = \"text-align: right;\">300000</td><td style = \"text-align: right;\">6</td><td style = \"text-align: right;\">59</td><td style = \"text-align: left;\">tenement</td><td style = \"text-align: right;\">2</td><td style = \"text-align: right;\">0.64</td><td style = \"text-align: right;\">0.082</td><td style = \"text-align: right;\">0.344</td><td style = \"text-align: right;\">0.377</td><td style = \"text-align: right;\">0.533</td><td style = \"text-align: right;\">0.037</td><td style = \"text-align: right;\">0.557</td><td style = \"text-align: right;\">0.101</td><td style = \"text-align: left;\">condominium</td><td style = \"text-align: left;\">brick</td><td style = \"text-align: left;\">yes</td><td style = \"text-align: left;\">no</td><td style = \"text-align: left;\">no</td><td style = \"text-align: left;\">no</td><td style = \"text-align: left;\">yes</td></tr></tbody></table></div>"
      ],
      "text/latex": [
       "\\begin{tabular}{r|ccccccc}\n",
       "\t& id & price & month & area & type & rooms & \\\\\n",
       "\t\\hline\n",
       "\t& String & Int64 & Int64 & Int64 & String31? & Int64 & \\\\\n",
       "\t\\hline\n",
       "\t1 & a01d82c9529f98a54d64b9e061c9a73b & 1199999 & 1 & 105 & apartmentBuilding & 4 & $\\dots$ \\\\\n",
       "\t2 & 8373aa373dbc3fe7ca3b7434166b8766 & 650000 & 1 & 73 & tenement & 3 & $\\dots$ \\\\\n",
       "\t3 & 7d0c31d5409caab173571cce3dcdf702 & 590000 & 1 & 69 & blockOfFlats & 3 & $\\dots$ \\\\\n",
       "\t4 & 3eaa36a59b9354206703b5f6b2f2ff1d & 584999 & 1 & 42 & blockOfFlats & 2 & $\\dots$ \\\\\n",
       "\t5 & 027b30cebbc49faf3094421b741ddd56 & 363000 & 1 & 46 & blockOfFlats & 2 & $\\dots$ \\\\\n",
       "\t6 & 27437e173a8c37d5002c0bf69c848b7c & 717000 & 1 & 81 & tenement & 3 & $\\dots$ \\\\\n",
       "\t7 & 39404087c054348c27522c74ca21a973 & 689000 & 1 & 70 & blockOfFlats & 3 & $\\dots$ \\\\\n",
       "\t8 & 7a3b00507c086fcf83562f22bb5d01fc & 790000 & 1 & 67 & apartmentBuilding & 3 & $\\dots$ \\\\\n",
       "\t9 & 24af7cc54099d7930535543827604a9d & 560000 & 1 & 69 & blockOfFlats & 3 & $\\dots$ \\\\\n",
       "\t10 & 7ebe2d0eeb6231486f90c5835c695cd7 & 590000 & 1 & 56 & blockOfFlats & 2 & $\\dots$ \\\\\n",
       "\t11 & 209a6d2dea99216bdf83a968343cd3b3 & 390000 & 1 & 61 & tenement & 2 & $\\dots$ \\\\\n",
       "\t12 & bac1869ad9c2c1ef444b0ba6d225761a & 599000 & 1 & 78 & tenement & 3 & $\\dots$ \\\\\n",
       "\t13 & 0eb9e4df5696c9bf7c849706372fbe18 & 729000 & 1 & 63 & apartmentBuilding & 3 & $\\dots$ \\\\\n",
       "\t14 & f40a9e80d4c9439f1fd3a57257771d78 & 620000 & 1 & 54 & blockOfFlats & 2 & $\\dots$ \\\\\n",
       "\t15 & 14f7d02e2662dc6935732e81bd40944f & 679000 & 1 & 59 & apartmentBuilding & 3 & $\\dots$ \\\\\n",
       "\t16 & 4a629a1a01c7bedac13e9bcf98212d8a & 435000 & 1 & 82 & tenement & 3 & $\\dots$ \\\\\n",
       "\t17 & 76affd52069119ac305ee74b21b4aed7 & 580000 & 1 & 57 & blockOfFlats & 2 & $\\dots$ \\\\\n",
       "\t18 & 1e92d0c372358479553963901bd8e568 & 549000 & 1 & 64 & blockOfFlats & 3 & $\\dots$ \\\\\n",
       "\t19 & 312f2788e54076b94f950baaeced3e54 & 512000 & 1 & 91 & blockOfFlats & 4 & $\\dots$ \\\\\n",
       "\t20 & 35e001d173d4f6626e6e1d92ec75af93 & 514000 & 1 & 53 & blockOfFlats & 2 & $\\dots$ \\\\\n",
       "\t21 & 402d6b0ff1c84434185b93f9d16115a4 & 430000 & 1 & 27 & tenement & 2 & $\\dots$ \\\\\n",
       "\t22 & 7811da22fe39ef6dc5c1ae815557c5c7 & 363000 & 1 & 34 & blockOfFlats & 2 & $\\dots$ \\\\\n",
       "\t23 & a6d64691618dac8d1befa68678b6271e & 798000 & 1 & 109 & blockOfFlats & 5 & $\\dots$ \\\\\n",
       "\t24 & 4777aa53b2049176132d4a8175b985b9 & 465000 & 1 & 82 & tenement & 3 & $\\dots$ \\\\\n",
       "\t25 & 1d5625a24125ddf6482753dedb30454b & 426000 & 1 & 80 & tenement & 4 & $\\dots$ \\\\\n",
       "\t26 & ecb53846ed82859bc4ae397580b4777d & 329000 & 1 & 29 & \\emph{missing} & 1 & $\\dots$ \\\\\n",
       "\t27 & 029c3adc75ff9312dfa4b9a898c81338 & 750000 & 1 & 94 & tenement & 3 & $\\dots$ \\\\\n",
       "\t28 & 155795f0eb31afb9c4cc16ebcc3faf3f & 330000 & 1 & 43 & tenement & 2 & $\\dots$ \\\\\n",
       "\t29 & f5f98bac48f3b53fbce2fa14054014c8 & 615000 & 1 & 91 & tenement & 5 & $\\dots$ \\\\\n",
       "\t30 & b7eee58836d9125111fdc4a414848985 & 529000 & 1 & 84 & blockOfFlats & 4 & $\\dots$ \\\\\n",
       "\t$\\dots$ & $\\dots$ & $\\dots$ & $\\dots$ & $\\dots$ & $\\dots$ & $\\dots$ &  \\\\\n",
       "\\end{tabular}\n"
      ],
      "text/plain": [
       "\u001b[1m110191×21 DataFrame\u001b[0m\n",
       "\u001b[1m    Row \u001b[0m│\u001b[1m id                               \u001b[0m\u001b[1m price   \u001b[0m\u001b[1m month \u001b[0m\u001b[1m area  \u001b[0m\u001b[1m type       \u001b[0m ⋯\n",
       "        │\u001b[90m String                           \u001b[0m\u001b[90m Int64   \u001b[0m\u001b[90m Int64 \u001b[0m\u001b[90m Int64 \u001b[0m\u001b[90m String31?  \u001b[0m ⋯\n",
       "────────┼───────────────────────────────────────────────────────────────────────\n",
       "      1 │ a01d82c9529f98a54d64b9e061c9a73b  1199999      1    105  apartmentBu ⋯\n",
       "      2 │ 8373aa373dbc3fe7ca3b7434166b8766   650000      1     73  tenement\n",
       "      3 │ 7d0c31d5409caab173571cce3dcdf702   590000      1     69  blockOfFlat\n",
       "      4 │ 3eaa36a59b9354206703b5f6b2f2ff1d   584999      1     42  blockOfFlat\n",
       "      5 │ 027b30cebbc49faf3094421b741ddd56   363000      1     46  blockOfFlat ⋯\n",
       "      6 │ 27437e173a8c37d5002c0bf69c848b7c   717000      1     81  tenement\n",
       "      7 │ 39404087c054348c27522c74ca21a973   689000      1     70  blockOfFlat\n",
       "      8 │ 7a3b00507c086fcf83562f22bb5d01fc   790000      1     67  apartmentBu\n",
       "      9 │ 24af7cc54099d7930535543827604a9d   560000      1     69  blockOfFlat ⋯\n",
       "     10 │ 7ebe2d0eeb6231486f90c5835c695cd7   590000      1     56  blockOfFlat\n",
       "     11 │ 209a6d2dea99216bdf83a968343cd3b3   390000      1     61  tenement\n",
       "   ⋮    │                ⋮                     ⋮       ⋮      ⋮            ⋮   ⋱\n",
       " 110182 │ a60ba102db3a0bc6382067374af4da88   279000      6     48  tenement\n",
       " 110183 │ e8ab3325e52904d3dfa03f9a67a4f65b   949000      6    124  tenement    ⋯\n",
       " 110184 │ cefd286e6a2eb7e6ba65a194e49baf03   510000      6     88  tenement\n",
       " 110185 │ 43ba1ff7e0804730281149d62fc9a48b   599000      6     95  tenement\n",
       " 110186 │ 4d5c0e9d63750d4e7ff183460b3fc8d1   670000      6    101  tenement\n",
       " 110187 │ ca83fdbc19c1e62e1cc6b6b21dcd5e03   460000      6     54 \u001b[90m missing    \u001b[0m ⋯\n",
       " 110188 │ 204c93689b7cdc62a17ef3c0dbf7034a   499000      6     98  tenement\n",
       " 110189 │ bb19da639a2de8bba49be2ca49053c87   795000      6    109  tenement\n",
       " 110190 │ 1e7f4f1fdfea31eb84e071d697839632   360000      6     50 \u001b[90m missing    \u001b[0m\n",
       " 110191 │ 60fcbfa2a2a48ebcc2e554efba7f2729   300000      6     59  tenement    ⋯\n",
       "\u001b[36m                                              17 columns and 110170 rows omitted\u001b[0m"
      ]
     },
     "execution_count": 2,
     "metadata": {},
     "output_type": "execute_result"
    }
   ],
   "source": [
    "using CSV, DataFrames\n",
    "\n",
    "data = CSV.read(\"C:\\\\Users\\\\carlo\\\\Documents\\\\AI\\\\apartments.csv\", DataFrame)"
   ]
  },
  {
   "cell_type": "code",
   "execution_count": 3,
   "id": "2d11710f-92de-45ca-98a8-f73bfcc34ef5",
   "metadata": {},
   "outputs": [
    {
     "data": {
      "text/plain": [
       "21-element Vector{String}:\n",
       " \"id\"\n",
       " \"price\"\n",
       " \"month\"\n",
       " \"area\"\n",
       " \"type\"\n",
       " \"rooms\"\n",
       " \"centredistance\"\n",
       " \"schooldistance\"\n",
       " \"clinicdistance\"\n",
       " \"postofficedistance\"\n",
       " \"kindergartendistance\"\n",
       " \"restaurantdistance\"\n",
       " \"collegedistance\"\n",
       " \"pharmacydistance\"\n",
       " \"ownership\"\n",
       " \"buildingmaterial\"\n",
       " \"hasparkingspace\"\n",
       " \"hasbalcony\"\n",
       " \"haselevator\"\n",
       " \"hassecurity\"\n",
       " \"hasstorageroom\""
      ]
     },
     "execution_count": 3,
     "metadata": {},
     "output_type": "execute_result"
    }
   ],
   "source": [
    "names(data)"
   ]
  },
  {
   "cell_type": "code",
   "execution_count": 4,
   "id": "aa909c17-b83e-42b5-b849-85e7a48b4d97",
   "metadata": {},
   "outputs": [
    {
     "data": {
      "text/html": [
       "<div><div style = \"float: left;\"><span>110191×22 DataFrame</span></div><div style = \"float: right;\"><span style = \"font-style: italic;\">110166 rows omitted</span></div><div style = \"clear: both;\"></div></div><div class = \"data-frame\" style = \"overflow-x: scroll;\"><table class = \"data-frame\" style = \"margin-bottom: 6px;\"><thead><tr class = \"header\"><th class = \"rowNumber\" style = \"font-weight: bold; text-align: right;\">Row</th><th style = \"text-align: left;\">id</th><th style = \"text-align: left;\">price</th><th style = \"text-align: left;\">month</th><th style = \"text-align: left;\">area</th><th style = \"text-align: left;\">type</th><th style = \"text-align: left;\">rooms</th><th style = \"text-align: left;\">centredistance</th><th style = \"text-align: left;\">schooldistance</th><th style = \"text-align: left;\">clinicdistance</th><th style = \"text-align: left;\">postofficedistance</th><th style = \"text-align: left;\">kindergartendistance</th><th style = \"text-align: left;\">restaurantdistance</th><th style = \"text-align: left;\">collegedistance</th><th style = \"text-align: left;\">pharmacydistance</th><th style = \"text-align: left;\">ownership</th><th style = \"text-align: left;\">buildingmaterial</th><th style = \"text-align: left;\">hasparkingspace</th><th style = \"text-align: left;\">hasbalcony</th><th style = \"text-align: left;\">haselevator</th><th style = \"text-align: left;\">hassecurity</th><th style = \"text-align: left;\">hasstorageroom</th><th style = \"text-align: left;\">area2</th></tr><tr class = \"subheader headerLastRow\"><th class = \"rowNumber\" style = \"font-weight: bold; text-align: right;\"></th><th title = \"String\" style = \"text-align: left;\">String</th><th title = \"Int64\" style = \"text-align: left;\">Int64</th><th title = \"Int64\" style = \"text-align: left;\">Int64</th><th title = \"Int64\" style = \"text-align: left;\">Int64</th><th title = \"Union{Missing, String31}\" style = \"text-align: left;\">String31?</th><th title = \"Int64\" style = \"text-align: left;\">Int64</th><th title = \"Float64\" style = \"text-align: left;\">Float64</th><th title = \"Union{Missing, Float64}\" style = \"text-align: left;\">Float64?</th><th title = \"Union{Missing, Float64}\" style = \"text-align: left;\">Float64?</th><th title = \"Union{Missing, Float64}\" style = \"text-align: left;\">Float64?</th><th title = \"Union{Missing, Float64}\" style = \"text-align: left;\">Float64?</th><th title = \"Union{Missing, Float64}\" style = \"text-align: left;\">Float64?</th><th title = \"Union{Missing, Float64}\" style = \"text-align: left;\">Float64?</th><th title = \"Union{Missing, Float64}\" style = \"text-align: left;\">Float64?</th><th title = \"String15\" style = \"text-align: left;\">String15</th><th title = \"Union{Missing, String15}\" style = \"text-align: left;\">String15?</th><th title = \"String3\" style = \"text-align: left;\">String3</th><th title = \"String3\" style = \"text-align: left;\">String3</th><th title = \"Union{Missing, String3}\" style = \"text-align: left;\">String3?</th><th title = \"String3\" style = \"text-align: left;\">String3</th><th title = \"String3\" style = \"text-align: left;\">String3</th><th title = \"Int64\" style = \"text-align: left;\">Int64</th></tr></thead><tbody><tr><td class = \"rowNumber\" style = \"font-weight: bold; text-align: right;\">1</td><td style = \"text-align: left;\">a01d82c9529f98a54d64b9e061c9a73b</td><td style = \"text-align: right;\">1199999</td><td style = \"text-align: right;\">1</td><td style = \"text-align: right;\">105</td><td style = \"text-align: left;\">apartmentBuilding</td><td style = \"text-align: right;\">4</td><td style = \"text-align: right;\">5.06</td><td style = \"text-align: right;\">1.08</td><td style = \"text-align: right;\">0.949</td><td style = \"text-align: right;\">0.623</td><td style = \"text-align: right;\">0.791</td><td style = \"text-align: right;\">1.054</td><td style = \"text-align: right;\">3.062</td><td style = \"text-align: right;\">0.335</td><td style = \"text-align: left;\">condominium</td><td style = \"text-align: left;\">brick</td><td style = \"text-align: left;\">no</td><td style = \"text-align: left;\">yes</td><td style = \"text-align: left;\">yes</td><td style = \"text-align: left;\">no</td><td style = \"text-align: left;\">no</td><td style = \"text-align: right;\">11025</td></tr><tr><td class = \"rowNumber\" style = \"font-weight: bold; text-align: right;\">2</td><td style = \"text-align: left;\">8373aa373dbc3fe7ca3b7434166b8766</td><td style = \"text-align: right;\">650000</td><td style = \"text-align: right;\">1</td><td style = \"text-align: right;\">73</td><td style = \"text-align: left;\">tenement</td><td style = \"text-align: right;\">3</td><td style = \"text-align: right;\">3.24</td><td style = \"text-align: right;\">0.275</td><td style = \"text-align: right;\">0.672</td><td style = \"text-align: right;\">0.367</td><td style = \"text-align: right;\">0.246</td><td style = \"text-align: right;\">0.3</td><td style = \"text-align: right;\">1.857</td><td style = \"text-align: right;\">0.28</td><td style = \"text-align: left;\">condominium</td><td style = \"text-align: left;\">brick</td><td style = \"text-align: left;\">no</td><td style = \"text-align: left;\">no</td><td style = \"text-align: left;\">no</td><td style = \"text-align: left;\">no</td><td style = \"text-align: left;\">no</td><td style = \"text-align: right;\">5329</td></tr><tr><td class = \"rowNumber\" style = \"font-weight: bold; text-align: right;\">3</td><td style = \"text-align: left;\">7d0c31d5409caab173571cce3dcdf702</td><td style = \"text-align: right;\">590000</td><td style = \"text-align: right;\">1</td><td style = \"text-align: right;\">69</td><td style = \"text-align: left;\">blockOfFlats</td><td style = \"text-align: right;\">3</td><td style = \"text-align: right;\">3.94</td><td style = \"text-align: right;\">0.139</td><td style = \"text-align: right;\">1.336</td><td style = \"text-align: right;\">0.926</td><td style = \"text-align: right;\">0.93</td><td style = \"text-align: right;\">0.071</td><td style = \"text-align: right;\">0.786</td><td style = \"text-align: right;\">0.304</td><td style = \"text-align: left;\">condominium</td><td style = \"text-align: left;\">brick</td><td style = \"text-align: left;\">no</td><td style = \"text-align: left;\">yes</td><td style = \"text-align: left;\">no</td><td style = \"text-align: left;\">no</td><td style = \"text-align: left;\">yes</td><td style = \"text-align: right;\">4761</td></tr><tr><td class = \"rowNumber\" style = \"font-weight: bold; text-align: right;\">4</td><td style = \"text-align: left;\">3eaa36a59b9354206703b5f6b2f2ff1d</td><td style = \"text-align: right;\">584999</td><td style = \"text-align: right;\">1</td><td style = \"text-align: right;\">42</td><td style = \"text-align: left;\">blockOfFlats</td><td style = \"text-align: right;\">2</td><td style = \"text-align: right;\">5.19</td><td style = \"text-align: right;\">0.209</td><td style = \"text-align: right;\">1.533</td><td style = \"text-align: right;\">0.201</td><td style = \"text-align: right;\">0.319</td><td style = \"text-align: right;\">0.157</td><td style = \"text-align: right;\">2.722</td><td style = \"text-align: right;\">0.257</td><td style = \"text-align: left;\">condominium</td><td style = \"font-style: italic; text-align: left;\">missing</td><td style = \"text-align: left;\">no</td><td style = \"text-align: left;\">yes</td><td style = \"text-align: left;\">no</td><td style = \"text-align: left;\">no</td><td style = \"text-align: left;\">no</td><td style = \"text-align: right;\">1764</td></tr><tr><td class = \"rowNumber\" style = \"font-weight: bold; text-align: right;\">5</td><td style = \"text-align: left;\">027b30cebbc49faf3094421b741ddd56</td><td style = \"text-align: right;\">363000</td><td style = \"text-align: right;\">1</td><td style = \"text-align: right;\">46</td><td style = \"text-align: left;\">blockOfFlats</td><td style = \"text-align: right;\">2</td><td style = \"text-align: right;\">1.65</td><td style = \"text-align: right;\">0.25</td><td style = \"text-align: right;\">0.624</td><td style = \"text-align: right;\">0.51</td><td style = \"text-align: right;\">0.177</td><td style = \"text-align: right;\">0.232</td><td style = \"text-align: right;\">0.986</td><td style = \"text-align: right;\">0.273</td><td style = \"text-align: left;\">condominium</td><td style = \"text-align: left;\">concreteSlab</td><td style = \"text-align: left;\">no</td><td style = \"text-align: left;\">no</td><td style = \"text-align: left;\">no</td><td style = \"text-align: left;\">no</td><td style = \"text-align: left;\">yes</td><td style = \"text-align: right;\">2116</td></tr><tr><td class = \"rowNumber\" style = \"font-weight: bold; text-align: right;\">6</td><td style = \"text-align: left;\">27437e173a8c37d5002c0bf69c848b7c</td><td style = \"text-align: right;\">717000</td><td style = \"text-align: right;\">1</td><td style = \"text-align: right;\">81</td><td style = \"text-align: left;\">tenement</td><td style = \"text-align: right;\">3</td><td style = \"text-align: right;\">1.76</td><td style = \"text-align: right;\">0.083</td><td style = \"text-align: right;\">0.257</td><td style = \"text-align: right;\">0.294</td><td style = \"text-align: right;\">0.151</td><td style = \"text-align: right;\">0.102</td><td style = \"text-align: right;\">0.256</td><td style = \"text-align: right;\">0.301</td><td style = \"text-align: left;\">condominium</td><td style = \"text-align: left;\">brick</td><td style = \"text-align: left;\">no</td><td style = \"text-align: left;\">no</td><td style = \"text-align: left;\">no</td><td style = \"text-align: left;\">no</td><td style = \"text-align: left;\">yes</td><td style = \"text-align: right;\">6561</td></tr><tr><td class = \"rowNumber\" style = \"font-weight: bold; text-align: right;\">7</td><td style = \"text-align: left;\">39404087c054348c27522c74ca21a973</td><td style = \"text-align: right;\">689000</td><td style = \"text-align: right;\">1</td><td style = \"text-align: right;\">70</td><td style = \"text-align: left;\">blockOfFlats</td><td style = \"text-align: right;\">3</td><td style = \"text-align: right;\">3.35</td><td style = \"text-align: right;\">0.269</td><td style = \"text-align: right;\">1.364</td><td style = \"text-align: right;\">0.247</td><td style = \"text-align: right;\">0.122</td><td style = \"text-align: right;\">0.388</td><td style = \"text-align: right;\">1.589</td><td style = \"text-align: right;\">0.194</td><td style = \"text-align: left;\">cooperative</td><td style = \"text-align: left;\">concreteSlab</td><td style = \"text-align: left;\">no</td><td style = \"text-align: left;\">yes</td><td style = \"text-align: left;\">yes</td><td style = \"text-align: left;\">no</td><td style = \"text-align: left;\">yes</td><td style = \"text-align: right;\">4900</td></tr><tr><td class = \"rowNumber\" style = \"font-weight: bold; text-align: right;\">8</td><td style = \"text-align: left;\">7a3b00507c086fcf83562f22bb5d01fc</td><td style = \"text-align: right;\">790000</td><td style = \"text-align: right;\">1</td><td style = \"text-align: right;\">67</td><td style = \"text-align: left;\">apartmentBuilding</td><td style = \"text-align: right;\">3</td><td style = \"text-align: right;\">1.61</td><td style = \"text-align: right;\">0.501</td><td style = \"text-align: right;\">0.973</td><td style = \"text-align: right;\">0.713</td><td style = \"text-align: right;\">0.067</td><td style = \"text-align: right;\">0.052</td><td style = \"text-align: right;\">0.988</td><td style = \"text-align: right;\">0.215</td><td style = \"text-align: left;\">condominium</td><td style = \"text-align: left;\">brick</td><td style = \"text-align: left;\">yes</td><td style = \"text-align: left;\">yes</td><td style = \"text-align: left;\">yes</td><td style = \"text-align: left;\">no</td><td style = \"text-align: left;\">no</td><td style = \"text-align: right;\">4489</td></tr><tr><td class = \"rowNumber\" style = \"font-weight: bold; text-align: right;\">9</td><td style = \"text-align: left;\">24af7cc54099d7930535543827604a9d</td><td style = \"text-align: right;\">560000</td><td style = \"text-align: right;\">1</td><td style = \"text-align: right;\">69</td><td style = \"text-align: left;\">blockOfFlats</td><td style = \"text-align: right;\">3</td><td style = \"text-align: right;\">2.29</td><td style = \"text-align: right;\">0.371</td><td style = \"text-align: right;\">0.592</td><td style = \"text-align: right;\">0.213</td><td style = \"text-align: right;\">0.222</td><td style = \"text-align: right;\">0.24</td><td style = \"text-align: right;\">0.583</td><td style = \"text-align: right;\">0.721</td><td style = \"text-align: left;\">condominium</td><td style = \"text-align: left;\">brick</td><td style = \"text-align: left;\">no</td><td style = \"text-align: left;\">yes</td><td style = \"text-align: left;\">no</td><td style = \"text-align: left;\">no</td><td style = \"text-align: left;\">yes</td><td style = \"text-align: right;\">4761</td></tr><tr><td class = \"rowNumber\" style = \"font-weight: bold; text-align: right;\">10</td><td style = \"text-align: left;\">7ebe2d0eeb6231486f90c5835c695cd7</td><td style = \"text-align: right;\">590000</td><td style = \"text-align: right;\">1</td><td style = \"text-align: right;\">56</td><td style = \"text-align: left;\">blockOfFlats</td><td style = \"text-align: right;\">2</td><td style = \"text-align: right;\">4.27</td><td style = \"text-align: right;\">0.509</td><td style = \"text-align: right;\">0.081</td><td style = \"text-align: right;\">0.126</td><td style = \"text-align: right;\">0.381</td><td style = \"text-align: right;\">0.227</td><td style = \"text-align: right;\">1.685</td><td style = \"text-align: right;\">0.186</td><td style = \"text-align: left;\">condominium</td><td style = \"text-align: left;\">brick</td><td style = \"text-align: left;\">no</td><td style = \"text-align: left;\">no</td><td style = \"text-align: left;\">no</td><td style = \"text-align: left;\">no</td><td style = \"text-align: left;\">yes</td><td style = \"text-align: right;\">3136</td></tr><tr><td class = \"rowNumber\" style = \"font-weight: bold; text-align: right;\">11</td><td style = \"text-align: left;\">209a6d2dea99216bdf83a968343cd3b3</td><td style = \"text-align: right;\">390000</td><td style = \"text-align: right;\">1</td><td style = \"text-align: right;\">61</td><td style = \"text-align: left;\">tenement</td><td style = \"text-align: right;\">2</td><td style = \"text-align: right;\">8.16</td><td style = \"text-align: right;\">0.149</td><td style = \"text-align: right;\">1.68</td><td style = \"text-align: right;\">0.534</td><td style = \"text-align: right;\">1.294</td><td style = \"text-align: right;\">1.527</td><td style = \"text-align: right;\">3.72</td><td style = \"text-align: right;\">1.521</td><td style = \"text-align: left;\">condominium</td><td style = \"text-align: left;\">brick</td><td style = \"text-align: left;\">no</td><td style = \"text-align: left;\">no</td><td style = \"text-align: left;\">no</td><td style = \"text-align: left;\">no</td><td style = \"text-align: left;\">yes</td><td style = \"text-align: right;\">3721</td></tr><tr><td class = \"rowNumber\" style = \"font-weight: bold; text-align: right;\">12</td><td style = \"text-align: left;\">bac1869ad9c2c1ef444b0ba6d225761a</td><td style = \"text-align: right;\">599000</td><td style = \"text-align: right;\">1</td><td style = \"text-align: right;\">78</td><td style = \"text-align: left;\">tenement</td><td style = \"text-align: right;\">3</td><td style = \"text-align: right;\">1.22</td><td style = \"text-align: right;\">0.568</td><td style = \"text-align: right;\">0.994</td><td style = \"text-align: right;\">0.346</td><td style = \"text-align: right;\">0.374</td><td style = \"text-align: right;\">0.07</td><td style = \"text-align: right;\">0.675</td><td style = \"text-align: right;\">0.43</td><td style = \"text-align: left;\">condominium</td><td style = \"text-align: left;\">brick</td><td style = \"text-align: left;\">no</td><td style = \"text-align: left;\">no</td><td style = \"text-align: left;\">no</td><td style = \"text-align: left;\">no</td><td style = \"text-align: left;\">yes</td><td style = \"text-align: right;\">6084</td></tr><tr><td class = \"rowNumber\" style = \"font-weight: bold; text-align: right;\">13</td><td style = \"text-align: left;\">0eb9e4df5696c9bf7c849706372fbe18</td><td style = \"text-align: right;\">729000</td><td style = \"text-align: right;\">1</td><td style = \"text-align: right;\">63</td><td style = \"text-align: left;\">apartmentBuilding</td><td style = \"text-align: right;\">3</td><td style = \"text-align: right;\">1.55</td><td style = \"text-align: right;\">0.252</td><td style = \"text-align: right;\">0.635</td><td style = \"text-align: right;\">0.212</td><td style = \"text-align: right;\">0.229</td><td style = \"text-align: right;\">0.053</td><td style = \"text-align: right;\">0.268</td><td style = \"text-align: right;\">0.024</td><td style = \"text-align: left;\">condominium</td><td style = \"text-align: left;\">brick</td><td style = \"text-align: left;\">no</td><td style = \"text-align: left;\">no</td><td style = \"text-align: left;\">yes</td><td style = \"text-align: left;\">no</td><td style = \"text-align: left;\">no</td><td style = \"text-align: right;\">3969</td></tr><tr><td style = \"text-align: right;\">&vellip;</td><td style = \"text-align: right;\">&vellip;</td><td style = \"text-align: right;\">&vellip;</td><td style = \"text-align: right;\">&vellip;</td><td style = \"text-align: right;\">&vellip;</td><td style = \"text-align: right;\">&vellip;</td><td style = \"text-align: right;\">&vellip;</td><td style = \"text-align: right;\">&vellip;</td><td style = \"text-align: right;\">&vellip;</td><td style = \"text-align: right;\">&vellip;</td><td style = \"text-align: right;\">&vellip;</td><td style = \"text-align: right;\">&vellip;</td><td style = \"text-align: right;\">&vellip;</td><td style = \"text-align: right;\">&vellip;</td><td style = \"text-align: right;\">&vellip;</td><td style = \"text-align: right;\">&vellip;</td><td style = \"text-align: right;\">&vellip;</td><td style = \"text-align: right;\">&vellip;</td><td style = \"text-align: right;\">&vellip;</td><td style = \"text-align: right;\">&vellip;</td><td style = \"text-align: right;\">&vellip;</td><td style = \"text-align: right;\">&vellip;</td><td style = \"text-align: right;\">&vellip;</td></tr><tr><td class = \"rowNumber\" style = \"font-weight: bold; text-align: right;\">110180</td><td style = \"text-align: left;\">e2dc3b3752eb91a6cbc360e4daf028e0</td><td style = \"text-align: right;\">399000</td><td style = \"text-align: right;\">6</td><td style = \"text-align: right;\">72</td><td style = \"text-align: left;\">tenement</td><td style = \"text-align: right;\">4</td><td style = \"text-align: right;\">0.56</td><td style = \"text-align: right;\">0.301</td><td style = \"text-align: right;\">0.455</td><td style = \"text-align: right;\">0.801</td><td style = \"text-align: right;\">0.313</td><td style = \"text-align: right;\">0.123</td><td style = \"text-align: right;\">0.268</td><td style = \"text-align: right;\">0.3</td><td style = \"text-align: left;\">condominium</td><td style = \"text-align: left;\">brick</td><td style = \"text-align: left;\">no</td><td style = \"text-align: left;\">no</td><td style = \"text-align: left;\">no</td><td style = \"text-align: left;\">no</td><td style = \"text-align: left;\">no</td><td style = \"text-align: right;\">5184</td></tr><tr><td class = \"rowNumber\" style = \"font-weight: bold; text-align: right;\">110181</td><td style = \"text-align: left;\">da82091e1e8b715150be680a4e0ab136</td><td style = \"text-align: right;\">749000</td><td style = \"text-align: right;\">6</td><td style = \"text-align: right;\">59</td><td style = \"text-align: left;\">apartmentBuilding</td><td style = \"text-align: right;\">3</td><td style = \"text-align: right;\">0.64</td><td style = \"text-align: right;\">0.082</td><td style = \"text-align: right;\">0.344</td><td style = \"text-align: right;\">0.377</td><td style = \"text-align: right;\">0.533</td><td style = \"text-align: right;\">0.037</td><td style = \"text-align: right;\">0.557</td><td style = \"text-align: right;\">0.101</td><td style = \"text-align: left;\">condominium</td><td style = \"text-align: left;\">brick</td><td style = \"text-align: left;\">yes</td><td style = \"text-align: left;\">yes</td><td style = \"text-align: left;\">yes</td><td style = \"text-align: left;\">no</td><td style = \"text-align: left;\">no</td><td style = \"text-align: right;\">3481</td></tr><tr><td class = \"rowNumber\" style = \"font-weight: bold; text-align: right;\">110182</td><td style = \"text-align: left;\">a60ba102db3a0bc6382067374af4da88</td><td style = \"text-align: right;\">279000</td><td style = \"text-align: right;\">6</td><td style = \"text-align: right;\">48</td><td style = \"text-align: left;\">tenement</td><td style = \"text-align: right;\">2</td><td style = \"text-align: right;\">1.48</td><td style = \"text-align: right;\">0.117</td><td style = \"text-align: right;\">0.692</td><td style = \"text-align: right;\">0.431</td><td style = \"text-align: right;\">0.218</td><td style = \"text-align: right;\">0.209</td><td style = \"text-align: right;\">0.2</td><td style = \"text-align: right;\">0.467</td><td style = \"text-align: left;\">condominium</td><td style = \"text-align: left;\">brick</td><td style = \"text-align: left;\">no</td><td style = \"text-align: left;\">no</td><td style = \"text-align: left;\">no</td><td style = \"text-align: left;\">no</td><td style = \"text-align: left;\">yes</td><td style = \"text-align: right;\">2304</td></tr><tr><td class = \"rowNumber\" style = \"font-weight: bold; text-align: right;\">110183</td><td style = \"text-align: left;\">e8ab3325e52904d3dfa03f9a67a4f65b</td><td style = \"text-align: right;\">949000</td><td style = \"text-align: right;\">6</td><td style = \"text-align: right;\">124</td><td style = \"text-align: left;\">tenement</td><td style = \"text-align: right;\">4</td><td style = \"text-align: right;\">0.65</td><td style = \"text-align: right;\">0.111</td><td style = \"text-align: right;\">0.205</td><td style = \"text-align: right;\">0.351</td><td style = \"text-align: right;\">0.405</td><td style = \"text-align: right;\">0.058</td><td style = \"text-align: right;\">0.622</td><td style = \"text-align: right;\">0.205</td><td style = \"text-align: left;\">condominium</td><td style = \"text-align: left;\">brick</td><td style = \"text-align: left;\">yes</td><td style = \"text-align: left;\">yes</td><td style = \"text-align: left;\">no</td><td style = \"text-align: left;\">no</td><td style = \"text-align: left;\">yes</td><td style = \"text-align: right;\">15376</td></tr><tr><td class = \"rowNumber\" style = \"font-weight: bold; text-align: right;\">110184</td><td style = \"text-align: left;\">cefd286e6a2eb7e6ba65a194e49baf03</td><td style = \"text-align: right;\">510000</td><td style = \"text-align: right;\">6</td><td style = \"text-align: right;\">88</td><td style = \"text-align: left;\">tenement</td><td style = \"text-align: right;\">3</td><td style = \"text-align: right;\">0.49</td><td style = \"text-align: right;\">0.169</td><td style = \"text-align: right;\">0.474</td><td style = \"text-align: right;\">0.258</td><td style = \"text-align: right;\">0.486</td><td style = \"text-align: right;\">0.021</td><td style = \"text-align: right;\">0.657</td><td style = \"text-align: right;\">0.181</td><td style = \"text-align: left;\">condominium</td><td style = \"text-align: left;\">brick</td><td style = \"text-align: left;\">yes</td><td style = \"text-align: left;\">no</td><td style = \"text-align: left;\">no</td><td style = \"text-align: left;\">no</td><td style = \"text-align: left;\">yes</td><td style = \"text-align: right;\">7744</td></tr><tr><td class = \"rowNumber\" style = \"font-weight: bold; text-align: right;\">110185</td><td style = \"text-align: left;\">43ba1ff7e0804730281149d62fc9a48b</td><td style = \"text-align: right;\">599000</td><td style = \"text-align: right;\">6</td><td style = \"text-align: right;\">95</td><td style = \"text-align: left;\">tenement</td><td style = \"text-align: right;\">4</td><td style = \"text-align: right;\">0.65</td><td style = \"text-align: right;\">0.111</td><td style = \"text-align: right;\">0.205</td><td style = \"text-align: right;\">0.351</td><td style = \"text-align: right;\">0.405</td><td style = \"text-align: right;\">0.058</td><td style = \"text-align: right;\">0.622</td><td style = \"text-align: right;\">0.205</td><td style = \"text-align: left;\">condominium</td><td style = \"text-align: left;\">brick</td><td style = \"text-align: left;\">no</td><td style = \"text-align: left;\">no</td><td style = \"text-align: left;\">no</td><td style = \"text-align: left;\">no</td><td style = \"text-align: left;\">yes</td><td style = \"text-align: right;\">9025</td></tr><tr><td class = \"rowNumber\" style = \"font-weight: bold; text-align: right;\">110186</td><td style = \"text-align: left;\">4d5c0e9d63750d4e7ff183460b3fc8d1</td><td style = \"text-align: right;\">670000</td><td style = \"text-align: right;\">6</td><td style = \"text-align: right;\">101</td><td style = \"text-align: left;\">tenement</td><td style = \"text-align: right;\">3</td><td style = \"text-align: right;\">1.09</td><td style = \"text-align: right;\">0.112</td><td style = \"text-align: right;\">0.463</td><td style = \"text-align: right;\">0.197</td><td style = \"text-align: right;\">0.34</td><td style = \"text-align: right;\">0.083</td><td style = \"text-align: right;\">0.098</td><td style = \"text-align: right;\">0.331</td><td style = \"text-align: left;\">condominium</td><td style = \"text-align: left;\">brick</td><td style = \"text-align: left;\">yes</td><td style = \"text-align: left;\">no</td><td style = \"text-align: left;\">no</td><td style = \"text-align: left;\">no</td><td style = \"text-align: left;\">yes</td><td style = \"text-align: right;\">10201</td></tr><tr><td class = \"rowNumber\" style = \"font-weight: bold; text-align: right;\">110187</td><td style = \"text-align: left;\">ca83fdbc19c1e62e1cc6b6b21dcd5e03</td><td style = \"text-align: right;\">460000</td><td style = \"text-align: right;\">6</td><td style = \"text-align: right;\">54</td><td style = \"font-style: italic; text-align: left;\">missing</td><td style = \"text-align: right;\">3</td><td style = \"text-align: right;\">3.01</td><td style = \"text-align: right;\">0.325</td><td style = \"text-align: right;\">0.599</td><td style = \"text-align: right;\">0.201</td><td style = \"text-align: right;\">0.216</td><td style = \"text-align: right;\">0.111</td><td style = \"text-align: right;\">0.614</td><td style = \"text-align: right;\">0.062</td><td style = \"text-align: left;\">condominium</td><td style = \"font-style: italic; text-align: left;\">missing</td><td style = \"text-align: left;\">no</td><td style = \"text-align: left;\">yes</td><td style = \"text-align: left;\">no</td><td style = \"text-align: left;\">no</td><td style = \"text-align: left;\">yes</td><td style = \"text-align: right;\">2916</td></tr><tr><td class = \"rowNumber\" style = \"font-weight: bold; text-align: right;\">110188</td><td style = \"text-align: left;\">204c93689b7cdc62a17ef3c0dbf7034a</td><td style = \"text-align: right;\">499000</td><td style = \"text-align: right;\">6</td><td style = \"text-align: right;\">98</td><td style = \"text-align: left;\">tenement</td><td style = \"text-align: right;\">3</td><td style = \"text-align: right;\">0.59</td><td style = \"text-align: right;\">0.113</td><td style = \"text-align: right;\">0.226</td><td style = \"text-align: right;\">0.225</td><td style = \"text-align: right;\">0.412</td><td style = \"text-align: right;\">0.124</td><td style = \"text-align: right;\">0.478</td><td style = \"text-align: right;\">0.273</td><td style = \"text-align: left;\">condominium</td><td style = \"text-align: left;\">brick</td><td style = \"text-align: left;\">no</td><td style = \"text-align: left;\">no</td><td style = \"text-align: left;\">no</td><td style = \"text-align: left;\">no</td><td style = \"text-align: left;\">yes</td><td style = \"text-align: right;\">9604</td></tr><tr><td class = \"rowNumber\" style = \"font-weight: bold; text-align: right;\">110189</td><td style = \"text-align: left;\">bb19da639a2de8bba49be2ca49053c87</td><td style = \"text-align: right;\">795000</td><td style = \"text-align: right;\">6</td><td style = \"text-align: right;\">109</td><td style = \"text-align: left;\">tenement</td><td style = \"text-align: right;\">5</td><td style = \"text-align: right;\">1.08</td><td style = \"text-align: right;\">0.281</td><td style = \"text-align: right;\">0.792</td><td style = \"text-align: right;\">0.233</td><td style = \"text-align: right;\">0.176</td><td style = \"text-align: right;\">0.107</td><td style = \"text-align: right;\">0.226</td><td style = \"text-align: right;\">0.143</td><td style = \"text-align: left;\">condominium</td><td style = \"text-align: left;\">brick</td><td style = \"text-align: left;\">no</td><td style = \"text-align: left;\">no</td><td style = \"text-align: left;\">no</td><td style = \"text-align: left;\">no</td><td style = \"text-align: left;\">yes</td><td style = \"text-align: right;\">11881</td></tr><tr><td class = \"rowNumber\" style = \"font-weight: bold; text-align: right;\">110190</td><td style = \"text-align: left;\">1e7f4f1fdfea31eb84e071d697839632</td><td style = \"text-align: right;\">360000</td><td style = \"text-align: right;\">6</td><td style = \"text-align: right;\">50</td><td style = \"font-style: italic; text-align: left;\">missing</td><td style = \"text-align: right;\">2</td><td style = \"text-align: right;\">0.88</td><td style = \"text-align: right;\">0.174</td><td style = \"text-align: right;\">0.496</td><td style = \"text-align: right;\">0.388</td><td style = \"text-align: right;\">0.46</td><td style = \"text-align: right;\">0.079</td><td style = \"text-align: right;\">0.332</td><td style = \"text-align: right;\">0.25</td><td style = \"text-align: left;\">condominium</td><td style = \"text-align: left;\">brick</td><td style = \"text-align: left;\">yes</td><td style = \"text-align: left;\">no</td><td style = \"text-align: left;\">no</td><td style = \"text-align: left;\">no</td><td style = \"text-align: left;\">no</td><td style = \"text-align: right;\">2500</td></tr><tr><td class = \"rowNumber\" style = \"font-weight: bold; text-align: right;\">110191</td><td style = \"text-align: left;\">60fcbfa2a2a48ebcc2e554efba7f2729</td><td style = \"text-align: right;\">300000</td><td style = \"text-align: right;\">6</td><td style = \"text-align: right;\">59</td><td style = \"text-align: left;\">tenement</td><td style = \"text-align: right;\">2</td><td style = \"text-align: right;\">0.64</td><td style = \"text-align: right;\">0.082</td><td style = \"text-align: right;\">0.344</td><td style = \"text-align: right;\">0.377</td><td style = \"text-align: right;\">0.533</td><td style = \"text-align: right;\">0.037</td><td style = \"text-align: right;\">0.557</td><td style = \"text-align: right;\">0.101</td><td style = \"text-align: left;\">condominium</td><td style = \"text-align: left;\">brick</td><td style = \"text-align: left;\">yes</td><td style = \"text-align: left;\">no</td><td style = \"text-align: left;\">no</td><td style = \"text-align: left;\">no</td><td style = \"text-align: left;\">yes</td><td style = \"text-align: right;\">3481</td></tr></tbody></table></div>"
      ],
      "text/latex": [
       "\\begin{tabular}{r|ccccccc}\n",
       "\t& id & price & month & area & type & rooms & \\\\\n",
       "\t\\hline\n",
       "\t& String & Int64 & Int64 & Int64 & String31? & Int64 & \\\\\n",
       "\t\\hline\n",
       "\t1 & a01d82c9529f98a54d64b9e061c9a73b & 1199999 & 1 & 105 & apartmentBuilding & 4 & $\\dots$ \\\\\n",
       "\t2 & 8373aa373dbc3fe7ca3b7434166b8766 & 650000 & 1 & 73 & tenement & 3 & $\\dots$ \\\\\n",
       "\t3 & 7d0c31d5409caab173571cce3dcdf702 & 590000 & 1 & 69 & blockOfFlats & 3 & $\\dots$ \\\\\n",
       "\t4 & 3eaa36a59b9354206703b5f6b2f2ff1d & 584999 & 1 & 42 & blockOfFlats & 2 & $\\dots$ \\\\\n",
       "\t5 & 027b30cebbc49faf3094421b741ddd56 & 363000 & 1 & 46 & blockOfFlats & 2 & $\\dots$ \\\\\n",
       "\t6 & 27437e173a8c37d5002c0bf69c848b7c & 717000 & 1 & 81 & tenement & 3 & $\\dots$ \\\\\n",
       "\t7 & 39404087c054348c27522c74ca21a973 & 689000 & 1 & 70 & blockOfFlats & 3 & $\\dots$ \\\\\n",
       "\t8 & 7a3b00507c086fcf83562f22bb5d01fc & 790000 & 1 & 67 & apartmentBuilding & 3 & $\\dots$ \\\\\n",
       "\t9 & 24af7cc54099d7930535543827604a9d & 560000 & 1 & 69 & blockOfFlats & 3 & $\\dots$ \\\\\n",
       "\t10 & 7ebe2d0eeb6231486f90c5835c695cd7 & 590000 & 1 & 56 & blockOfFlats & 2 & $\\dots$ \\\\\n",
       "\t11 & 209a6d2dea99216bdf83a968343cd3b3 & 390000 & 1 & 61 & tenement & 2 & $\\dots$ \\\\\n",
       "\t12 & bac1869ad9c2c1ef444b0ba6d225761a & 599000 & 1 & 78 & tenement & 3 & $\\dots$ \\\\\n",
       "\t13 & 0eb9e4df5696c9bf7c849706372fbe18 & 729000 & 1 & 63 & apartmentBuilding & 3 & $\\dots$ \\\\\n",
       "\t14 & f40a9e80d4c9439f1fd3a57257771d78 & 620000 & 1 & 54 & blockOfFlats & 2 & $\\dots$ \\\\\n",
       "\t15 & 14f7d02e2662dc6935732e81bd40944f & 679000 & 1 & 59 & apartmentBuilding & 3 & $\\dots$ \\\\\n",
       "\t16 & 4a629a1a01c7bedac13e9bcf98212d8a & 435000 & 1 & 82 & tenement & 3 & $\\dots$ \\\\\n",
       "\t17 & 76affd52069119ac305ee74b21b4aed7 & 580000 & 1 & 57 & blockOfFlats & 2 & $\\dots$ \\\\\n",
       "\t18 & 1e92d0c372358479553963901bd8e568 & 549000 & 1 & 64 & blockOfFlats & 3 & $\\dots$ \\\\\n",
       "\t19 & 312f2788e54076b94f950baaeced3e54 & 512000 & 1 & 91 & blockOfFlats & 4 & $\\dots$ \\\\\n",
       "\t20 & 35e001d173d4f6626e6e1d92ec75af93 & 514000 & 1 & 53 & blockOfFlats & 2 & $\\dots$ \\\\\n",
       "\t21 & 402d6b0ff1c84434185b93f9d16115a4 & 430000 & 1 & 27 & tenement & 2 & $\\dots$ \\\\\n",
       "\t22 & 7811da22fe39ef6dc5c1ae815557c5c7 & 363000 & 1 & 34 & blockOfFlats & 2 & $\\dots$ \\\\\n",
       "\t23 & a6d64691618dac8d1befa68678b6271e & 798000 & 1 & 109 & blockOfFlats & 5 & $\\dots$ \\\\\n",
       "\t24 & 4777aa53b2049176132d4a8175b985b9 & 465000 & 1 & 82 & tenement & 3 & $\\dots$ \\\\\n",
       "\t25 & 1d5625a24125ddf6482753dedb30454b & 426000 & 1 & 80 & tenement & 4 & $\\dots$ \\\\\n",
       "\t26 & ecb53846ed82859bc4ae397580b4777d & 329000 & 1 & 29 & \\emph{missing} & 1 & $\\dots$ \\\\\n",
       "\t27 & 029c3adc75ff9312dfa4b9a898c81338 & 750000 & 1 & 94 & tenement & 3 & $\\dots$ \\\\\n",
       "\t28 & 155795f0eb31afb9c4cc16ebcc3faf3f & 330000 & 1 & 43 & tenement & 2 & $\\dots$ \\\\\n",
       "\t29 & f5f98bac48f3b53fbce2fa14054014c8 & 615000 & 1 & 91 & tenement & 5 & $\\dots$ \\\\\n",
       "\t30 & b7eee58836d9125111fdc4a414848985 & 529000 & 1 & 84 & blockOfFlats & 4 & $\\dots$ \\\\\n",
       "\t$\\dots$ & $\\dots$ & $\\dots$ & $\\dots$ & $\\dots$ & $\\dots$ & $\\dots$ &  \\\\\n",
       "\\end{tabular}\n"
      ],
      "text/plain": [
       "\u001b[1m110191×22 DataFrame\u001b[0m\n",
       "\u001b[1m    Row \u001b[0m│\u001b[1m id                               \u001b[0m\u001b[1m price   \u001b[0m\u001b[1m month \u001b[0m\u001b[1m area  \u001b[0m\u001b[1m type       \u001b[0m ⋯\n",
       "        │\u001b[90m String                           \u001b[0m\u001b[90m Int64   \u001b[0m\u001b[90m Int64 \u001b[0m\u001b[90m Int64 \u001b[0m\u001b[90m String31?  \u001b[0m ⋯\n",
       "────────┼───────────────────────────────────────────────────────────────────────\n",
       "      1 │ a01d82c9529f98a54d64b9e061c9a73b  1199999      1    105  apartmentBu ⋯\n",
       "      2 │ 8373aa373dbc3fe7ca3b7434166b8766   650000      1     73  tenement\n",
       "      3 │ 7d0c31d5409caab173571cce3dcdf702   590000      1     69  blockOfFlat\n",
       "      4 │ 3eaa36a59b9354206703b5f6b2f2ff1d   584999      1     42  blockOfFlat\n",
       "      5 │ 027b30cebbc49faf3094421b741ddd56   363000      1     46  blockOfFlat ⋯\n",
       "      6 │ 27437e173a8c37d5002c0bf69c848b7c   717000      1     81  tenement\n",
       "      7 │ 39404087c054348c27522c74ca21a973   689000      1     70  blockOfFlat\n",
       "      8 │ 7a3b00507c086fcf83562f22bb5d01fc   790000      1     67  apartmentBu\n",
       "      9 │ 24af7cc54099d7930535543827604a9d   560000      1     69  blockOfFlat ⋯\n",
       "     10 │ 7ebe2d0eeb6231486f90c5835c695cd7   590000      1     56  blockOfFlat\n",
       "     11 │ 209a6d2dea99216bdf83a968343cd3b3   390000      1     61  tenement\n",
       "   ⋮    │                ⋮                     ⋮       ⋮      ⋮            ⋮   ⋱\n",
       " 110182 │ a60ba102db3a0bc6382067374af4da88   279000      6     48  tenement\n",
       " 110183 │ e8ab3325e52904d3dfa03f9a67a4f65b   949000      6    124  tenement    ⋯\n",
       " 110184 │ cefd286e6a2eb7e6ba65a194e49baf03   510000      6     88  tenement\n",
       " 110185 │ 43ba1ff7e0804730281149d62fc9a48b   599000      6     95  tenement\n",
       " 110186 │ 4d5c0e9d63750d4e7ff183460b3fc8d1   670000      6    101  tenement\n",
       " 110187 │ ca83fdbc19c1e62e1cc6b6b21dcd5e03   460000      6     54 \u001b[90m missing    \u001b[0m ⋯\n",
       " 110188 │ 204c93689b7cdc62a17ef3c0dbf7034a   499000      6     98  tenement\n",
       " 110189 │ bb19da639a2de8bba49be2ca49053c87   795000      6    109  tenement\n",
       " 110190 │ 1e7f4f1fdfea31eb84e071d697839632   360000      6     50 \u001b[90m missing    \u001b[0m\n",
       " 110191 │ 60fcbfa2a2a48ebcc2e554efba7f2729   300000      6     59  tenement    ⋯\n",
       "\u001b[36m                                              18 columns and 110170 rows omitted\u001b[0m"
      ]
     },
     "execution_count": 4,
     "metadata": {},
     "output_type": "execute_result"
    }
   ],
   "source": [
    "transform!(data, :area => ByRow(x -> x^2) => :area2)"
   ]
  },
  {
   "cell_type": "code",
   "execution_count": 8,
   "id": "a2a6f626-4da4-4cbb-87d2-4bba59dd922c",
   "metadata": {},
   "outputs": [],
   "source": [
    "dummies = [:hasparkingspace, :hasbalcony, :haselevator, :hassecurity, :hasstorageroom]\n",
    "\n",
    "for c in dummies\n",
    "    transform!(data, c => ByRow(x -> x === missing ? missing : (x == \"yes\" ? 1 : 0)) => c)\n",
    "end"
   ]
  },
  {
   "cell_type": "code",
   "execution_count": 10,
   "id": "a86052cf-82d3-45ae-b46e-2ac72a4443d7",
   "metadata": {
    "scrolled": true
   },
   "outputs": [
    {
     "data": {
      "text/plain": [
       "110191-element Vector{Int64}:\n",
       " 5\n",
       " 3\n",
       " 9\n",
       " 2\n",
       " 6\n",
       " 1\n",
       " 0\n",
       " 7\n",
       " 9\n",
       " 6\n",
       " 1\n",
       " 8\n",
       " 3\n",
       " ⋮\n",
       " 2\n",
       " 9\n",
       " 8\n",
       " 4\n",
       " 8\n",
       " 5\n",
       " 1\n",
       " 4\n",
       " 8\n",
       " 9\n",
       " 0\n",
       " 9"
      ]
     },
     "execution_count": 10,
     "metadata": {},
     "output_type": "execute_result"
    }
   ],
   "source": [
    "data[!, :ud] = data[!, :area] .% 10"
   ]
  },
  {
   "cell_type": "code",
   "execution_count": 21,
   "id": "8bc30242-155e-49c3-a881-4c2b773560c9",
   "metadata": {},
   "outputs": [],
   "source": [
    "using CategoricalArrays\n",
    "using StatsModels"
   ]
  },
  {
   "cell_type": "code",
   "execution_count": 24,
   "id": "06ddf5b2-9838-4836-a522-4684b55c9693",
   "metadata": {},
   "outputs": [],
   "source": [
    "data.ud = CategoricalArray(data.ud)\n",
    "\n",
    "for c in levels(data.ud)\n",
    "    data[!, Symbol(\"ud_\", c)] = Int.(data.ud .== c)\n",
    "end"
   ]
  },
  {
   "cell_type": "code",
   "execution_count": 26,
   "id": "d6c7447c-2599-4e4d-83d1-bce28af91344",
   "metadata": {},
   "outputs": [],
   "source": [
    "categorical_cols = [:month, :type, :rooms, :ownership, :buildingmaterial]\n",
    "\n",
    "for col in categorical_cols\n",
    "    data[!, col] = CategoricalArray(data[!, col])\n",
    "end"
   ]
  },
  {
   "cell_type": "code",
   "execution_count": 27,
   "id": "1a0d094f-6986-4191-b27e-41ba8e8bffc6",
   "metadata": {},
   "outputs": [
    {
     "name": "stderr",
     "output_type": "stream",
     "text": [
      "\u001b[32m\u001b[1m   Resolving\u001b[22m\u001b[39m package versions...\n",
      "\u001b[32m\u001b[1m   Installed\u001b[22m\u001b[39m FillArrays ──── v1.13.0\n",
      "\u001b[32m\u001b[1m   Installed\u001b[22m\u001b[39m QuadGK ──────── v2.11.2\n",
      "\u001b[32m\u001b[1m   Installed\u001b[22m\u001b[39m PDMats ──────── v0.11.35\n",
      "\u001b[32m\u001b[1m   Installed\u001b[22m\u001b[39m GLM ─────────── v1.9.0\n",
      "\u001b[32m\u001b[1m   Installed\u001b[22m\u001b[39m Distributions ─ v0.25.120\n",
      "\u001b[32m\u001b[1m    Updating\u001b[22m\u001b[39m `C:\\Users\\carlo\\.julia\\environments\\v1.11\\Project.toml`\n",
      "  \u001b[90m[38e38edf] \u001b[39m\u001b[92m+ GLM v1.9.0\u001b[39m\n",
      "\u001b[32m\u001b[1m    Updating\u001b[22m\u001b[39m `C:\\Users\\carlo\\.julia\\environments\\v1.11\\Manifest.toml`\n",
      "  \u001b[90m[31c24e10] \u001b[39m\u001b[92m+ Distributions v0.25.120\u001b[39m\n",
      "  \u001b[90m[1a297f60] \u001b[39m\u001b[92m+ FillArrays v1.13.0\u001b[39m\n",
      "  \u001b[90m[38e38edf] \u001b[39m\u001b[92m+ GLM v1.9.0\u001b[39m\n",
      "  \u001b[90m[90014a1f] \u001b[39m\u001b[92m+ PDMats v0.11.35\u001b[39m\n",
      "  \u001b[90m[1fd47b50] \u001b[39m\u001b[92m+ QuadGK v2.11.2\u001b[39m\n",
      "  \u001b[90m[4607b0f0] \u001b[39m\u001b[92m+ SuiteSparse\u001b[39m\n",
      " project...ecompiling\u001b[22m\u001b[39m\n",
      "    469.7 ms\u001b[32m  ✓ \u001b[39m\u001b[90mSuiteSparse\u001b[39m\n",
      "    710.2 ms\u001b[32m  ✓ \u001b[39m\u001b[90mFillArrays\u001b[39m\n",
      "    791.6 ms\u001b[32m  ✓ \u001b[39m\u001b[90mQuadGK\u001b[39m\n",
      "   1800.9 ms\u001b[32m  ✓ \u001b[39m\u001b[90mPDMats\u001b[39m\n",
      "   2160.3 ms\u001b[32m  ✓ \u001b[39m\u001b[90mFillArrays → FillArraysStatisticsExt\u001b[39m\n",
      "   2162.5 ms\u001b[32m  ✓ \u001b[39m\u001b[90mFillArrays → FillArraysSparseArraysExt\u001b[39m\n",
      "   1714.8 ms\u001b[32m  ✓ \u001b[39m\u001b[90mFillArrays → FillArraysPDMatsExt\u001b[39m\n",
      "   9239.9 ms\u001b[32m  ✓ \u001b[39m\u001b[90mDistributions\u001b[39m\n",
      "   5793.7 ms\u001b[32m  ✓ \u001b[39mGLM\n",
      "  9 dependencies successfully precompiled in 19 seconds. 96 already precompiled.\n"
     ]
    }
   ],
   "source": [
    "Pkg.add(\"GLM\")"
   ]
  },
  {
   "cell_type": "code",
   "execution_count": 31,
   "id": "c80a88e9-c539-4126-8965-b7eedd581ed8",
   "metadata": {},
   "outputs": [
    {
     "name": "stdout",
     "output_type": "stream",
     "text": [
      "\u001b[1m26×7 DataFrame\u001b[0m\n",
      "\u001b[1m Row \u001b[0m│\u001b[1m Name                           \u001b[0m\u001b[1m Coef.          \u001b[0m\u001b[1m Std. Error    \u001b[0m\u001b[1m t           \u001b[0m\u001b[1m Pr(>|t|)       \u001b[0m\u001b[1m Lower 95%      \u001b[0m\u001b[1m Upper 95%      \u001b[0m\n",
      "     │\u001b[90m String                         \u001b[0m\u001b[90m Float64        \u001b[0m\u001b[90m Float64       \u001b[0m\u001b[90m Float64     \u001b[0m\u001b[90m Float64        \u001b[0m\u001b[90m Float64        \u001b[0m\u001b[90m Float64        \u001b[0m\n",
      "─────┼────────────────────────────────────────────────────────────────────────────────────────────────────────────────────────────\n",
      "   1 │ (Intercept)                      75637.8        10099.8          7.48907      7.02814e-14    55842.2         95433.4\n",
      "   2 │ ud_0                             25028.4         5779.57         4.3305       1.49003e-5     13700.5         36356.4\n",
      "   3 │ ud_1                             -9043.1         6247.59        -1.44745      0.147775      -21288.4          3202.19\n",
      "   4 │ ud_2                             14270.4         6018.83         2.37095      0.0177455       2473.43        26067.3\n",
      "   5 │ ud_3                             39557.3         6062.91         6.52447      6.87659e-11    27674.0         51440.6\n",
      "   6 │ ud_4                             12643.5         6013.36         2.10256      0.0355083        857.253       24429.7\n",
      "   7 │ ud_5                             19969.0         5974.8          3.34221      0.000831647     8258.38        31679.6\n",
      "   8 │ ud_6                              1587.16        5875.92         0.270113     0.787074       -9929.66        13104.0\n",
      "   9 │ ud_7                             21895.8         5920.94         3.69802      0.000217474    10290.7         33500.8\n",
      "  10 │ ud_8                               126.919       5756.6          0.0220475    0.98241       -11156.0         11409.9\n",
      "  11 │ area                             11731.3          261.14        44.9234       0.0            11219.5         12243.1\n",
      "  12 │ area2                               12.3777         1.74955      7.0748       1.51245e-12        8.94859        15.8068\n",
      "  13 │ schooldistance                    2802.49        5973.57         0.469149     0.638965       -8905.72        14510.7\n",
      "  14 │ clinicdistance                  -53526.4         2078.28       -25.7551       1.65382e-145  -57599.8        -49452.9\n",
      "  15 │ postofficedistance              -25481.2         4984.16        -5.11244      3.18973e-7    -35250.1        -15712.2\n",
      "  16 │ kindergartendistance            -56424.3         6023.79        -9.36691      7.70884e-21   -68231.0        -44617.7\n",
      "  17 │ collegedistance                  -8033.09        1466.82        -5.47653      4.35438e-8    -10908.1         -5158.12\n",
      "  18 │ pharmacydistance                 65361.7         6821.87         9.5812       9.93111e-22    51990.8         78732.5\n",
      "  19 │ ownership: cooperative          -24814.7         4519.44        -5.49065      4.02022e-8    -33672.8        -15956.6\n",
      "  20 │ ownership: udziaÃ\\u85Â\\u82      -29027.9            1.12193e5   -0.258731     0.795843          -2.48927e5       1.90871e5\n",
      "  21 │ buildingmaterial: concreteSlab      -1.78394e5   3573.44       -49.9223       0.0               -1.85398e5      -1.7139e5\n",
      "  22 │ hasparkingspace                      0.0          NaN          NaN          NaN                NaN             NaN\n",
      "  23 │ hasbalcony                           0.0          NaN          NaN          NaN                NaN             NaN\n",
      "  24 │ haselevator                          2.61825e5   2767.62        94.603        0.0                2.56401e5       2.6725e5\n",
      "  25 │ hassecurity                      40966.2         3880.99        10.5556       5.03528e-26    33359.5         48573.0\n",
      "  26 │ hasstorageroom                  -37208.1         2856.02       -13.028        9.53845e-39   -42805.9        -31610.3"
     ]
    }
   ],
   "source": [
    "using GLM\n",
    "reg = @formula(price ~ ud_0 + ud_1 + ud_2 + ud_3 + ud_4 + ud_5 + ud_6 + ud_7 + ud_8\n",
    "                     + area + area2\n",
    "                     + schooldistance + clinicdistance + postofficedistance\n",
    "                     + kindergartendistance + collegedistance + pharmacydistance\n",
    "                     + ownership + buildingmaterial\n",
    "                     + hasparkingspace + hasbalcony + haselevator\n",
    "                     + hassecurity + hasstorageroom)\n",
    "\n",
    "model = lm(reg, data)\n",
    "\n",
    "df_coefs = DataFrame(coeftable(model))\n",
    "show(df_coefs, allcols=true, allrows=true)"
   ]
  },
  {
   "cell_type": "markdown",
   "id": "5af7173d-a1f5-47ff-bd60-6e1317e5a55e",
   "metadata": {},
   "source": [
    "### Partialing out"
   ]
  },
  {
   "cell_type": "code",
   "execution_count": 33,
   "id": "8f1464f4-b0bf-48a4-9726-9239fac632ae",
   "metadata": {},
   "outputs": [
    {
     "data": {
      "text/plain": [
       "62068-element Vector{Float64}:\n",
       " -414707.3277546393\n",
       " -332494.3613674628\n",
       " -183184.47347684426\n",
       "  -18694.916729081015\n",
       " -331915.0722559991\n",
       " -229398.70404858247\n",
       " -344410.4523057819\n",
       " -340661.29008741584\n",
       " -116790.79142474139\n",
       " -294459.2673514981\n",
       " -371055.4253225267\n",
       " -384029.4738757147\n",
       "   35306.18021498853\n",
       "       ⋮\n",
       " -138524.27588443813\n",
       " -555601.9970496955\n",
       " -267960.2760677723\n",
       " -320099.8055841273\n",
       " -713020.2955927402\n",
       " -604423.3973543651\n",
       " -651527.001599624\n",
       " -642688.5432110894\n",
       " -781344.1123901529\n",
       " -619260.1681529225\n",
       " -309946.1295565177\n",
       " -417927.08674712724"
      ]
     },
     "execution_count": 33,
     "metadata": {},
     "output_type": "execute_result"
    }
   ],
   "source": [
    "residuos_mc = residuals(model)"
   ]
  },
  {
   "cell_type": "code",
   "execution_count": 35,
   "id": "0d747682-7d08-42e3-a274-14c56ba99e8a",
   "metadata": {},
   "outputs": [
    {
     "name": "stdout",
     "output_type": "stream",
     "text": [
      "\u001b[1m25×7 DataFrame\u001b[0m\n",
      "\u001b[1m Row \u001b[0m│\u001b[1m Name                           \u001b[0m\u001b[1m Coef.          \u001b[0m\u001b[1m Std. Error   \u001b[0m\u001b[1m t          \u001b[0m\u001b[1m Pr(>|t|)      \u001b[0m\u001b[1m Lower 95%       \u001b[0m\u001b[1m Upper 95%      \u001b[0m\n",
      "     │\u001b[90m String                         \u001b[0m\u001b[90m Float64        \u001b[0m\u001b[90m Float64      \u001b[0m\u001b[90m Float64    \u001b[0m\u001b[90m Float64       \u001b[0m\u001b[90m Float64         \u001b[0m\u001b[90m Float64        \u001b[0m\n",
      "─────┼──────────────────────────────────────────────────────────────────────────────────────────────────────────────────────────\n",
      "   1 │ (Intercept)                      89852.0        9552.88         9.40575     5.33537e-21    71128.3             1.08576e5\n",
      "   2 │ ud_1                            -23576.7        5270.38        -4.47344     7.71069e-6    -33906.7        -13246.8\n",
      "   3 │ ud_2                              -267.401      4996.36        -0.053519    0.957319      -10060.3          9525.48\n",
      "   4 │ ud_3                             25001.4        5046.61         4.95411     7.28545e-7     15110.1         34892.8\n",
      "   5 │ ud_4                             -1903.41       4988.36        -0.38157     0.702782      -11680.6          7873.78\n",
      "   6 │ ud_5                              5422.97       4941.91         1.09734     0.272496       -4263.19        15109.1\n",
      "   7 │ ud_6                            -12942.4        4824.52        -2.68263     0.0073065     -22398.5         -3486.33\n",
      "   8 │ ud_7                              7392.66       4883.46         1.51382     0.130078       -2178.93        16964.3\n",
      "   9 │ ud_8                            -14379.3        4682.29        -3.07099     0.00213443    -23556.6         -5201.96\n",
      "  10 │ area                             11735.4         261.176       44.933       0.0            11223.5         12247.3\n",
      "  11 │ area2                               12.4023        1.74979      7.0879      1.37608e-12        8.97275        15.8319\n",
      "  12 │ schooldistance                    3186.64       5973.77         0.533439    0.593731       -8521.95        14895.2\n",
      "  13 │ clinicdistance                  -53431.0        2078.47       -25.707       5.6375e-145   -57504.8        -49357.2\n",
      "  14 │ postofficedistance              -25493.2        4984.87        -5.11412     3.16139e-7    -35263.6        -15722.9\n",
      "  15 │ kindergartendistance            -56423.0        6024.65        -9.36535     7.82343e-21   -68231.3        -44614.7\n",
      "  16 │ collegedistance                  -8136.77       1466.84        -5.54715     2.91539e-8    -11011.8         -5261.77\n",
      "  17 │ pharmacydistance                 65304.1        6822.83         9.57141     1.09166e-21    51931.3         78676.9\n",
      "  18 │ ownership: cooperative          -24925.7        4520.01        -5.51452     3.51127e-8    -33784.9        -16066.5\n",
      "  19 │ ownership: udziaÃ\\u85Â\\u82      -29084.8           1.12209e5   -0.259201    0.795481     -249015.0             1.90846e5\n",
      "  20 │ buildingmaterial: concreteSlab      -1.78392e5  3573.95       -49.9145      0.0               -1.85397e5      -1.71387e5\n",
      "  21 │ hasparkingspace                      0.0         NaN          NaN         NaN                NaN             NaN\n",
      "  22 │ hasbalcony                           0.0         NaN          NaN         NaN                NaN             NaN\n",
      "  23 │ haselevator                          2.61745e5  2767.95        94.5625      0.0                2.5632e5        2.6717e5\n",
      "  24 │ hassecurity                      41046.6        3881.51        10.5749      4.09996e-26    33438.8         48654.4\n",
      "  25 │ hasstorageroom                  -37292.3        2856.36       -13.0559      6.6188e-39    -42890.8        -31693.9"
     ]
    }
   ],
   "source": [
    "reg = @formula(price ~ ud_1 + ud_2 + ud_3 + ud_4 + ud_5 + ud_6 + ud_7 + ud_8\n",
    "                 + area + area2\n",
    "                 + schooldistance + clinicdistance + postofficedistance\n",
    "                 + kindergartendistance + collegedistance + pharmacydistance\n",
    "                 + ownership + buildingmaterial\n",
    "                 + hasparkingspace + hasbalcony + haselevator\n",
    "                 + hassecurity + hasstorageroom)\n",
    "\n",
    "modelsinud0 = lm(reg, data)\n",
    "\n",
    "df_coefs1 = DataFrame(coeftable(modelsinud0))\n",
    "show(df_coefs1, allcols=true, allrows=true)"
   ]
  },
  {
   "cell_type": "code",
   "execution_count": 36,
   "id": "a21bdd77-6996-425c-b1ec-a49a8c7e4d16",
   "metadata": {},
   "outputs": [
    {
     "data": {
      "text/plain": [
       "62068-element Vector{Float64}:\n",
       " -415159.92922440753\n",
       " -332540.6403423826\n",
       " -197786.81658447534\n",
       "  -18570.068546713737\n",
       " -332014.745620938\n",
       " -218773.65980061726\n",
       " -344588.7072358187\n",
       " -355286.5321721182\n",
       " -116715.17410771386\n",
       " -294137.1064082666\n",
       " -371363.83967885585\n",
       " -384089.78558740555\n",
       "   20712.16245950258\n",
       "       ⋮\n",
       " -138518.16791677062\n",
       " -555806.4512247522\n",
       " -282418.9702041419\n",
       " -320035.7850048449\n",
       " -713473.4447533663\n",
       " -604628.3299113926\n",
       " -651705.4748600782\n",
       " -643006.8450434317\n",
       " -781604.3313576912\n",
       " -634279.502636444\n",
       " -299460.00319178856\n",
       " -432381.9086023803"
      ]
     },
     "execution_count": 36,
     "metadata": {},
     "output_type": "execute_result"
    }
   ],
   "source": [
    "residuos_msinud0 = residuals(modelsinud0)"
   ]
  },
  {
   "cell_type": "code",
   "execution_count": 37,
   "id": "55003878-4f90-43f1-8599-88a4333a4bbc",
   "metadata": {},
   "outputs": [
    {
     "data": {
      "text/plain": [
       "110191-element Vector{Int64}:\n",
       " 0\n",
       " 0\n",
       " 0\n",
       " 0\n",
       " 0\n",
       " 0\n",
       " 1\n",
       " 0\n",
       " 0\n",
       " 0\n",
       " 0\n",
       " 0\n",
       " 0\n",
       " ⋮\n",
       " 0\n",
       " 0\n",
       " 0\n",
       " 0\n",
       " 0\n",
       " 0\n",
       " 0\n",
       " 0\n",
       " 0\n",
       " 0\n",
       " 1\n",
       " 0"
      ]
     },
     "execution_count": 37,
     "metadata": {},
     "output_type": "execute_result"
    }
   ],
   "source": [
    "data.ud_0 = Int.(data.ud_0)"
   ]
  },
  {
   "cell_type": "code",
   "execution_count": 38,
   "id": "7f2519ac-8ced-4eae-aab6-cdb7f449a711",
   "metadata": {},
   "outputs": [
    {
     "name": "stdout",
     "output_type": "stream",
     "text": [
      "\u001b[1m25×7 DataFrame\u001b[0m\n",
      "\u001b[1m Row \u001b[0m│\u001b[1m Name                           \u001b[0m\u001b[1m Coef.          \u001b[0m\u001b[1m Std. Error   \u001b[0m\u001b[1m t          \u001b[0m\u001b[1m Pr(>|t|)      \u001b[0m\u001b[1m Lower 95%       \u001b[0m\u001b[1m Upper 95%      \u001b[0m\n",
      "     │\u001b[90m String                         \u001b[0m\u001b[90m Float64        \u001b[0m\u001b[90m Float64      \u001b[0m\u001b[90m Float64    \u001b[0m\u001b[90m Float64       \u001b[0m\u001b[90m Float64         \u001b[0m\u001b[90m Float64        \u001b[0m\n",
      "─────┼──────────────────────────────────────────────────────────────────────────────────────────────────────────────────────────\n",
      "   1 │ (Intercept)                      89852.0        9552.88         9.40575     5.33537e-21    71128.3             1.08576e5\n",
      "   2 │ ud_1                            -23576.7        5270.38        -4.47344     7.71069e-6    -33906.7        -13246.8\n",
      "   3 │ ud_2                              -267.401      4996.36        -0.053519    0.957319      -10060.3          9525.48\n",
      "   4 │ ud_3                             25001.4        5046.61         4.95411     7.28545e-7     15110.1         34892.8\n",
      "   5 │ ud_4                             -1903.41       4988.36        -0.38157     0.702782      -11680.6          7873.78\n",
      "   6 │ ud_5                              5422.97       4941.91         1.09734     0.272496       -4263.19        15109.1\n",
      "   7 │ ud_6                            -12942.4        4824.52        -2.68263     0.0073065     -22398.5         -3486.33\n",
      "   8 │ ud_7                              7392.66       4883.46         1.51382     0.130078       -2178.93        16964.3\n",
      "   9 │ ud_8                            -14379.3        4682.29        -3.07099     0.00213443    -23556.6         -5201.96\n",
      "  10 │ area                             11735.4         261.176       44.933       0.0            11223.5         12247.3\n",
      "  11 │ area2                               12.4023        1.74979      7.0879      1.37608e-12        8.97275        15.8319\n",
      "  12 │ schooldistance                    3186.64       5973.77         0.533439    0.593731       -8521.95        14895.2\n",
      "  13 │ clinicdistance                  -53431.0        2078.47       -25.707       5.6375e-145   -57504.8        -49357.2\n",
      "  14 │ postofficedistance              -25493.2        4984.87        -5.11412     3.16139e-7    -35263.6        -15722.9\n",
      "  15 │ kindergartendistance            -56423.0        6024.65        -9.36535     7.82343e-21   -68231.3        -44614.7\n",
      "  16 │ collegedistance                  -8136.77       1466.84        -5.54715     2.91539e-8    -11011.8         -5261.77\n",
      "  17 │ pharmacydistance                 65304.1        6822.83         9.57141     1.09166e-21    51931.3         78676.9\n",
      "  18 │ ownership: cooperative          -24925.7        4520.01        -5.51452     3.51127e-8    -33784.9        -16066.5\n",
      "  19 │ ownership: udziaÃ\\u85Â\\u82      -29084.8           1.12209e5   -0.259201    0.795481     -249015.0             1.90846e5\n",
      "  20 │ buildingmaterial: concreteSlab      -1.78392e5  3573.95       -49.9145      0.0               -1.85397e5      -1.71387e5\n",
      "  21 │ hasparkingspace                      0.0         NaN          NaN         NaN                NaN             NaN\n",
      "  22 │ hasbalcony                           0.0         NaN          NaN         NaN                NaN             NaN\n",
      "  23 │ haselevator                          2.61745e5  2767.95        94.5625      0.0                2.5632e5        2.6717e5\n",
      "  24 │ hassecurity                      41046.6        3881.51        10.5749      4.09996e-26    33438.8         48654.4\n",
      "  25 │ hasstorageroom                  -37292.3        2856.36       -13.0559      6.6188e-39    -42890.8        -31693.9"
     ]
    }
   ],
   "source": [
    "reg = @formula(ud_0 ~ ud_1 + ud_2 + ud_3 + ud_4 + ud_5 + ud_6 + ud_7 + ud_8\n",
    "                 + area + area2\n",
    "                 + schooldistance + clinicdistance + postofficedistance\n",
    "                 + kindergartendistance + collegedistance + pharmacydistance\n",
    "                 + ownership + buildingmaterial\n",
    "                 + hasparkingspace + hasbalcony + haselevator\n",
    "                 + hassecurity + hasstorageroom)\n",
    "\n",
    "modelud0 = lm(reg, data)\n",
    "\n",
    "df_coefs2 = DataFrame(coeftable(modelsinud0))\n",
    "show(df_coefs2, allcols=true, allrows=true)"
   ]
  },
  {
   "cell_type": "code",
   "execution_count": 39,
   "id": "9f6ea632-476f-44f8-8924-9d9befd861f6",
   "metadata": {},
   "outputs": [
    {
     "data": {
      "text/plain": [
       "62068-element Vector{Float64}:\n",
       " -0.018083495327812678\n",
       " -0.0018490563611188557\n",
       " -0.5834302824899159\n",
       "  0.004988254951268856\n",
       " -0.003982406044959617\n",
       "  0.42451903241609434\n",
       " -0.007122098379636373\n",
       " -0.5843452011823196\n",
       "  0.0030212570893189024\n",
       "  0.01287180069200207\n",
       " -0.012322561777246971\n",
       " -0.0024097282695998835\n",
       " -0.5830976466576273\n",
       "  ⋮\n",
       "  0.00024404119774302417\n",
       " -0.008168877845824938\n",
       " -0.5776908501766297\n",
       "  0.0025579144648492152\n",
       " -0.01810537807851071\n",
       " -0.008187991389878945\n",
       " -0.007130821676744496\n",
       " -0.012717611590937868\n",
       " -0.010396935931491685\n",
       " -0.6000909919692383\n",
       "  0.4189686286717407\n",
       " -0.5775361348649236"
      ]
     },
     "execution_count": 39,
     "metadata": {},
     "output_type": "execute_result"
    }
   ],
   "source": [
    "residuosud0 = residuals(modelud0)"
   ]
  },
  {
   "cell_type": "code",
   "execution_count": 40,
   "id": "dc0d0a4a-142e-4cbb-b7ff-cc6f4ad2cc81",
   "metadata": {},
   "outputs": [
    {
     "data": {
      "text/html": [
       "<div><div style = \"float: left;\"><span>62068×2 DataFrame</span></div><div style = \"float: right;\"><span style = \"font-style: italic;\">62043 rows omitted</span></div><div style = \"clear: both;\"></div></div><div class = \"data-frame\" style = \"overflow-x: scroll;\"><table class = \"data-frame\" style = \"margin-bottom: 6px;\"><thead><tr class = \"header\"><th class = \"rowNumber\" style = \"font-weight: bold; text-align: right;\">Row</th><th style = \"text-align: left;\">residuos_msinud0</th><th style = \"text-align: left;\">residuosud0</th></tr><tr class = \"subheader headerLastRow\"><th class = \"rowNumber\" style = \"font-weight: bold; text-align: right;\"></th><th title = \"Float64\" style = \"text-align: left;\">Float64</th><th title = \"Float64\" style = \"text-align: left;\">Float64</th></tr></thead><tbody><tr><td class = \"rowNumber\" style = \"font-weight: bold; text-align: right;\">1</td><td style = \"text-align: right;\">-4.1516e5</td><td style = \"text-align: right;\">-0.0180835</td></tr><tr><td class = \"rowNumber\" style = \"font-weight: bold; text-align: right;\">2</td><td style = \"text-align: right;\">-3.32541e5</td><td style = \"text-align: right;\">-0.00184906</td></tr><tr><td class = \"rowNumber\" style = \"font-weight: bold; text-align: right;\">3</td><td style = \"text-align: right;\">-1.97787e5</td><td style = \"text-align: right;\">-0.58343</td></tr><tr><td class = \"rowNumber\" style = \"font-weight: bold; text-align: right;\">4</td><td style = \"text-align: right;\">-18570.1</td><td style = \"text-align: right;\">0.00498825</td></tr><tr><td class = \"rowNumber\" style = \"font-weight: bold; text-align: right;\">5</td><td style = \"text-align: right;\">-3.32015e5</td><td style = \"text-align: right;\">-0.00398241</td></tr><tr><td class = \"rowNumber\" style = \"font-weight: bold; text-align: right;\">6</td><td style = \"text-align: right;\">-2.18774e5</td><td style = \"text-align: right;\">0.424519</td></tr><tr><td class = \"rowNumber\" style = \"font-weight: bold; text-align: right;\">7</td><td style = \"text-align: right;\">-3.44589e5</td><td style = \"text-align: right;\">-0.0071221</td></tr><tr><td class = \"rowNumber\" style = \"font-weight: bold; text-align: right;\">8</td><td style = \"text-align: right;\">-3.55287e5</td><td style = \"text-align: right;\">-0.584345</td></tr><tr><td class = \"rowNumber\" style = \"font-weight: bold; text-align: right;\">9</td><td style = \"text-align: right;\">-1.16715e5</td><td style = \"text-align: right;\">0.00302126</td></tr><tr><td class = \"rowNumber\" style = \"font-weight: bold; text-align: right;\">10</td><td style = \"text-align: right;\">-2.94137e5</td><td style = \"text-align: right;\">0.0128718</td></tr><tr><td class = \"rowNumber\" style = \"font-weight: bold; text-align: right;\">11</td><td style = \"text-align: right;\">-3.71364e5</td><td style = \"text-align: right;\">-0.0123226</td></tr><tr><td class = \"rowNumber\" style = \"font-weight: bold; text-align: right;\">12</td><td style = \"text-align: right;\">-3.8409e5</td><td style = \"text-align: right;\">-0.00240973</td></tr><tr><td class = \"rowNumber\" style = \"font-weight: bold; text-align: right;\">13</td><td style = \"text-align: right;\">20712.2</td><td style = \"text-align: right;\">-0.583098</td></tr><tr><td style = \"text-align: right;\">&vellip;</td><td style = \"text-align: right;\">&vellip;</td><td style = \"text-align: right;\">&vellip;</td></tr><tr><td class = \"rowNumber\" style = \"font-weight: bold; text-align: right;\">62057</td><td style = \"text-align: right;\">-1.38518e5</td><td style = \"text-align: right;\">0.000244041</td></tr><tr><td class = \"rowNumber\" style = \"font-weight: bold; text-align: right;\">62058</td><td style = \"text-align: right;\">-5.55806e5</td><td style = \"text-align: right;\">-0.00816888</td></tr><tr><td class = \"rowNumber\" style = \"font-weight: bold; text-align: right;\">62059</td><td style = \"text-align: right;\">-282419.0</td><td style = \"text-align: right;\">-0.577691</td></tr><tr><td class = \"rowNumber\" style = \"font-weight: bold; text-align: right;\">62060</td><td style = \"text-align: right;\">-3.20036e5</td><td style = \"text-align: right;\">0.00255791</td></tr><tr><td class = \"rowNumber\" style = \"font-weight: bold; text-align: right;\">62061</td><td style = \"text-align: right;\">-7.13473e5</td><td style = \"text-align: right;\">-0.0181054</td></tr><tr><td class = \"rowNumber\" style = \"font-weight: bold; text-align: right;\">62062</td><td style = \"text-align: right;\">-6.04628e5</td><td style = \"text-align: right;\">-0.00818799</td></tr><tr><td class = \"rowNumber\" style = \"font-weight: bold; text-align: right;\">62063</td><td style = \"text-align: right;\">-6.51705e5</td><td style = \"text-align: right;\">-0.00713082</td></tr><tr><td class = \"rowNumber\" style = \"font-weight: bold; text-align: right;\">62064</td><td style = \"text-align: right;\">-6.43007e5</td><td style = \"text-align: right;\">-0.0127176</td></tr><tr><td class = \"rowNumber\" style = \"font-weight: bold; text-align: right;\">62065</td><td style = \"text-align: right;\">-7.81604e5</td><td style = \"text-align: right;\">-0.0103969</td></tr><tr><td class = \"rowNumber\" style = \"font-weight: bold; text-align: right;\">62066</td><td style = \"text-align: right;\">-6.3428e5</td><td style = \"text-align: right;\">-0.600091</td></tr><tr><td class = \"rowNumber\" style = \"font-weight: bold; text-align: right;\">62067</td><td style = \"text-align: right;\">-299460.0</td><td style = \"text-align: right;\">0.418969</td></tr><tr><td class = \"rowNumber\" style = \"font-weight: bold; text-align: right;\">62068</td><td style = \"text-align: right;\">-4.32382e5</td><td style = \"text-align: right;\">-0.577536</td></tr></tbody></table></div>"
      ],
      "text/latex": [
       "\\begin{tabular}{r|cc}\n",
       "\t& residuos\\_msinud0 & residuosud0\\\\\n",
       "\t\\hline\n",
       "\t& Float64 & Float64\\\\\n",
       "\t\\hline\n",
       "\t1 & -4.1516e5 & -0.0180835 \\\\\n",
       "\t2 & -3.32541e5 & -0.00184906 \\\\\n",
       "\t3 & -1.97787e5 & -0.58343 \\\\\n",
       "\t4 & -18570.1 & 0.00498825 \\\\\n",
       "\t5 & -3.32015e5 & -0.00398241 \\\\\n",
       "\t6 & -2.18774e5 & 0.424519 \\\\\n",
       "\t7 & -3.44589e5 & -0.0071221 \\\\\n",
       "\t8 & -3.55287e5 & -0.584345 \\\\\n",
       "\t9 & -1.16715e5 & 0.00302126 \\\\\n",
       "\t10 & -2.94137e5 & 0.0128718 \\\\\n",
       "\t11 & -3.71364e5 & -0.0123226 \\\\\n",
       "\t12 & -3.8409e5 & -0.00240973 \\\\\n",
       "\t13 & 20712.2 & -0.583098 \\\\\n",
       "\t14 & -6.14133e5 & -0.00552908 \\\\\n",
       "\t15 & -4.00963e5 & -0.000116322 \\\\\n",
       "\t16 & -6.07908e5 & -0.00586211 \\\\\n",
       "\t17 & 1.10773e5 & 0.00829041 \\\\\n",
       "\t18 & -2.15401e5 & 0.0100637 \\\\\n",
       "\t19 & -1.93299e5 & 0.00812811 \\\\\n",
       "\t20 & -6.66531e5 & -0.598752 \\\\\n",
       "\t21 & -5.61484e5 & -0.00112888 \\\\\n",
       "\t22 & -3.75623e5 & 0.377634 \\\\\n",
       "\t23 & -4.66804e5 & -0.0140439 \\\\\n",
       "\t24 & -2.43215e5 & 0.0107491 \\\\\n",
       "\t25 & -5.82614e5 & -0.0149582 \\\\\n",
       "\t26 & -5.58079e5 & -0.0061494 \\\\\n",
       "\t27 & -2.06631e5 & -0.5836 \\\\\n",
       "\t28 & -6.03173e5 & -0.0104268 \\\\\n",
       "\t29 & -11515.8 & 0.389607 \\\\\n",
       "\t30 & -1.42649e5 & -0.572419 \\\\\n",
       "\t$\\dots$ & $\\dots$ & $\\dots$ \\\\\n",
       "\\end{tabular}\n"
      ],
      "text/plain": [
       "\u001b[1m62068×2 DataFrame\u001b[0m\n",
       "\u001b[1m   Row \u001b[0m│\u001b[1m residuos_msinud0 \u001b[0m\u001b[1m residuosud0  \u001b[0m\n",
       "       │\u001b[90m Float64          \u001b[0m\u001b[90m Float64      \u001b[0m\n",
       "───────┼────────────────────────────────\n",
       "     1 │       -4.1516e5   -0.0180835\n",
       "     2 │       -3.32541e5  -0.00184906\n",
       "     3 │       -1.97787e5  -0.58343\n",
       "     4 │   -18570.1         0.00498825\n",
       "     5 │       -3.32015e5  -0.00398241\n",
       "     6 │       -2.18774e5   0.424519\n",
       "     7 │       -3.44589e5  -0.0071221\n",
       "     8 │       -3.55287e5  -0.584345\n",
       "     9 │       -1.16715e5   0.00302126\n",
       "    10 │       -2.94137e5   0.0128718\n",
       "    11 │       -3.71364e5  -0.0123226\n",
       "   ⋮   │        ⋮               ⋮\n",
       " 62059 │  -282419.0        -0.577691\n",
       " 62060 │       -3.20036e5   0.00255791\n",
       " 62061 │       -7.13473e5  -0.0181054\n",
       " 62062 │       -6.04628e5  -0.00818799\n",
       " 62063 │       -6.51705e5  -0.00713082\n",
       " 62064 │       -6.43007e5  -0.0127176\n",
       " 62065 │       -7.81604e5  -0.0103969\n",
       " 62066 │       -6.3428e5   -0.600091\n",
       " 62067 │  -299460.0         0.418969\n",
       " 62068 │       -4.32382e5  -0.577536\n",
       "\u001b[36m                      62047 rows omitted\u001b[0m"
      ]
     },
     "execution_count": 40,
     "metadata": {},
     "output_type": "execute_result"
    }
   ],
   "source": [
    "df_res = DataFrame(\n",
    "    residuos_msinud0 = residuals(modelsinud0),\n",
    "    residuosud0 = residuals(modelud0)\n",
    ")"
   ]
  },
  {
   "cell_type": "code",
   "execution_count": 41,
   "id": "ad957080-0e12-4b4f-b04d-4b91301336f9",
   "metadata": {},
   "outputs": [
    {
     "data": {
      "text/plain": [
       "StatsModels.TableRegressionModel{LinearModel{GLM.LmResp{Vector{Float64}}, GLM.DensePredChol{Float64, LinearAlgebra.CholeskyPivoted{Float64, Matrix{Float64}, Vector{Int64}}}}, Matrix{Float64}}\n",
       "\n",
       "residuos_msinud0 ~ 1 + residuosud0\n",
       "\n",
       "Coefficients:\n",
       "─────────────────────────────────────────────────────────────────────────────\n",
       "                      Coef.  Std. Error     t  Pr(>|t|)  Lower 95%  Upper 95%\n",
       "─────────────────────────────────────────────────────────────────────────────\n",
       "(Intercept)      3.5301e-10     1272.68  0.00    1.0000   -2494.45    2494.45\n",
       "residuosud0  25028.4            5778.54  4.33    <1e-04   13702.5    36354.4\n",
       "─────────────────────────────────────────────────────────────────────────────"
      ]
     },
     "execution_count": 41,
     "metadata": {},
     "output_type": "execute_result"
    }
   ],
   "source": [
    "p0model = lm(@formula(residuos_msinud0 ~ residuosud0), df_res)"
   ]
  },
  {
   "cell_type": "code",
   "execution_count": 42,
   "id": "e0dec4eb-a2bd-4024-9dd4-b1a675a52b00",
   "metadata": {},
   "outputs": [
    {
     "data": {
      "text/plain": [
       "75637.81143083506"
      ]
     },
     "execution_count": 42,
     "metadata": {},
     "output_type": "execute_result"
    }
   ],
   "source": [
    "coef(model)[1]"
   ]
  },
  {
   "cell_type": "code",
   "execution_count": 44,
   "id": "6e33e4d8-bb00-4006-b5ea-f91ed0a822f3",
   "metadata": {},
   "outputs": [
    {
     "data": {
      "text/plain": [
       "25028.42849587925"
      ]
     },
     "execution_count": 44,
     "metadata": {},
     "output_type": "execute_result"
    }
   ],
   "source": [
    "coef(p0model)[2]"
   ]
  },
  {
   "cell_type": "code",
   "execution_count": 45,
   "id": "bc110430-7c6a-45b7-86d6-cf2cef73622f",
   "metadata": {},
   "outputs": [
    {
     "data": {
      "text/html": [
       "<div><div style = \"float: left;\"><span>97540×33 DataFrame</span></div><div style = \"float: right;\"><span style = \"font-style: italic;\">97515 rows omitted</span></div><div style = \"clear: both;\"></div></div><div class = \"data-frame\" style = \"overflow-x: scroll;\"><table class = \"data-frame\" style = \"margin-bottom: 6px;\"><thead><tr class = \"header\"><th class = \"rowNumber\" style = \"font-weight: bold; text-align: right;\">Row</th><th style = \"text-align: left;\">id</th><th style = \"text-align: left;\">price</th><th style = \"text-align: left;\">month</th><th style = \"text-align: left;\">area</th><th style = \"text-align: left;\">type</th><th style = \"text-align: left;\">rooms</th><th style = \"text-align: left;\">centredistance</th><th style = \"text-align: left;\">schooldistance</th><th style = \"text-align: left;\">clinicdistance</th><th style = \"text-align: left;\">postofficedistance</th><th style = \"text-align: left;\">kindergartendistance</th><th style = \"text-align: left;\">restaurantdistance</th><th style = \"text-align: left;\">collegedistance</th><th style = \"text-align: left;\">pharmacydistance</th><th style = \"text-align: left;\">ownership</th><th style = \"text-align: left;\">buildingmaterial</th><th style = \"text-align: left;\">hasparkingspace</th><th style = \"text-align: left;\">hasbalcony</th><th style = \"text-align: left;\">haselevator</th><th style = \"text-align: left;\">hassecurity</th><th style = \"text-align: left;\">hasstorageroom</th><th style = \"text-align: left;\">area2</th><th style = \"text-align: left;\">ud</th><th style = \"text-align: left;\">ud_0</th><th style = \"text-align: left;\">ud_1</th><th style = \"text-align: left;\">ud_2</th><th style = \"text-align: left;\">ud_3</th><th style = \"text-align: left;\">ud_4</th><th style = \"text-align: left;\">ud_5</th><th style = \"text-align: left;\">ud_6</th><th style = \"text-align: left;\">ud_7</th><th style = \"text-align: left;\">ud_8</th><th style = \"text-align: left;\">ud_9</th></tr><tr class = \"subheader headerLastRow\"><th class = \"rowNumber\" style = \"font-weight: bold; text-align: right;\"></th><th title = \"String\" style = \"text-align: left;\">String</th><th title = \"Int64\" style = \"text-align: left;\">Int64</th><th title = \"CategoricalValue{Int64, UInt32}\" style = \"text-align: left;\">Cat…</th><th title = \"Int64\" style = \"text-align: left;\">Int64</th><th title = \"Union{Missing, CategoricalValue{String31, UInt32}}\" style = \"text-align: left;\">Cat…?</th><th title = \"CategoricalValue{Int64, UInt32}\" style = \"text-align: left;\">Cat…</th><th title = \"Float64\" style = \"text-align: left;\">Float64</th><th title = \"Union{Missing, Float64}\" style = \"text-align: left;\">Float64?</th><th title = \"Union{Missing, Float64}\" style = \"text-align: left;\">Float64?</th><th title = \"Union{Missing, Float64}\" style = \"text-align: left;\">Float64?</th><th title = \"Union{Missing, Float64}\" style = \"text-align: left;\">Float64?</th><th title = \"Union{Missing, Float64}\" style = \"text-align: left;\">Float64?</th><th title = \"Union{Missing, Float64}\" style = \"text-align: left;\">Float64?</th><th title = \"Union{Missing, Float64}\" style = \"text-align: left;\">Float64?</th><th title = \"CategoricalValue{String15, UInt32}\" style = \"text-align: left;\">Cat…</th><th title = \"Union{Missing, CategoricalValue{String15, UInt32}}\" style = \"text-align: left;\">Cat…?</th><th title = \"Int64\" style = \"text-align: left;\">Int64</th><th title = \"Int64\" style = \"text-align: left;\">Int64</th><th title = \"Union{Missing, Int64}\" style = \"text-align: left;\">Int64?</th><th title = \"Int64\" style = \"text-align: left;\">Int64</th><th title = \"Int64\" style = \"text-align: left;\">Int64</th><th title = \"Int64\" style = \"text-align: left;\">Int64</th><th title = \"CategoricalValue{Int64, UInt32}\" style = \"text-align: left;\">Cat…</th><th title = \"Int64\" style = \"text-align: left;\">Int64</th><th title = \"Int64\" style = \"text-align: left;\">Int64</th><th title = \"Int64\" style = \"text-align: left;\">Int64</th><th title = \"Int64\" style = \"text-align: left;\">Int64</th><th title = \"Int64\" style = \"text-align: left;\">Int64</th><th title = \"Int64\" style = \"text-align: left;\">Int64</th><th title = \"Int64\" style = \"text-align: left;\">Int64</th><th title = \"Int64\" style = \"text-align: left;\">Int64</th><th title = \"Int64\" style = \"text-align: left;\">Int64</th><th title = \"Int64\" style = \"text-align: left;\">Int64</th></tr></thead><tbody><tr><td class = \"rowNumber\" style = \"font-weight: bold; text-align: right;\">1</td><td style = \"text-align: left;\">a01d82c9529f98a54d64b9e061c9a73b</td><td style = \"text-align: right;\">1199999</td><td style = \"text-align: left;\">1</td><td style = \"text-align: right;\">105</td><td style = \"text-align: left;\">apartmentBuilding</td><td style = \"text-align: left;\">4</td><td style = \"text-align: right;\">5.06</td><td style = \"text-align: right;\">1.08</td><td style = \"text-align: right;\">0.949</td><td style = \"text-align: right;\">0.623</td><td style = \"text-align: right;\">0.791</td><td style = \"text-align: right;\">1.054</td><td style = \"text-align: right;\">3.062</td><td style = \"text-align: right;\">0.335</td><td style = \"text-align: left;\">condominium</td><td style = \"text-align: left;\">brick</td><td style = \"text-align: right;\">0</td><td style = \"text-align: right;\">0</td><td style = \"text-align: right;\">1</td><td style = \"text-align: right;\">0</td><td style = \"text-align: right;\">0</td><td style = \"text-align: right;\">11025</td><td style = \"text-align: left;\">5</td><td style = \"text-align: right;\">0</td><td style = \"text-align: right;\">0</td><td style = \"text-align: right;\">0</td><td style = \"text-align: right;\">0</td><td style = \"text-align: right;\">0</td><td style = \"text-align: right;\">1</td><td style = \"text-align: right;\">0</td><td style = \"text-align: right;\">0</td><td style = \"text-align: right;\">0</td><td style = \"text-align: right;\">0</td></tr><tr><td class = \"rowNumber\" style = \"font-weight: bold; text-align: right;\">2</td><td style = \"text-align: left;\">8373aa373dbc3fe7ca3b7434166b8766</td><td style = \"text-align: right;\">650000</td><td style = \"text-align: left;\">1</td><td style = \"text-align: right;\">73</td><td style = \"text-align: left;\">tenement</td><td style = \"text-align: left;\">3</td><td style = \"text-align: right;\">3.24</td><td style = \"text-align: right;\">0.275</td><td style = \"text-align: right;\">0.672</td><td style = \"text-align: right;\">0.367</td><td style = \"text-align: right;\">0.246</td><td style = \"text-align: right;\">0.3</td><td style = \"text-align: right;\">1.857</td><td style = \"text-align: right;\">0.28</td><td style = \"text-align: left;\">condominium</td><td style = \"text-align: left;\">brick</td><td style = \"text-align: right;\">0</td><td style = \"text-align: right;\">0</td><td style = \"text-align: right;\">0</td><td style = \"text-align: right;\">0</td><td style = \"text-align: right;\">0</td><td style = \"text-align: right;\">5329</td><td style = \"text-align: left;\">3</td><td style = \"text-align: right;\">0</td><td style = \"text-align: right;\">0</td><td style = \"text-align: right;\">0</td><td style = \"text-align: right;\">1</td><td style = \"text-align: right;\">0</td><td style = \"text-align: right;\">0</td><td style = \"text-align: right;\">0</td><td style = \"text-align: right;\">0</td><td style = \"text-align: right;\">0</td><td style = \"text-align: right;\">0</td></tr><tr><td class = \"rowNumber\" style = \"font-weight: bold; text-align: right;\">3</td><td style = \"text-align: left;\">7d0c31d5409caab173571cce3dcdf702</td><td style = \"text-align: right;\">590000</td><td style = \"text-align: left;\">1</td><td style = \"text-align: right;\">69</td><td style = \"text-align: left;\">blockOfFlats</td><td style = \"text-align: left;\">3</td><td style = \"text-align: right;\">3.94</td><td style = \"text-align: right;\">0.139</td><td style = \"text-align: right;\">1.336</td><td style = \"text-align: right;\">0.926</td><td style = \"text-align: right;\">0.93</td><td style = \"text-align: right;\">0.071</td><td style = \"text-align: right;\">0.786</td><td style = \"text-align: right;\">0.304</td><td style = \"text-align: left;\">condominium</td><td style = \"text-align: left;\">brick</td><td style = \"text-align: right;\">0</td><td style = \"text-align: right;\">0</td><td style = \"text-align: right;\">0</td><td style = \"text-align: right;\">0</td><td style = \"text-align: right;\">1</td><td style = \"text-align: right;\">4761</td><td style = \"text-align: left;\">9</td><td style = \"text-align: right;\">0</td><td style = \"text-align: right;\">0</td><td style = \"text-align: right;\">0</td><td style = \"text-align: right;\">0</td><td style = \"text-align: right;\">0</td><td style = \"text-align: right;\">0</td><td style = \"text-align: right;\">0</td><td style = \"text-align: right;\">0</td><td style = \"text-align: right;\">0</td><td style = \"text-align: right;\">1</td></tr><tr><td class = \"rowNumber\" style = \"font-weight: bold; text-align: right;\">4</td><td style = \"text-align: left;\">3eaa36a59b9354206703b5f6b2f2ff1d</td><td style = \"text-align: right;\">584999</td><td style = \"text-align: left;\">1</td><td style = \"text-align: right;\">42</td><td style = \"text-align: left;\">blockOfFlats</td><td style = \"text-align: left;\">2</td><td style = \"text-align: right;\">5.19</td><td style = \"text-align: right;\">0.209</td><td style = \"text-align: right;\">1.533</td><td style = \"text-align: right;\">0.201</td><td style = \"text-align: right;\">0.319</td><td style = \"text-align: right;\">0.157</td><td style = \"text-align: right;\">2.722</td><td style = \"text-align: right;\">0.257</td><td style = \"text-align: left;\">condominium</td><td style = \"font-style: italic; text-align: left;\">missing</td><td style = \"text-align: right;\">0</td><td style = \"text-align: right;\">0</td><td style = \"text-align: right;\">0</td><td style = \"text-align: right;\">0</td><td style = \"text-align: right;\">0</td><td style = \"text-align: right;\">1764</td><td style = \"text-align: left;\">2</td><td style = \"text-align: right;\">0</td><td style = \"text-align: right;\">0</td><td style = \"text-align: right;\">1</td><td style = \"text-align: right;\">0</td><td style = \"text-align: right;\">0</td><td style = \"text-align: right;\">0</td><td style = \"text-align: right;\">0</td><td style = \"text-align: right;\">0</td><td style = \"text-align: right;\">0</td><td style = \"text-align: right;\">0</td></tr><tr><td class = \"rowNumber\" style = \"font-weight: bold; text-align: right;\">5</td><td style = \"text-align: left;\">027b30cebbc49faf3094421b741ddd56</td><td style = \"text-align: right;\">363000</td><td style = \"text-align: left;\">1</td><td style = \"text-align: right;\">46</td><td style = \"text-align: left;\">blockOfFlats</td><td style = \"text-align: left;\">2</td><td style = \"text-align: right;\">1.65</td><td style = \"text-align: right;\">0.25</td><td style = \"text-align: right;\">0.624</td><td style = \"text-align: right;\">0.51</td><td style = \"text-align: right;\">0.177</td><td style = \"text-align: right;\">0.232</td><td style = \"text-align: right;\">0.986</td><td style = \"text-align: right;\">0.273</td><td style = \"text-align: left;\">condominium</td><td style = \"text-align: left;\">concreteSlab</td><td style = \"text-align: right;\">0</td><td style = \"text-align: right;\">0</td><td style = \"text-align: right;\">0</td><td style = \"text-align: right;\">0</td><td style = \"text-align: right;\">1</td><td style = \"text-align: right;\">2116</td><td style = \"text-align: left;\">6</td><td style = \"text-align: right;\">0</td><td style = \"text-align: right;\">0</td><td style = \"text-align: right;\">0</td><td style = \"text-align: right;\">0</td><td style = \"text-align: right;\">0</td><td style = \"text-align: right;\">0</td><td style = \"text-align: right;\">1</td><td style = \"text-align: right;\">0</td><td style = \"text-align: right;\">0</td><td style = \"text-align: right;\">0</td></tr><tr><td class = \"rowNumber\" style = \"font-weight: bold; text-align: right;\">6</td><td style = \"text-align: left;\">27437e173a8c37d5002c0bf69c848b7c</td><td style = \"text-align: right;\">717000</td><td style = \"text-align: left;\">1</td><td style = \"text-align: right;\">81</td><td style = \"text-align: left;\">tenement</td><td style = \"text-align: left;\">3</td><td style = \"text-align: right;\">1.76</td><td style = \"text-align: right;\">0.083</td><td style = \"text-align: right;\">0.257</td><td style = \"text-align: right;\">0.294</td><td style = \"text-align: right;\">0.151</td><td style = \"text-align: right;\">0.102</td><td style = \"text-align: right;\">0.256</td><td style = \"text-align: right;\">0.301</td><td style = \"text-align: left;\">condominium</td><td style = \"text-align: left;\">brick</td><td style = \"text-align: right;\">0</td><td style = \"text-align: right;\">0</td><td style = \"text-align: right;\">0</td><td style = \"text-align: right;\">0</td><td style = \"text-align: right;\">1</td><td style = \"text-align: right;\">6561</td><td style = \"text-align: left;\">1</td><td style = \"text-align: right;\">0</td><td style = \"text-align: right;\">1</td><td style = \"text-align: right;\">0</td><td style = \"text-align: right;\">0</td><td style = \"text-align: right;\">0</td><td style = \"text-align: right;\">0</td><td style = \"text-align: right;\">0</td><td style = \"text-align: right;\">0</td><td style = \"text-align: right;\">0</td><td style = \"text-align: right;\">0</td></tr><tr><td class = \"rowNumber\" style = \"font-weight: bold; text-align: right;\">7</td><td style = \"text-align: left;\">7a3b00507c086fcf83562f22bb5d01fc</td><td style = \"text-align: right;\">790000</td><td style = \"text-align: left;\">1</td><td style = \"text-align: right;\">67</td><td style = \"text-align: left;\">apartmentBuilding</td><td style = \"text-align: left;\">3</td><td style = \"text-align: right;\">1.61</td><td style = \"text-align: right;\">0.501</td><td style = \"text-align: right;\">0.973</td><td style = \"text-align: right;\">0.713</td><td style = \"text-align: right;\">0.067</td><td style = \"text-align: right;\">0.052</td><td style = \"text-align: right;\">0.988</td><td style = \"text-align: right;\">0.215</td><td style = \"text-align: left;\">condominium</td><td style = \"text-align: left;\">brick</td><td style = \"text-align: right;\">0</td><td style = \"text-align: right;\">0</td><td style = \"text-align: right;\">1</td><td style = \"text-align: right;\">0</td><td style = \"text-align: right;\">0</td><td style = \"text-align: right;\">4489</td><td style = \"text-align: left;\">7</td><td style = \"text-align: right;\">0</td><td style = \"text-align: right;\">0</td><td style = \"text-align: right;\">0</td><td style = \"text-align: right;\">0</td><td style = \"text-align: right;\">0</td><td style = \"text-align: right;\">0</td><td style = \"text-align: right;\">0</td><td style = \"text-align: right;\">1</td><td style = \"text-align: right;\">0</td><td style = \"text-align: right;\">0</td></tr><tr><td class = \"rowNumber\" style = \"font-weight: bold; text-align: right;\">8</td><td style = \"text-align: left;\">24af7cc54099d7930535543827604a9d</td><td style = \"text-align: right;\">560000</td><td style = \"text-align: left;\">1</td><td style = \"text-align: right;\">69</td><td style = \"text-align: left;\">blockOfFlats</td><td style = \"text-align: left;\">3</td><td style = \"text-align: right;\">2.29</td><td style = \"text-align: right;\">0.371</td><td style = \"text-align: right;\">0.592</td><td style = \"text-align: right;\">0.213</td><td style = \"text-align: right;\">0.222</td><td style = \"text-align: right;\">0.24</td><td style = \"text-align: right;\">0.583</td><td style = \"text-align: right;\">0.721</td><td style = \"text-align: left;\">condominium</td><td style = \"text-align: left;\">brick</td><td style = \"text-align: right;\">0</td><td style = \"text-align: right;\">0</td><td style = \"text-align: right;\">0</td><td style = \"text-align: right;\">0</td><td style = \"text-align: right;\">1</td><td style = \"text-align: right;\">4761</td><td style = \"text-align: left;\">9</td><td style = \"text-align: right;\">0</td><td style = \"text-align: right;\">0</td><td style = \"text-align: right;\">0</td><td style = \"text-align: right;\">0</td><td style = \"text-align: right;\">0</td><td style = \"text-align: right;\">0</td><td style = \"text-align: right;\">0</td><td style = \"text-align: right;\">0</td><td style = \"text-align: right;\">0</td><td style = \"text-align: right;\">1</td></tr><tr><td class = \"rowNumber\" style = \"font-weight: bold; text-align: right;\">9</td><td style = \"text-align: left;\">7ebe2d0eeb6231486f90c5835c695cd7</td><td style = \"text-align: right;\">590000</td><td style = \"text-align: left;\">1</td><td style = \"text-align: right;\">56</td><td style = \"text-align: left;\">blockOfFlats</td><td style = \"text-align: left;\">2</td><td style = \"text-align: right;\">4.27</td><td style = \"text-align: right;\">0.509</td><td style = \"text-align: right;\">0.081</td><td style = \"text-align: right;\">0.126</td><td style = \"text-align: right;\">0.381</td><td style = \"text-align: right;\">0.227</td><td style = \"text-align: right;\">1.685</td><td style = \"text-align: right;\">0.186</td><td style = \"text-align: left;\">condominium</td><td style = \"text-align: left;\">brick</td><td style = \"text-align: right;\">0</td><td style = \"text-align: right;\">0</td><td style = \"text-align: right;\">0</td><td style = \"text-align: right;\">0</td><td style = \"text-align: right;\">1</td><td style = \"text-align: right;\">3136</td><td style = \"text-align: left;\">6</td><td style = \"text-align: right;\">0</td><td style = \"text-align: right;\">0</td><td style = \"text-align: right;\">0</td><td style = \"text-align: right;\">0</td><td style = \"text-align: right;\">0</td><td style = \"text-align: right;\">0</td><td style = \"text-align: right;\">1</td><td style = \"text-align: right;\">0</td><td style = \"text-align: right;\">0</td><td style = \"text-align: right;\">0</td></tr><tr><td class = \"rowNumber\" style = \"font-weight: bold; text-align: right;\">10</td><td style = \"text-align: left;\">209a6d2dea99216bdf83a968343cd3b3</td><td style = \"text-align: right;\">390000</td><td style = \"text-align: left;\">1</td><td style = \"text-align: right;\">61</td><td style = \"text-align: left;\">tenement</td><td style = \"text-align: left;\">2</td><td style = \"text-align: right;\">8.16</td><td style = \"text-align: right;\">0.149</td><td style = \"text-align: right;\">1.68</td><td style = \"text-align: right;\">0.534</td><td style = \"text-align: right;\">1.294</td><td style = \"text-align: right;\">1.527</td><td style = \"text-align: right;\">3.72</td><td style = \"text-align: right;\">1.521</td><td style = \"text-align: left;\">condominium</td><td style = \"text-align: left;\">brick</td><td style = \"text-align: right;\">0</td><td style = \"text-align: right;\">0</td><td style = \"text-align: right;\">0</td><td style = \"text-align: right;\">0</td><td style = \"text-align: right;\">1</td><td style = \"text-align: right;\">3721</td><td style = \"text-align: left;\">1</td><td style = \"text-align: right;\">0</td><td style = \"text-align: right;\">1</td><td style = \"text-align: right;\">0</td><td style = \"text-align: right;\">0</td><td style = \"text-align: right;\">0</td><td style = \"text-align: right;\">0</td><td style = \"text-align: right;\">0</td><td style = \"text-align: right;\">0</td><td style = \"text-align: right;\">0</td><td style = \"text-align: right;\">0</td></tr><tr><td class = \"rowNumber\" style = \"font-weight: bold; text-align: right;\">11</td><td style = \"text-align: left;\">bac1869ad9c2c1ef444b0ba6d225761a</td><td style = \"text-align: right;\">599000</td><td style = \"text-align: left;\">1</td><td style = \"text-align: right;\">78</td><td style = \"text-align: left;\">tenement</td><td style = \"text-align: left;\">3</td><td style = \"text-align: right;\">1.22</td><td style = \"text-align: right;\">0.568</td><td style = \"text-align: right;\">0.994</td><td style = \"text-align: right;\">0.346</td><td style = \"text-align: right;\">0.374</td><td style = \"text-align: right;\">0.07</td><td style = \"text-align: right;\">0.675</td><td style = \"text-align: right;\">0.43</td><td style = \"text-align: left;\">condominium</td><td style = \"text-align: left;\">brick</td><td style = \"text-align: right;\">0</td><td style = \"text-align: right;\">0</td><td style = \"text-align: right;\">0</td><td style = \"text-align: right;\">0</td><td style = \"text-align: right;\">1</td><td style = \"text-align: right;\">6084</td><td style = \"text-align: left;\">8</td><td style = \"text-align: right;\">0</td><td style = \"text-align: right;\">0</td><td style = \"text-align: right;\">0</td><td style = \"text-align: right;\">0</td><td style = \"text-align: right;\">0</td><td style = \"text-align: right;\">0</td><td style = \"text-align: right;\">0</td><td style = \"text-align: right;\">0</td><td style = \"text-align: right;\">1</td><td style = \"text-align: right;\">0</td></tr><tr><td class = \"rowNumber\" style = \"font-weight: bold; text-align: right;\">12</td><td style = \"text-align: left;\">0eb9e4df5696c9bf7c849706372fbe18</td><td style = \"text-align: right;\">729000</td><td style = \"text-align: left;\">1</td><td style = \"text-align: right;\">63</td><td style = \"text-align: left;\">apartmentBuilding</td><td style = \"text-align: left;\">3</td><td style = \"text-align: right;\">1.55</td><td style = \"text-align: right;\">0.252</td><td style = \"text-align: right;\">0.635</td><td style = \"text-align: right;\">0.212</td><td style = \"text-align: right;\">0.229</td><td style = \"text-align: right;\">0.053</td><td style = \"text-align: right;\">0.268</td><td style = \"text-align: right;\">0.024</td><td style = \"text-align: left;\">condominium</td><td style = \"text-align: left;\">brick</td><td style = \"text-align: right;\">0</td><td style = \"text-align: right;\">0</td><td style = \"text-align: right;\">1</td><td style = \"text-align: right;\">0</td><td style = \"text-align: right;\">0</td><td style = \"text-align: right;\">3969</td><td style = \"text-align: left;\">3</td><td style = \"text-align: right;\">0</td><td style = \"text-align: right;\">0</td><td style = \"text-align: right;\">0</td><td style = \"text-align: right;\">1</td><td style = \"text-align: right;\">0</td><td style = \"text-align: right;\">0</td><td style = \"text-align: right;\">0</td><td style = \"text-align: right;\">0</td><td style = \"text-align: right;\">0</td><td style = \"text-align: right;\">0</td></tr><tr><td class = \"rowNumber\" style = \"font-weight: bold; text-align: right;\">13</td><td style = \"text-align: left;\">f40a9e80d4c9439f1fd3a57257771d78</td><td style = \"text-align: right;\">620000</td><td style = \"text-align: left;\">1</td><td style = \"text-align: right;\">54</td><td style = \"text-align: left;\">blockOfFlats</td><td style = \"text-align: left;\">2</td><td style = \"text-align: right;\">4.04</td><td style = \"text-align: right;\">0.483</td><td style = \"text-align: right;\">0.757</td><td style = \"text-align: right;\">0.581</td><td style = \"text-align: right;\">0.435</td><td style = \"text-align: right;\">0.358</td><td style = \"text-align: right;\">1.929</td><td style = \"text-align: right;\">0.477</td><td style = \"text-align: left;\">condominium</td><td style = \"font-style: italic; text-align: left;\">missing</td><td style = \"text-align: right;\">0</td><td style = \"text-align: right;\">0</td><td style = \"text-align: right;\">1</td><td style = \"text-align: right;\">0</td><td style = \"text-align: right;\">0</td><td style = \"text-align: right;\">2916</td><td style = \"text-align: left;\">4</td><td style = \"text-align: right;\">0</td><td style = \"text-align: right;\">0</td><td style = \"text-align: right;\">0</td><td style = \"text-align: right;\">0</td><td style = \"text-align: right;\">1</td><td style = \"text-align: right;\">0</td><td style = \"text-align: right;\">0</td><td style = \"text-align: right;\">0</td><td style = \"text-align: right;\">0</td><td style = \"text-align: right;\">0</td></tr><tr><td style = \"text-align: right;\">&vellip;</td><td style = \"text-align: right;\">&vellip;</td><td style = \"text-align: right;\">&vellip;</td><td style = \"text-align: right;\">&vellip;</td><td style = \"text-align: right;\">&vellip;</td><td style = \"text-align: right;\">&vellip;</td><td style = \"text-align: right;\">&vellip;</td><td style = \"text-align: right;\">&vellip;</td><td style = \"text-align: right;\">&vellip;</td><td style = \"text-align: right;\">&vellip;</td><td style = \"text-align: right;\">&vellip;</td><td style = \"text-align: right;\">&vellip;</td><td style = \"text-align: right;\">&vellip;</td><td style = \"text-align: right;\">&vellip;</td><td style = \"text-align: right;\">&vellip;</td><td style = \"text-align: right;\">&vellip;</td><td style = \"text-align: right;\">&vellip;</td><td style = \"text-align: right;\">&vellip;</td><td style = \"text-align: right;\">&vellip;</td><td style = \"text-align: right;\">&vellip;</td><td style = \"text-align: right;\">&vellip;</td><td style = \"text-align: right;\">&vellip;</td><td style = \"text-align: right;\">&vellip;</td><td style = \"text-align: right;\">&vellip;</td><td style = \"text-align: right;\">&vellip;</td><td style = \"text-align: right;\">&vellip;</td><td style = \"text-align: right;\">&vellip;</td><td style = \"text-align: right;\">&vellip;</td><td style = \"text-align: right;\">&vellip;</td><td style = \"text-align: right;\">&vellip;</td><td style = \"text-align: right;\">&vellip;</td><td style = \"text-align: right;\">&vellip;</td><td style = \"text-align: right;\">&vellip;</td><td style = \"text-align: right;\">&vellip;</td></tr><tr><td class = \"rowNumber\" style = \"font-weight: bold; text-align: right;\">97529</td><td style = \"text-align: left;\">feee9d27369728d7ec7b6312b9116f1d</td><td style = \"text-align: right;\">350000</td><td style = \"text-align: left;\">6</td><td style = \"text-align: right;\">53</td><td style = \"text-align: left;\">blockOfFlats</td><td style = \"text-align: left;\">3</td><td style = \"text-align: right;\">0.03</td><td style = \"text-align: right;\">0.281</td><td style = \"text-align: right;\">0.841</td><td style = \"text-align: right;\">0.296</td><td style = \"text-align: right;\">0.262</td><td style = \"text-align: right;\">0.036</td><td style = \"text-align: right;\">0.496</td><td style = \"text-align: right;\">0.045</td><td style = \"text-align: left;\">condominium</td><td style = \"text-align: left;\">concreteSlab</td><td style = \"text-align: right;\">0</td><td style = \"text-align: right;\">0</td><td style = \"text-align: right;\">0</td><td style = \"text-align: right;\">0</td><td style = \"text-align: right;\">1</td><td style = \"text-align: right;\">2809</td><td style = \"text-align: left;\">3</td><td style = \"text-align: right;\">0</td><td style = \"text-align: right;\">0</td><td style = \"text-align: right;\">0</td><td style = \"text-align: right;\">1</td><td style = \"text-align: right;\">0</td><td style = \"text-align: right;\">0</td><td style = \"text-align: right;\">0</td><td style = \"text-align: right;\">0</td><td style = \"text-align: right;\">0</td><td style = \"text-align: right;\">0</td></tr><tr><td class = \"rowNumber\" style = \"font-weight: bold; text-align: right;\">97530</td><td style = \"text-align: left;\">e2dc3b3752eb91a6cbc360e4daf028e0</td><td style = \"text-align: right;\">399000</td><td style = \"text-align: left;\">6</td><td style = \"text-align: right;\">72</td><td style = \"text-align: left;\">tenement</td><td style = \"text-align: left;\">4</td><td style = \"text-align: right;\">0.56</td><td style = \"text-align: right;\">0.301</td><td style = \"text-align: right;\">0.455</td><td style = \"text-align: right;\">0.801</td><td style = \"text-align: right;\">0.313</td><td style = \"text-align: right;\">0.123</td><td style = \"text-align: right;\">0.268</td><td style = \"text-align: right;\">0.3</td><td style = \"text-align: left;\">condominium</td><td style = \"text-align: left;\">brick</td><td style = \"text-align: right;\">0</td><td style = \"text-align: right;\">0</td><td style = \"text-align: right;\">0</td><td style = \"text-align: right;\">0</td><td style = \"text-align: right;\">0</td><td style = \"text-align: right;\">5184</td><td style = \"text-align: left;\">2</td><td style = \"text-align: right;\">0</td><td style = \"text-align: right;\">0</td><td style = \"text-align: right;\">1</td><td style = \"text-align: right;\">0</td><td style = \"text-align: right;\">0</td><td style = \"text-align: right;\">0</td><td style = \"text-align: right;\">0</td><td style = \"text-align: right;\">0</td><td style = \"text-align: right;\">0</td><td style = \"text-align: right;\">0</td></tr><tr><td class = \"rowNumber\" style = \"font-weight: bold; text-align: right;\">97531</td><td style = \"text-align: left;\">da82091e1e8b715150be680a4e0ab136</td><td style = \"text-align: right;\">749000</td><td style = \"text-align: left;\">6</td><td style = \"text-align: right;\">59</td><td style = \"text-align: left;\">apartmentBuilding</td><td style = \"text-align: left;\">3</td><td style = \"text-align: right;\">0.64</td><td style = \"text-align: right;\">0.082</td><td style = \"text-align: right;\">0.344</td><td style = \"text-align: right;\">0.377</td><td style = \"text-align: right;\">0.533</td><td style = \"text-align: right;\">0.037</td><td style = \"text-align: right;\">0.557</td><td style = \"text-align: right;\">0.101</td><td style = \"text-align: left;\">condominium</td><td style = \"text-align: left;\">brick</td><td style = \"text-align: right;\">0</td><td style = \"text-align: right;\">0</td><td style = \"text-align: right;\">1</td><td style = \"text-align: right;\">0</td><td style = \"text-align: right;\">0</td><td style = \"text-align: right;\">3481</td><td style = \"text-align: left;\">9</td><td style = \"text-align: right;\">0</td><td style = \"text-align: right;\">0</td><td style = \"text-align: right;\">0</td><td style = \"text-align: right;\">0</td><td style = \"text-align: right;\">0</td><td style = \"text-align: right;\">0</td><td style = \"text-align: right;\">0</td><td style = \"text-align: right;\">0</td><td style = \"text-align: right;\">0</td><td style = \"text-align: right;\">1</td></tr><tr><td class = \"rowNumber\" style = \"font-weight: bold; text-align: right;\">97532</td><td style = \"text-align: left;\">a60ba102db3a0bc6382067374af4da88</td><td style = \"text-align: right;\">279000</td><td style = \"text-align: left;\">6</td><td style = \"text-align: right;\">48</td><td style = \"text-align: left;\">tenement</td><td style = \"text-align: left;\">2</td><td style = \"text-align: right;\">1.48</td><td style = \"text-align: right;\">0.117</td><td style = \"text-align: right;\">0.692</td><td style = \"text-align: right;\">0.431</td><td style = \"text-align: right;\">0.218</td><td style = \"text-align: right;\">0.209</td><td style = \"text-align: right;\">0.2</td><td style = \"text-align: right;\">0.467</td><td style = \"text-align: left;\">condominium</td><td style = \"text-align: left;\">brick</td><td style = \"text-align: right;\">0</td><td style = \"text-align: right;\">0</td><td style = \"text-align: right;\">0</td><td style = \"text-align: right;\">0</td><td style = \"text-align: right;\">1</td><td style = \"text-align: right;\">2304</td><td style = \"text-align: left;\">8</td><td style = \"text-align: right;\">0</td><td style = \"text-align: right;\">0</td><td style = \"text-align: right;\">0</td><td style = \"text-align: right;\">0</td><td style = \"text-align: right;\">0</td><td style = \"text-align: right;\">0</td><td style = \"text-align: right;\">0</td><td style = \"text-align: right;\">0</td><td style = \"text-align: right;\">1</td><td style = \"text-align: right;\">0</td></tr><tr><td class = \"rowNumber\" style = \"font-weight: bold; text-align: right;\">97533</td><td style = \"text-align: left;\">e8ab3325e52904d3dfa03f9a67a4f65b</td><td style = \"text-align: right;\">949000</td><td style = \"text-align: left;\">6</td><td style = \"text-align: right;\">124</td><td style = \"text-align: left;\">tenement</td><td style = \"text-align: left;\">4</td><td style = \"text-align: right;\">0.65</td><td style = \"text-align: right;\">0.111</td><td style = \"text-align: right;\">0.205</td><td style = \"text-align: right;\">0.351</td><td style = \"text-align: right;\">0.405</td><td style = \"text-align: right;\">0.058</td><td style = \"text-align: right;\">0.622</td><td style = \"text-align: right;\">0.205</td><td style = \"text-align: left;\">condominium</td><td style = \"text-align: left;\">brick</td><td style = \"text-align: right;\">0</td><td style = \"text-align: right;\">0</td><td style = \"text-align: right;\">0</td><td style = \"text-align: right;\">0</td><td style = \"text-align: right;\">1</td><td style = \"text-align: right;\">15376</td><td style = \"text-align: left;\">4</td><td style = \"text-align: right;\">0</td><td style = \"text-align: right;\">0</td><td style = \"text-align: right;\">0</td><td style = \"text-align: right;\">0</td><td style = \"text-align: right;\">1</td><td style = \"text-align: right;\">0</td><td style = \"text-align: right;\">0</td><td style = \"text-align: right;\">0</td><td style = \"text-align: right;\">0</td><td style = \"text-align: right;\">0</td></tr><tr><td class = \"rowNumber\" style = \"font-weight: bold; text-align: right;\">97534</td><td style = \"text-align: left;\">cefd286e6a2eb7e6ba65a194e49baf03</td><td style = \"text-align: right;\">510000</td><td style = \"text-align: left;\">6</td><td style = \"text-align: right;\">88</td><td style = \"text-align: left;\">tenement</td><td style = \"text-align: left;\">3</td><td style = \"text-align: right;\">0.49</td><td style = \"text-align: right;\">0.169</td><td style = \"text-align: right;\">0.474</td><td style = \"text-align: right;\">0.258</td><td style = \"text-align: right;\">0.486</td><td style = \"text-align: right;\">0.021</td><td style = \"text-align: right;\">0.657</td><td style = \"text-align: right;\">0.181</td><td style = \"text-align: left;\">condominium</td><td style = \"text-align: left;\">brick</td><td style = \"text-align: right;\">0</td><td style = \"text-align: right;\">0</td><td style = \"text-align: right;\">0</td><td style = \"text-align: right;\">0</td><td style = \"text-align: right;\">1</td><td style = \"text-align: right;\">7744</td><td style = \"text-align: left;\">8</td><td style = \"text-align: right;\">0</td><td style = \"text-align: right;\">0</td><td style = \"text-align: right;\">0</td><td style = \"text-align: right;\">0</td><td style = \"text-align: right;\">0</td><td style = \"text-align: right;\">0</td><td style = \"text-align: right;\">0</td><td style = \"text-align: right;\">0</td><td style = \"text-align: right;\">1</td><td style = \"text-align: right;\">0</td></tr><tr><td class = \"rowNumber\" style = \"font-weight: bold; text-align: right;\">97535</td><td style = \"text-align: left;\">43ba1ff7e0804730281149d62fc9a48b</td><td style = \"text-align: right;\">599000</td><td style = \"text-align: left;\">6</td><td style = \"text-align: right;\">95</td><td style = \"text-align: left;\">tenement</td><td style = \"text-align: left;\">4</td><td style = \"text-align: right;\">0.65</td><td style = \"text-align: right;\">0.111</td><td style = \"text-align: right;\">0.205</td><td style = \"text-align: right;\">0.351</td><td style = \"text-align: right;\">0.405</td><td style = \"text-align: right;\">0.058</td><td style = \"text-align: right;\">0.622</td><td style = \"text-align: right;\">0.205</td><td style = \"text-align: left;\">condominium</td><td style = \"text-align: left;\">brick</td><td style = \"text-align: right;\">0</td><td style = \"text-align: right;\">0</td><td style = \"text-align: right;\">0</td><td style = \"text-align: right;\">0</td><td style = \"text-align: right;\">1</td><td style = \"text-align: right;\">9025</td><td style = \"text-align: left;\">5</td><td style = \"text-align: right;\">0</td><td style = \"text-align: right;\">0</td><td style = \"text-align: right;\">0</td><td style = \"text-align: right;\">0</td><td style = \"text-align: right;\">0</td><td style = \"text-align: right;\">1</td><td style = \"text-align: right;\">0</td><td style = \"text-align: right;\">0</td><td style = \"text-align: right;\">0</td><td style = \"text-align: right;\">0</td></tr><tr><td class = \"rowNumber\" style = \"font-weight: bold; text-align: right;\">97536</td><td style = \"text-align: left;\">4d5c0e9d63750d4e7ff183460b3fc8d1</td><td style = \"text-align: right;\">670000</td><td style = \"text-align: left;\">6</td><td style = \"text-align: right;\">101</td><td style = \"text-align: left;\">tenement</td><td style = \"text-align: left;\">3</td><td style = \"text-align: right;\">1.09</td><td style = \"text-align: right;\">0.112</td><td style = \"text-align: right;\">0.463</td><td style = \"text-align: right;\">0.197</td><td style = \"text-align: right;\">0.34</td><td style = \"text-align: right;\">0.083</td><td style = \"text-align: right;\">0.098</td><td style = \"text-align: right;\">0.331</td><td style = \"text-align: left;\">condominium</td><td style = \"text-align: left;\">brick</td><td style = \"text-align: right;\">0</td><td style = \"text-align: right;\">0</td><td style = \"text-align: right;\">0</td><td style = \"text-align: right;\">0</td><td style = \"text-align: right;\">1</td><td style = \"text-align: right;\">10201</td><td style = \"text-align: left;\">1</td><td style = \"text-align: right;\">0</td><td style = \"text-align: right;\">1</td><td style = \"text-align: right;\">0</td><td style = \"text-align: right;\">0</td><td style = \"text-align: right;\">0</td><td style = \"text-align: right;\">0</td><td style = \"text-align: right;\">0</td><td style = \"text-align: right;\">0</td><td style = \"text-align: right;\">0</td><td style = \"text-align: right;\">0</td></tr><tr><td class = \"rowNumber\" style = \"font-weight: bold; text-align: right;\">97537</td><td style = \"text-align: left;\">ca83fdbc19c1e62e1cc6b6b21dcd5e03</td><td style = \"text-align: right;\">460000</td><td style = \"text-align: left;\">6</td><td style = \"text-align: right;\">54</td><td style = \"font-style: italic; text-align: left;\">missing</td><td style = \"text-align: left;\">3</td><td style = \"text-align: right;\">3.01</td><td style = \"text-align: right;\">0.325</td><td style = \"text-align: right;\">0.599</td><td style = \"text-align: right;\">0.201</td><td style = \"text-align: right;\">0.216</td><td style = \"text-align: right;\">0.111</td><td style = \"text-align: right;\">0.614</td><td style = \"text-align: right;\">0.062</td><td style = \"text-align: left;\">condominium</td><td style = \"font-style: italic; text-align: left;\">missing</td><td style = \"text-align: right;\">0</td><td style = \"text-align: right;\">0</td><td style = \"text-align: right;\">0</td><td style = \"text-align: right;\">0</td><td style = \"text-align: right;\">1</td><td style = \"text-align: right;\">2916</td><td style = \"text-align: left;\">4</td><td style = \"text-align: right;\">0</td><td style = \"text-align: right;\">0</td><td style = \"text-align: right;\">0</td><td style = \"text-align: right;\">0</td><td style = \"text-align: right;\">1</td><td style = \"text-align: right;\">0</td><td style = \"text-align: right;\">0</td><td style = \"text-align: right;\">0</td><td style = \"text-align: right;\">0</td><td style = \"text-align: right;\">0</td></tr><tr><td class = \"rowNumber\" style = \"font-weight: bold; text-align: right;\">97538</td><td style = \"text-align: left;\">204c93689b7cdc62a17ef3c0dbf7034a</td><td style = \"text-align: right;\">499000</td><td style = \"text-align: left;\">6</td><td style = \"text-align: right;\">98</td><td style = \"text-align: left;\">tenement</td><td style = \"text-align: left;\">3</td><td style = \"text-align: right;\">0.59</td><td style = \"text-align: right;\">0.113</td><td style = \"text-align: right;\">0.226</td><td style = \"text-align: right;\">0.225</td><td style = \"text-align: right;\">0.412</td><td style = \"text-align: right;\">0.124</td><td style = \"text-align: right;\">0.478</td><td style = \"text-align: right;\">0.273</td><td style = \"text-align: left;\">condominium</td><td style = \"text-align: left;\">brick</td><td style = \"text-align: right;\">0</td><td style = \"text-align: right;\">0</td><td style = \"text-align: right;\">0</td><td style = \"text-align: right;\">0</td><td style = \"text-align: right;\">1</td><td style = \"text-align: right;\">9604</td><td style = \"text-align: left;\">8</td><td style = \"text-align: right;\">0</td><td style = \"text-align: right;\">0</td><td style = \"text-align: right;\">0</td><td style = \"text-align: right;\">0</td><td style = \"text-align: right;\">0</td><td style = \"text-align: right;\">0</td><td style = \"text-align: right;\">0</td><td style = \"text-align: right;\">0</td><td style = \"text-align: right;\">1</td><td style = \"text-align: right;\">0</td></tr><tr><td class = \"rowNumber\" style = \"font-weight: bold; text-align: right;\">97539</td><td style = \"text-align: left;\">bb19da639a2de8bba49be2ca49053c87</td><td style = \"text-align: right;\">795000</td><td style = \"text-align: left;\">6</td><td style = \"text-align: right;\">109</td><td style = \"text-align: left;\">tenement</td><td style = \"text-align: left;\">5</td><td style = \"text-align: right;\">1.08</td><td style = \"text-align: right;\">0.281</td><td style = \"text-align: right;\">0.792</td><td style = \"text-align: right;\">0.233</td><td style = \"text-align: right;\">0.176</td><td style = \"text-align: right;\">0.107</td><td style = \"text-align: right;\">0.226</td><td style = \"text-align: right;\">0.143</td><td style = \"text-align: left;\">condominium</td><td style = \"text-align: left;\">brick</td><td style = \"text-align: right;\">0</td><td style = \"text-align: right;\">0</td><td style = \"text-align: right;\">0</td><td style = \"text-align: right;\">0</td><td style = \"text-align: right;\">1</td><td style = \"text-align: right;\">11881</td><td style = \"text-align: left;\">9</td><td style = \"text-align: right;\">0</td><td style = \"text-align: right;\">0</td><td style = \"text-align: right;\">0</td><td style = \"text-align: right;\">0</td><td style = \"text-align: right;\">0</td><td style = \"text-align: right;\">0</td><td style = \"text-align: right;\">0</td><td style = \"text-align: right;\">0</td><td style = \"text-align: right;\">0</td><td style = \"text-align: right;\">1</td></tr><tr><td class = \"rowNumber\" style = \"font-weight: bold; text-align: right;\">97540</td><td style = \"text-align: left;\">60fcbfa2a2a48ebcc2e554efba7f2729</td><td style = \"text-align: right;\">300000</td><td style = \"text-align: left;\">6</td><td style = \"text-align: right;\">59</td><td style = \"text-align: left;\">tenement</td><td style = \"text-align: left;\">2</td><td style = \"text-align: right;\">0.64</td><td style = \"text-align: right;\">0.082</td><td style = \"text-align: right;\">0.344</td><td style = \"text-align: right;\">0.377</td><td style = \"text-align: right;\">0.533</td><td style = \"text-align: right;\">0.037</td><td style = \"text-align: right;\">0.557</td><td style = \"text-align: right;\">0.101</td><td style = \"text-align: left;\">condominium</td><td style = \"text-align: left;\">brick</td><td style = \"text-align: right;\">0</td><td style = \"text-align: right;\">0</td><td style = \"text-align: right;\">0</td><td style = \"text-align: right;\">0</td><td style = \"text-align: right;\">1</td><td style = \"text-align: right;\">3481</td><td style = \"text-align: left;\">9</td><td style = \"text-align: right;\">0</td><td style = \"text-align: right;\">0</td><td style = \"text-align: right;\">0</td><td style = \"text-align: right;\">0</td><td style = \"text-align: right;\">0</td><td style = \"text-align: right;\">0</td><td style = \"text-align: right;\">0</td><td style = \"text-align: right;\">0</td><td style = \"text-align: right;\">0</td><td style = \"text-align: right;\">1</td></tr></tbody></table></div>"
      ],
      "text/latex": [
       "\\begin{tabular}{r|ccccccc}\n",
       "\t& id & price & month & area & type & rooms & \\\\\n",
       "\t\\hline\n",
       "\t& String & Int64 & Cat… & Int64 & Cat…? & Cat… & \\\\\n",
       "\t\\hline\n",
       "\t1 & a01d82c9529f98a54d64b9e061c9a73b & 1199999 & 1 & 105 & apartmentBuilding & 4 & $\\dots$ \\\\\n",
       "\t2 & 8373aa373dbc3fe7ca3b7434166b8766 & 650000 & 1 & 73 & tenement & 3 & $\\dots$ \\\\\n",
       "\t3 & 7d0c31d5409caab173571cce3dcdf702 & 590000 & 1 & 69 & blockOfFlats & 3 & $\\dots$ \\\\\n",
       "\t4 & 3eaa36a59b9354206703b5f6b2f2ff1d & 584999 & 1 & 42 & blockOfFlats & 2 & $\\dots$ \\\\\n",
       "\t5 & 027b30cebbc49faf3094421b741ddd56 & 363000 & 1 & 46 & blockOfFlats & 2 & $\\dots$ \\\\\n",
       "\t6 & 27437e173a8c37d5002c0bf69c848b7c & 717000 & 1 & 81 & tenement & 3 & $\\dots$ \\\\\n",
       "\t7 & 7a3b00507c086fcf83562f22bb5d01fc & 790000 & 1 & 67 & apartmentBuilding & 3 & $\\dots$ \\\\\n",
       "\t8 & 24af7cc54099d7930535543827604a9d & 560000 & 1 & 69 & blockOfFlats & 3 & $\\dots$ \\\\\n",
       "\t9 & 7ebe2d0eeb6231486f90c5835c695cd7 & 590000 & 1 & 56 & blockOfFlats & 2 & $\\dots$ \\\\\n",
       "\t10 & 209a6d2dea99216bdf83a968343cd3b3 & 390000 & 1 & 61 & tenement & 2 & $\\dots$ \\\\\n",
       "\t11 & bac1869ad9c2c1ef444b0ba6d225761a & 599000 & 1 & 78 & tenement & 3 & $\\dots$ \\\\\n",
       "\t12 & 0eb9e4df5696c9bf7c849706372fbe18 & 729000 & 1 & 63 & apartmentBuilding & 3 & $\\dots$ \\\\\n",
       "\t13 & f40a9e80d4c9439f1fd3a57257771d78 & 620000 & 1 & 54 & blockOfFlats & 2 & $\\dots$ \\\\\n",
       "\t14 & 14f7d02e2662dc6935732e81bd40944f & 679000 & 1 & 59 & apartmentBuilding & 3 & $\\dots$ \\\\\n",
       "\t15 & 4a629a1a01c7bedac13e9bcf98212d8a & 435000 & 1 & 82 & tenement & 3 & $\\dots$ \\\\\n",
       "\t16 & 76affd52069119ac305ee74b21b4aed7 & 580000 & 1 & 57 & blockOfFlats & 2 & $\\dots$ \\\\\n",
       "\t17 & 1e92d0c372358479553963901bd8e568 & 549000 & 1 & 64 & blockOfFlats & 3 & $\\dots$ \\\\\n",
       "\t18 & 312f2788e54076b94f950baaeced3e54 & 512000 & 1 & 91 & blockOfFlats & 4 & $\\dots$ \\\\\n",
       "\t19 & 35e001d173d4f6626e6e1d92ec75af93 & 514000 & 1 & 53 & blockOfFlats & 2 & $\\dots$ \\\\\n",
       "\t20 & 402d6b0ff1c84434185b93f9d16115a4 & 430000 & 1 & 27 & tenement & 2 & $\\dots$ \\\\\n",
       "\t21 & 7811da22fe39ef6dc5c1ae815557c5c7 & 363000 & 1 & 34 & blockOfFlats & 2 & $\\dots$ \\\\\n",
       "\t22 & a6d64691618dac8d1befa68678b6271e & 798000 & 1 & 109 & blockOfFlats & 5 & $\\dots$ \\\\\n",
       "\t23 & 4777aa53b2049176132d4a8175b985b9 & 465000 & 1 & 82 & tenement & 3 & $\\dots$ \\\\\n",
       "\t24 & ecb53846ed82859bc4ae397580b4777d & 329000 & 1 & 29 & \\emph{missing} & 1 & $\\dots$ \\\\\n",
       "\t25 & 029c3adc75ff9312dfa4b9a898c81338 & 750000 & 1 & 94 & tenement & 3 & $\\dots$ \\\\\n",
       "\t26 & 155795f0eb31afb9c4cc16ebcc3faf3f & 330000 & 1 & 43 & tenement & 2 & $\\dots$ \\\\\n",
       "\t27 & f5f98bac48f3b53fbce2fa14054014c8 & 615000 & 1 & 91 & tenement & 5 & $\\dots$ \\\\\n",
       "\t28 & b7eee58836d9125111fdc4a414848985 & 529000 & 1 & 84 & blockOfFlats & 4 & $\\dots$ \\\\\n",
       "\t29 & 1add65132ba4453ad17285eaf2fcd656 & 574000 & 1 & 49 & blockOfFlats & 2 & $\\dots$ \\\\\n",
       "\t30 & dca5ee6cf02485664d4db6384308c641 & 649000 & 1 & 96 & tenement & 4 & $\\dots$ \\\\\n",
       "\t$\\dots$ & $\\dots$ & $\\dots$ & $\\dots$ & $\\dots$ & $\\dots$ & $\\dots$ &  \\\\\n",
       "\\end{tabular}\n"
      ],
      "text/plain": [
       "\u001b[1m97540×33 DataFrame\u001b[0m\n",
       "\u001b[1m   Row \u001b[0m│\u001b[1m id                               \u001b[0m\u001b[1m price   \u001b[0m\u001b[1m month \u001b[0m\u001b[1m area  \u001b[0m\u001b[1m type        \u001b[0m ⋯\n",
       "       │\u001b[90m String                           \u001b[0m\u001b[90m Int64   \u001b[0m\u001b[90m Cat…  \u001b[0m\u001b[90m Int64 \u001b[0m\u001b[90m Cat…?       \u001b[0m ⋯\n",
       "───────┼────────────────────────────────────────────────────────────────────────\n",
       "     1 │ a01d82c9529f98a54d64b9e061c9a73b  1199999  1        105  apartmentBui ⋯\n",
       "     2 │ 8373aa373dbc3fe7ca3b7434166b8766   650000  1         73  tenement\n",
       "     3 │ 7d0c31d5409caab173571cce3dcdf702   590000  1         69  blockOfFlats\n",
       "     4 │ 3eaa36a59b9354206703b5f6b2f2ff1d   584999  1         42  blockOfFlats\n",
       "     5 │ 027b30cebbc49faf3094421b741ddd56   363000  1         46  blockOfFlats ⋯\n",
       "     6 │ 27437e173a8c37d5002c0bf69c848b7c   717000  1         81  tenement\n",
       "     7 │ 7a3b00507c086fcf83562f22bb5d01fc   790000  1         67  apartmentBui\n",
       "     8 │ 24af7cc54099d7930535543827604a9d   560000  1         69  blockOfFlats\n",
       "     9 │ 7ebe2d0eeb6231486f90c5835c695cd7   590000  1         56  blockOfFlats ⋯\n",
       "    10 │ 209a6d2dea99216bdf83a968343cd3b3   390000  1         61  tenement\n",
       "    11 │ bac1869ad9c2c1ef444b0ba6d225761a   599000  1         78  tenement\n",
       "   ⋮   │                ⋮                     ⋮       ⋮      ⋮            ⋮    ⋱\n",
       " 97531 │ da82091e1e8b715150be680a4e0ab136   749000  6         59  apartmentBui\n",
       " 97532 │ a60ba102db3a0bc6382067374af4da88   279000  6         48  tenement     ⋯\n",
       " 97533 │ e8ab3325e52904d3dfa03f9a67a4f65b   949000  6        124  tenement\n",
       " 97534 │ cefd286e6a2eb7e6ba65a194e49baf03   510000  6         88  tenement\n",
       " 97535 │ 43ba1ff7e0804730281149d62fc9a48b   599000  6         95  tenement\n",
       " 97536 │ 4d5c0e9d63750d4e7ff183460b3fc8d1   670000  6        101  tenement     ⋯\n",
       " 97537 │ ca83fdbc19c1e62e1cc6b6b21dcd5e03   460000  6         54 \u001b[90m missing     \u001b[0m\n",
       " 97538 │ 204c93689b7cdc62a17ef3c0dbf7034a   499000  6         98  tenement\n",
       " 97539 │ bb19da639a2de8bba49be2ca49053c87   795000  6        109  tenement\n",
       " 97540 │ 60fcbfa2a2a48ebcc2e554efba7f2729   300000  6         59  tenement     ⋯\n",
       "\u001b[36m                                               29 columns and 97519 rows omitted\u001b[0m"
      ]
     },
     "execution_count": 45,
     "metadata": {},
     "output_type": "execute_result"
    }
   ],
   "source": [
    "datasinud0 = data[data.ud_0 .== 0, :]"
   ]
  },
  {
   "cell_type": "code",
   "execution_count": 46,
   "id": "09099d36-bc32-4d65-9b30-4f3be0478d54",
   "metadata": {},
   "outputs": [
    {
     "data": {
      "text/plain": [
       "StatsModels.TableRegressionModel{LinearModel{GLM.LmResp{Vector{Float64}}, GLM.DensePredChol{Float64, LinearAlgebra.CholeskyPivoted{Float64, Matrix{Float64}, Vector{Int64}}}}, Matrix{Float64}}\n",
       "\n",
       "price ~ 1 + ud_1 + ud_2 + ud_3 + ud_4 + ud_5 + ud_6 + ud_7 + ud_8 + area + area2 + schooldistance + clinicdistance + postofficedistance + kindergartendistance + collegedistance + pharmacydistance + ownership + buildingmaterial + hasparkingspace + hasbalcony + haselevator + hassecurity + hasstorageroom\n",
       "\n",
       "Coefficients:\n",
       "───────────────────────────────────────────────────────────────────────────────────────────────────────────────\n",
       "                                         Coef.     Std. Error       t  Pr(>|t|)       Lower 95%       Upper 95%\n",
       "───────────────────────────────────────────────────────────────────────────────────────────────────────────────\n",
       "(Intercept)                      84905.1        10617.9          8.00    <1e-14   64094.0             1.05716e5\n",
       "ud_1                             -9037.58        6205.38        -1.46    0.1453  -21200.2          3125.01\n",
       "ud_2                             14324.8         5978.45         2.40    0.0166    2607.0         26042.6\n",
       "ud_3                             39592.3         6022.89         6.57    <1e-10   27787.4         51397.2\n",
       "ud_4                             12632.3         5973.72         2.11    0.0345     923.759       24340.8\n",
       "ud_5                             19701.3         5934.89         3.32    0.0009    8068.89        31333.7\n",
       "ud_6                              1353.12        5836.56         0.23    0.8167  -10086.6         12792.8\n",
       "ud_7                             21471.1         5882.04         3.65    0.0003    9942.29        33000.0\n",
       "ud_8                              -160.02        5718.23        -0.03    0.9777  -11367.8         11047.8\n",
       "area                             11323.1          279.445       40.52    <1e-99   10775.4         11870.8\n",
       "area2                               15.2595         1.88224      8.11    <1e-15      11.5703         18.9487\n",
       "schooldistance                   -1282.51        6350.14        -0.20    0.8399  -13728.8         11163.8\n",
       "clinicdistance                  -51216.7         2182.03       -23.47    <1e-99  -55493.4        -46939.9\n",
       "postofficedistance              -25609.7         5266.4         -4.86    <1e-05  -35931.9        -15287.5\n",
       "kindergartendistance            -52828.6         6406.56        -8.25    <1e-15  -65385.5        -40271.7\n",
       "collegedistance                  -8155.13        1539.67        -5.30    <1e-06  -11172.9         -5137.37\n",
       "pharmacydistance                 65136.7         7234.15         9.00    <1e-18   50957.7         79315.7\n",
       "ownership: cooperative          -21498.1         4721.5         -4.55    <1e-05  -30752.2        -12243.9\n",
       "ownership: udziaÃ\n",
       "Â              -28877.6            1.11433e5   -0.26    0.7955      -2.47287e5       1.89532e5\n",
       "buildingmaterial: concreteSlab      -1.76868e5   3739.73       -47.29    <1e-99      -1.84198e5      -1.69538e5\n",
       "hasparkingspace                      0.0          NaN          NaN       NaN        NaN             NaN\n",
       "hasbalcony                           0.0          NaN          NaN       NaN        NaN             NaN\n",
       "haselevator                          2.60467e5   2929.19        88.92    <1e-99       2.54726e5       2.66209e5\n",
       "hassecurity                      46710.5         4131.16        11.31    <1e-28   38613.4         54807.5\n",
       "hasstorageroom                  -34364.2         3024.78       -11.36    <1e-29  -40292.7        -28435.6\n",
       "───────────────────────────────────────────────────────────────────────────────────────────────────────────────"
      ]
     },
     "execution_count": 46,
     "metadata": {},
     "output_type": "execute_result"
    }
   ],
   "source": [
    "reg = @formula(price ~ ud_1 + ud_2 + ud_3 + ud_4 + ud_5 + ud_6 + ud_7 + ud_8\n",
    "                 + area + area2\n",
    "                 + schooldistance + clinicdistance + postofficedistance\n",
    "                 + kindergartendistance + collegedistance + pharmacydistance\n",
    "                 + ownership + buildingmaterial\n",
    "                 + hasparkingspace + hasbalcony + haselevator\n",
    "                 + hassecurity + hasstorageroom)\n",
    "\n",
    "modelnoud0 = lm(reg, datasinud0)"
   ]
  },
  {
   "cell_type": "code",
   "execution_count": 47,
   "id": "d02311d4-a6a1-4ad7-aee2-160611c05e49",
   "metadata": {},
   "outputs": [
    {
     "data": {
      "text/plain": [
       "110191-element Vector{Union{Missing, Float64}}:\n",
       "      1.6113562544994566e6\n",
       " 978333.1319796202\n",
       " 776430.1615767726\n",
       "       missing\n",
       " 383229.52921936684\n",
       "      1.047537459729835e6\n",
       " 896736.1867052341\n",
       "      1.1276648322258808e6\n",
       " 898717.7002930774\n",
       " 704061.3609681585\n",
       " 689459.9480281952\n",
       " 968671.3143207572\n",
       "      1.1078918929094984e6\n",
       "      ⋮\n",
       " 950217.6655254071\n",
       "      1.0130557258535549e6\n",
       " 599690.5356982265\n",
       "      1.6691255791092215e6\n",
       "      1.1146423541851602e6\n",
       "      1.2509108011617512e6\n",
       "      1.3146989382790609e6\n",
       "       missing\n",
       "      1.281236648491156e6\n",
       "      1.417342871683275e6\n",
       " 642922.7435525525\n",
       " 718224.1873179073"
      ]
     },
     "execution_count": 47,
     "metadata": {},
     "output_type": "execute_result"
    }
   ],
   "source": [
    "data.price_predicted = predict(modelnoud0, data)"
   ]
  },
  {
   "cell_type": "code",
   "execution_count": 49,
   "id": "4cbb5ac9-6dda-45ff-8472-67543b7f9424",
   "metadata": {},
   "outputs": [
    {
     "data": {
      "text/html": [
       "<div><div style = \"float: left;\"><span>110191×2 DataFrame</span></div><div style = \"float: right;\"><span style = \"font-style: italic;\">110166 rows omitted</span></div><div style = \"clear: both;\"></div></div><div class = \"data-frame\" style = \"overflow-x: scroll;\"><table class = \"data-frame\" style = \"margin-bottom: 6px;\"><thead><tr class = \"header\"><th class = \"rowNumber\" style = \"font-weight: bold; text-align: right;\">Row</th><th style = \"text-align: left;\">price_predicted</th><th style = \"text-align: left;\">ud_0</th></tr><tr class = \"subheader headerLastRow\"><th class = \"rowNumber\" style = \"font-weight: bold; text-align: right;\"></th><th title = \"Union{Missing, Float64}\" style = \"text-align: left;\">Float64?</th><th title = \"Int64\" style = \"text-align: left;\">Int64</th></tr></thead><tbody><tr><td class = \"rowNumber\" style = \"font-weight: bold; text-align: right;\">1</td><td style = \"text-align: right;\">1.61136e6</td><td style = \"text-align: right;\">0</td></tr><tr><td class = \"rowNumber\" style = \"font-weight: bold; text-align: right;\">2</td><td style = \"text-align: right;\">9.78333e5</td><td style = \"text-align: right;\">0</td></tr><tr><td class = \"rowNumber\" style = \"font-weight: bold; text-align: right;\">3</td><td style = \"text-align: right;\">7.7643e5</td><td style = \"text-align: right;\">0</td></tr><tr><td class = \"rowNumber\" style = \"font-weight: bold; text-align: right;\">4</td><td style = \"font-style: italic; text-align: right;\">missing</td><td style = \"text-align: right;\">0</td></tr><tr><td class = \"rowNumber\" style = \"font-weight: bold; text-align: right;\">5</td><td style = \"text-align: right;\">3.8323e5</td><td style = \"text-align: right;\">0</td></tr><tr><td class = \"rowNumber\" style = \"font-weight: bold; text-align: right;\">6</td><td style = \"text-align: right;\">1.04754e6</td><td style = \"text-align: right;\">0</td></tr><tr><td class = \"rowNumber\" style = \"font-weight: bold; text-align: right;\">7</td><td style = \"text-align: right;\">8.96736e5</td><td style = \"text-align: right;\">1</td></tr><tr><td class = \"rowNumber\" style = \"font-weight: bold; text-align: right;\">8</td><td style = \"text-align: right;\">1.12766e6</td><td style = \"text-align: right;\">0</td></tr><tr><td class = \"rowNumber\" style = \"font-weight: bold; text-align: right;\">9</td><td style = \"text-align: right;\">8.98718e5</td><td style = \"text-align: right;\">0</td></tr><tr><td class = \"rowNumber\" style = \"font-weight: bold; text-align: right;\">10</td><td style = \"text-align: right;\">7.04061e5</td><td style = \"text-align: right;\">0</td></tr><tr><td class = \"rowNumber\" style = \"font-weight: bold; text-align: right;\">11</td><td style = \"text-align: right;\">6.8946e5</td><td style = \"text-align: right;\">0</td></tr><tr><td class = \"rowNumber\" style = \"font-weight: bold; text-align: right;\">12</td><td style = \"text-align: right;\">9.68671e5</td><td style = \"text-align: right;\">0</td></tr><tr><td class = \"rowNumber\" style = \"font-weight: bold; text-align: right;\">13</td><td style = \"text-align: right;\">1.10789e6</td><td style = \"text-align: right;\">0</td></tr><tr><td style = \"text-align: right;\">&vellip;</td><td style = \"text-align: right;\">&vellip;</td><td style = \"text-align: right;\">&vellip;</td></tr><tr><td class = \"rowNumber\" style = \"font-weight: bold; text-align: right;\">110180</td><td style = \"text-align: right;\">9.50218e5</td><td style = \"text-align: right;\">0</td></tr><tr><td class = \"rowNumber\" style = \"font-weight: bold; text-align: right;\">110181</td><td style = \"text-align: right;\">1.01306e6</td><td style = \"text-align: right;\">0</td></tr><tr><td class = \"rowNumber\" style = \"font-weight: bold; text-align: right;\">110182</td><td style = \"text-align: right;\">5.99691e5</td><td style = \"text-align: right;\">0</td></tr><tr><td class = \"rowNumber\" style = \"font-weight: bold; text-align: right;\">110183</td><td style = \"text-align: right;\">1.66913e6</td><td style = \"text-align: right;\">0</td></tr><tr><td class = \"rowNumber\" style = \"font-weight: bold; text-align: right;\">110184</td><td style = \"text-align: right;\">1.11464e6</td><td style = \"text-align: right;\">0</td></tr><tr><td class = \"rowNumber\" style = \"font-weight: bold; text-align: right;\">110185</td><td style = \"text-align: right;\">1.25091e6</td><td style = \"text-align: right;\">0</td></tr><tr><td class = \"rowNumber\" style = \"font-weight: bold; text-align: right;\">110186</td><td style = \"text-align: right;\">1.3147e6</td><td style = \"text-align: right;\">0</td></tr><tr><td class = \"rowNumber\" style = \"font-weight: bold; text-align: right;\">110187</td><td style = \"font-style: italic; text-align: right;\">missing</td><td style = \"text-align: right;\">0</td></tr><tr><td class = \"rowNumber\" style = \"font-weight: bold; text-align: right;\">110188</td><td style = \"text-align: right;\">1.28124e6</td><td style = \"text-align: right;\">0</td></tr><tr><td class = \"rowNumber\" style = \"font-weight: bold; text-align: right;\">110189</td><td style = \"text-align: right;\">1.41734e6</td><td style = \"text-align: right;\">0</td></tr><tr><td class = \"rowNumber\" style = \"font-weight: bold; text-align: right;\">110190</td><td style = \"text-align: right;\">6.42923e5</td><td style = \"text-align: right;\">1</td></tr><tr><td class = \"rowNumber\" style = \"font-weight: bold; text-align: right;\">110191</td><td style = \"text-align: right;\">7.18224e5</td><td style = \"text-align: right;\">0</td></tr></tbody></table></div>"
      ],
      "text/latex": [
       "\\begin{tabular}{r|cc}\n",
       "\t& price\\_predicted & ud\\_0\\\\\n",
       "\t\\hline\n",
       "\t& Float64? & Int64\\\\\n",
       "\t\\hline\n",
       "\t1 & 1.61136e6 & 0 \\\\\n",
       "\t2 & 9.78333e5 & 0 \\\\\n",
       "\t3 & 7.7643e5 & 0 \\\\\n",
       "\t4 & \\emph{missing} & 0 \\\\\n",
       "\t5 & 3.8323e5 & 0 \\\\\n",
       "\t6 & 1.04754e6 & 0 \\\\\n",
       "\t7 & 8.96736e5 & 1 \\\\\n",
       "\t8 & 1.12766e6 & 0 \\\\\n",
       "\t9 & 8.98718e5 & 0 \\\\\n",
       "\t10 & 7.04061e5 & 0 \\\\\n",
       "\t11 & 6.8946e5 & 0 \\\\\n",
       "\t12 & 9.68671e5 & 0 \\\\\n",
       "\t13 & 1.10789e6 & 0 \\\\\n",
       "\t14 & \\emph{missing} & 0 \\\\\n",
       "\t15 & 6.44009e5 & 0 \\\\\n",
       "\t16 & 1.04893e6 & 0 \\\\\n",
       "\t17 & 9.75193e5 & 0 \\\\\n",
       "\t18 & \\emph{missing} & 0 \\\\\n",
       "\t19 & 1.1222e6 & 0 \\\\\n",
       "\t20 & 4.09635e5 & 0 \\\\\n",
       "\t21 & 6.45368e5 & 0 \\\\\n",
       "\t22 & 5.56289e5 & 0 \\\\\n",
       "\t23 & 1.44935e6 & 0 \\\\\n",
       "\t24 & 1.02616e6 & 0 \\\\\n",
       "\t25 & 7.88887e5 & 1 \\\\\n",
       "\t26 & \\emph{missing} & 0 \\\\\n",
       "\t27 & 1.21592e6 & 0 \\\\\n",
       "\t28 & 5.74373e5 & 0 \\\\\n",
       "\t29 & 1.19541e6 & 0 \\\\\n",
       "\t30 & 1.08766e6 & 0 \\\\\n",
       "\t$\\dots$ & $\\dots$ & $\\dots$ \\\\\n",
       "\\end{tabular}\n"
      ],
      "text/plain": [
       "\u001b[1m110191×2 DataFrame\u001b[0m\n",
       "\u001b[1m    Row \u001b[0m│\u001b[1m price_predicted \u001b[0m\u001b[1m ud_0  \u001b[0m\n",
       "        │\u001b[90m Float64?        \u001b[0m\u001b[90m Int64 \u001b[0m\n",
       "────────┼────────────────────────\n",
       "      1 │       1.61136e6      0\n",
       "      2 │       9.78333e5      0\n",
       "      3 │       7.7643e5       0\n",
       "      4 │\u001b[90m missing         \u001b[0m     0\n",
       "      5 │       3.8323e5       0\n",
       "      6 │       1.04754e6      0\n",
       "      7 │       8.96736e5      1\n",
       "      8 │       1.12766e6      0\n",
       "      9 │       8.98718e5      0\n",
       "     10 │       7.04061e5      0\n",
       "     11 │       6.8946e5       0\n",
       "   ⋮    │        ⋮           ⋮\n",
       " 110182 │       5.99691e5      0\n",
       " 110183 │       1.66913e6      0\n",
       " 110184 │       1.11464e6      0\n",
       " 110185 │       1.25091e6      0\n",
       " 110186 │       1.3147e6       0\n",
       " 110187 │\u001b[90m missing         \u001b[0m     0\n",
       " 110188 │       1.28124e6      0\n",
       " 110189 │       1.41734e6      0\n",
       " 110190 │       6.42923e5      1\n",
       " 110191 │       7.18224e5      0\n",
       "\u001b[36m              110170 rows omitted\u001b[0m"
      ]
     },
     "execution_count": 49,
     "metadata": {},
     "output_type": "execute_result"
    }
   ],
   "source": [
    "price_predicted = predict(modelnoud0, data)\n",
    "data.price_predicted = price_predicted\n",
    "df_pred_ud0 = DataFrame(\n",
    "    price_predicted = price_predicted,\n",
    "    ud_0 = data.ud_0\n",
    ")"
   ]
  },
  {
   "cell_type": "code",
   "execution_count": 50,
   "id": "795beef6-b7a1-40c6-90d1-40fda3cd4ece",
   "metadata": {},
   "outputs": [
    {
     "data": {
      "text/plain": [
       "110191-element Vector{Union{Missing, Float64}}:\n",
       "      1.6113562544994566e6\n",
       " 978333.1319796202\n",
       " 776430.1615767726\n",
       "       missing\n",
       " 383229.52921936684\n",
       "      1.047537459729835e6\n",
       " 896736.1867052341\n",
       "      1.1276648322258808e6\n",
       " 898717.7002930774\n",
       " 704061.3609681585\n",
       " 689459.9480281952\n",
       " 968671.3143207572\n",
       "      1.1078918929094984e6\n",
       "      ⋮\n",
       " 950217.6655254071\n",
       "      1.0130557258535549e6\n",
       " 599690.5356982265\n",
       "      1.6691255791092215e6\n",
       "      1.1146423541851602e6\n",
       "      1.2509108011617512e6\n",
       "      1.3146989382790609e6\n",
       "       missing\n",
       "      1.281236648491156e6\n",
       "      1.417342871683275e6\n",
       " 642922.7435525525\n",
       " 718224.1873179073"
      ]
     },
     "execution_count": 50,
     "metadata": {},
     "output_type": "execute_result"
    }
   ],
   "source": [
    "data.price_predicted = price_predicted"
   ]
  },
  {
   "cell_type": "code",
   "execution_count": 51,
   "id": "f9ef4ad3-3293-4b08-a1bc-b958cc006c0b",
   "metadata": {},
   "outputs": [
    {
     "data": {
      "text/html": [
       "<div><div style = \"float: left;\"><span>12651×34 DataFrame</span></div><div style = \"float: right;\"><span style = \"font-style: italic;\">12626 rows omitted</span></div><div style = \"clear: both;\"></div></div><div class = \"data-frame\" style = \"overflow-x: scroll;\"><table class = \"data-frame\" style = \"margin-bottom: 6px;\"><thead><tr class = \"header\"><th class = \"rowNumber\" style = \"font-weight: bold; text-align: right;\">Row</th><th style = \"text-align: left;\">id</th><th style = \"text-align: left;\">price</th><th style = \"text-align: left;\">month</th><th style = \"text-align: left;\">area</th><th style = \"text-align: left;\">type</th><th style = \"text-align: left;\">rooms</th><th style = \"text-align: left;\">centredistance</th><th style = \"text-align: left;\">schooldistance</th><th style = \"text-align: left;\">clinicdistance</th><th style = \"text-align: left;\">postofficedistance</th><th style = \"text-align: left;\">kindergartendistance</th><th style = \"text-align: left;\">restaurantdistance</th><th style = \"text-align: left;\">collegedistance</th><th style = \"text-align: left;\">pharmacydistance</th><th style = \"text-align: left;\">ownership</th><th style = \"text-align: left;\">buildingmaterial</th><th style = \"text-align: left;\">hasparkingspace</th><th style = \"text-align: left;\">hasbalcony</th><th style = \"text-align: left;\">haselevator</th><th style = \"text-align: left;\">hassecurity</th><th style = \"text-align: left;\">hasstorageroom</th><th style = \"text-align: left;\">area2</th><th style = \"text-align: left;\">ud</th><th style = \"text-align: left;\">ud_0</th><th style = \"text-align: left;\">ud_1</th><th style = \"text-align: left;\">ud_2</th><th style = \"text-align: left;\">ud_3</th><th style = \"text-align: left;\">ud_4</th><th style = \"text-align: left;\">ud_5</th><th style = \"text-align: left;\">ud_6</th><th style = \"text-align: left;\">ud_7</th><th style = \"text-align: left;\">ud_8</th><th style = \"text-align: left;\">ud_9</th><th style = \"text-align: left;\">price_predicted</th></tr><tr class = \"subheader headerLastRow\"><th class = \"rowNumber\" style = \"font-weight: bold; text-align: right;\"></th><th title = \"String\" style = \"text-align: left;\">String</th><th title = \"Int64\" style = \"text-align: left;\">Int64</th><th title = \"CategoricalValue{Int64, UInt32}\" style = \"text-align: left;\">Cat…</th><th title = \"Int64\" style = \"text-align: left;\">Int64</th><th title = \"Union{Missing, CategoricalValue{String31, UInt32}}\" style = \"text-align: left;\">Cat…?</th><th title = \"CategoricalValue{Int64, UInt32}\" style = \"text-align: left;\">Cat…</th><th title = \"Float64\" style = \"text-align: left;\">Float64</th><th title = \"Union{Missing, Float64}\" style = \"text-align: left;\">Float64?</th><th title = \"Union{Missing, Float64}\" style = \"text-align: left;\">Float64?</th><th title = \"Union{Missing, Float64}\" style = \"text-align: left;\">Float64?</th><th title = \"Union{Missing, Float64}\" style = \"text-align: left;\">Float64?</th><th title = \"Union{Missing, Float64}\" style = \"text-align: left;\">Float64?</th><th title = \"Union{Missing, Float64}\" style = \"text-align: left;\">Float64?</th><th title = \"Union{Missing, Float64}\" style = \"text-align: left;\">Float64?</th><th title = \"CategoricalValue{String15, UInt32}\" style = \"text-align: left;\">Cat…</th><th title = \"Union{Missing, CategoricalValue{String15, UInt32}}\" style = \"text-align: left;\">Cat…?</th><th title = \"Int64\" style = \"text-align: left;\">Int64</th><th title = \"Int64\" style = \"text-align: left;\">Int64</th><th title = \"Union{Missing, Int64}\" style = \"text-align: left;\">Int64?</th><th title = \"Int64\" style = \"text-align: left;\">Int64</th><th title = \"Int64\" style = \"text-align: left;\">Int64</th><th title = \"Int64\" style = \"text-align: left;\">Int64</th><th title = \"CategoricalValue{Int64, UInt32}\" style = \"text-align: left;\">Cat…</th><th title = \"Int64\" style = \"text-align: left;\">Int64</th><th title = \"Int64\" style = \"text-align: left;\">Int64</th><th title = \"Int64\" style = \"text-align: left;\">Int64</th><th title = \"Int64\" style = \"text-align: left;\">Int64</th><th title = \"Int64\" style = \"text-align: left;\">Int64</th><th title = \"Int64\" style = \"text-align: left;\">Int64</th><th title = \"Int64\" style = \"text-align: left;\">Int64</th><th title = \"Int64\" style = \"text-align: left;\">Int64</th><th title = \"Int64\" style = \"text-align: left;\">Int64</th><th title = \"Int64\" style = \"text-align: left;\">Int64</th><th title = \"Union{Missing, Float64}\" style = \"text-align: left;\">Float64?</th></tr></thead><tbody><tr><td class = \"rowNumber\" style = \"font-weight: bold; text-align: right;\">1</td><td style = \"text-align: left;\">39404087c054348c27522c74ca21a973</td><td style = \"text-align: right;\">689000</td><td style = \"text-align: left;\">1</td><td style = \"text-align: right;\">70</td><td style = \"text-align: left;\">blockOfFlats</td><td style = \"text-align: left;\">3</td><td style = \"text-align: right;\">3.35</td><td style = \"text-align: right;\">0.269</td><td style = \"text-align: right;\">1.364</td><td style = \"text-align: right;\">0.247</td><td style = \"text-align: right;\">0.122</td><td style = \"text-align: right;\">0.388</td><td style = \"text-align: right;\">1.589</td><td style = \"text-align: right;\">0.194</td><td style = \"text-align: left;\">cooperative</td><td style = \"text-align: left;\">concreteSlab</td><td style = \"text-align: right;\">0</td><td style = \"text-align: right;\">0</td><td style = \"text-align: right;\">1</td><td style = \"text-align: right;\">0</td><td style = \"text-align: right;\">1</td><td style = \"text-align: right;\">4900</td><td style = \"text-align: left;\">0</td><td style = \"text-align: right;\">1</td><td style = \"text-align: right;\">0</td><td style = \"text-align: right;\">0</td><td style = \"text-align: right;\">0</td><td style = \"text-align: right;\">0</td><td style = \"text-align: right;\">0</td><td style = \"text-align: right;\">0</td><td style = \"text-align: right;\">0</td><td style = \"text-align: right;\">0</td><td style = \"text-align: right;\">0</td><td style = \"text-align: right;\">8.96736e5</td></tr><tr><td class = \"rowNumber\" style = \"font-weight: bold; text-align: right;\">2</td><td style = \"text-align: left;\">1d5625a24125ddf6482753dedb30454b</td><td style = \"text-align: right;\">426000</td><td style = \"text-align: left;\">1</td><td style = \"text-align: right;\">80</td><td style = \"text-align: left;\">tenement</td><td style = \"text-align: left;\">4</td><td style = \"text-align: right;\">3.69</td><td style = \"text-align: right;\">2.73</td><td style = \"text-align: right;\">3.98</td><td style = \"text-align: right;\">2.873</td><td style = \"text-align: right;\">3.1</td><td style = \"text-align: right;\">2.798</td><td style = \"text-align: right;\">3.542</td><td style = \"text-align: right;\">2.672</td><td style = \"text-align: left;\">condominium</td><td style = \"text-align: left;\">brick</td><td style = \"text-align: right;\">0</td><td style = \"text-align: right;\">0</td><td style = \"text-align: right;\">0</td><td style = \"text-align: right;\">0</td><td style = \"text-align: right;\">0</td><td style = \"text-align: right;\">6400</td><td style = \"text-align: left;\">0</td><td style = \"text-align: right;\">1</td><td style = \"text-align: right;\">0</td><td style = \"text-align: right;\">0</td><td style = \"text-align: right;\">0</td><td style = \"text-align: right;\">0</td><td style = \"text-align: right;\">0</td><td style = \"text-align: right;\">0</td><td style = \"text-align: right;\">0</td><td style = \"text-align: right;\">0</td><td style = \"text-align: right;\">0</td><td style = \"text-align: right;\">7.88887e5</td></tr><tr><td class = \"rowNumber\" style = \"font-weight: bold; text-align: right;\">3</td><td style = \"text-align: left;\">b525921b35146fbe0d845801234562cd</td><td style = \"text-align: right;\">839000</td><td style = \"text-align: left;\">1</td><td style = \"text-align: right;\">80</td><td style = \"text-align: left;\">blockOfFlats</td><td style = \"text-align: left;\">3</td><td style = \"text-align: right;\">5.45</td><td style = \"text-align: right;\">1.888</td><td style = \"text-align: right;\">2.788</td><td style = \"text-align: right;\">0.207</td><td style = \"text-align: right;\">1.98</td><td style = \"text-align: right;\">0.24</td><td style = \"text-align: right;\">3.718</td><td style = \"text-align: right;\">0.5</td><td style = \"text-align: left;\">condominium</td><td style = \"text-align: left;\">brick</td><td style = \"text-align: right;\">0</td><td style = \"text-align: right;\">0</td><td style = \"text-align: right;\">0</td><td style = \"text-align: right;\">0</td><td style = \"text-align: right;\">0</td><td style = \"text-align: right;\">6400</td><td style = \"text-align: left;\">0</td><td style = \"text-align: right;\">1</td><td style = \"text-align: right;\">0</td><td style = \"text-align: right;\">0</td><td style = \"text-align: right;\">0</td><td style = \"text-align: right;\">0</td><td style = \"text-align: right;\">0</td><td style = \"text-align: right;\">0</td><td style = \"text-align: right;\">0</td><td style = \"text-align: right;\">0</td><td style = \"text-align: right;\">0</td><td style = \"text-align: right;\">8.35549e5</td></tr><tr><td class = \"rowNumber\" style = \"font-weight: bold; text-align: right;\">4</td><td style = \"text-align: left;\">7ec1e260b3f3985259ec7626756775c0</td><td style = \"text-align: right;\">810000</td><td style = \"text-align: left;\">1</td><td style = \"text-align: right;\">90</td><td style = \"text-align: left;\">tenement</td><td style = \"text-align: left;\">4</td><td style = \"text-align: right;\">1.78</td><td style = \"text-align: right;\">0.075</td><td style = \"text-align: right;\">0.458</td><td style = \"text-align: right;\">0.284</td><td style = \"text-align: right;\">0.245</td><td style = \"text-align: right;\">0.057</td><td style = \"text-align: right;\">0.294</td><td style = \"text-align: right;\">0.142</td><td style = \"text-align: left;\">condominium</td><td style = \"text-align: left;\">brick</td><td style = \"text-align: right;\">0</td><td style = \"text-align: right;\">0</td><td style = \"font-style: italic; text-align: right;\">missing</td><td style = \"text-align: right;\">0</td><td style = \"text-align: right;\">0</td><td style = \"text-align: right;\">8100</td><td style = \"text-align: left;\">0</td><td style = \"text-align: right;\">1</td><td style = \"text-align: right;\">0</td><td style = \"text-align: right;\">0</td><td style = \"text-align: right;\">0</td><td style = \"text-align: right;\">0</td><td style = \"text-align: right;\">0</td><td style = \"text-align: right;\">0</td><td style = \"text-align: right;\">0</td><td style = \"text-align: right;\">0</td><td style = \"text-align: right;\">0</td><td style = \"font-style: italic; text-align: right;\">missing</td></tr><tr><td class = \"rowNumber\" style = \"font-weight: bold; text-align: right;\">5</td><td style = \"text-align: left;\">a8f33c3bf9461849f1b8914b9ab7c3cd</td><td style = \"text-align: right;\">485000</td><td style = \"text-align: left;\">1</td><td style = \"text-align: right;\">60</td><td style = \"text-align: left;\">tenement</td><td style = \"text-align: left;\">3</td><td style = \"text-align: right;\">2.7</td><td style = \"text-align: right;\">0.314</td><td style = \"text-align: right;\">0.679</td><td style = \"text-align: right;\">0.583</td><td style = \"text-align: right;\">0.425</td><td style = \"text-align: right;\">0.031</td><td style = \"text-align: right;\">1.401</td><td style = \"text-align: right;\">0.183</td><td style = \"text-align: left;\">condominium</td><td style = \"text-align: left;\">brick</td><td style = \"text-align: right;\">0</td><td style = \"text-align: right;\">0</td><td style = \"text-align: right;\">0</td><td style = \"text-align: right;\">0</td><td style = \"text-align: right;\">1</td><td style = \"text-align: right;\">3600</td><td style = \"text-align: left;\">0</td><td style = \"text-align: right;\">1</td><td style = \"text-align: right;\">0</td><td style = \"text-align: right;\">0</td><td style = \"text-align: right;\">0</td><td style = \"text-align: right;\">0</td><td style = \"text-align: right;\">0</td><td style = \"text-align: right;\">0</td><td style = \"text-align: right;\">0</td><td style = \"text-align: right;\">0</td><td style = \"text-align: right;\">0</td><td style = \"text-align: right;\">7.12796e5</td></tr><tr><td class = \"rowNumber\" style = \"font-weight: bold; text-align: right;\">6</td><td style = \"text-align: left;\">4fd74e394f0cfe9aa5304c9c8bd20f59</td><td style = \"text-align: right;\">426000</td><td style = \"text-align: left;\">1</td><td style = \"text-align: right;\">80</td><td style = \"text-align: left;\">tenement</td><td style = \"text-align: left;\">4</td><td style = \"text-align: right;\">1.43</td><td style = \"text-align: right;\">0.406</td><td style = \"text-align: right;\">0.508</td><td style = \"text-align: right;\">0.233</td><td style = \"text-align: right;\">0.364</td><td style = \"text-align: right;\">0.046</td><td style = \"text-align: right;\">0.267</td><td style = \"text-align: right;\">0.072</td><td style = \"text-align: left;\">condominium</td><td style = \"text-align: left;\">brick</td><td style = \"text-align: right;\">0</td><td style = \"text-align: right;\">0</td><td style = \"text-align: right;\">0</td><td style = \"text-align: right;\">0</td><td style = \"text-align: right;\">0</td><td style = \"text-align: right;\">6400</td><td style = \"text-align: left;\">0</td><td style = \"text-align: right;\">1</td><td style = \"text-align: right;\">0</td><td style = \"text-align: right;\">0</td><td style = \"text-align: right;\">0</td><td style = \"text-align: right;\">0</td><td style = \"text-align: right;\">0</td><td style = \"text-align: right;\">0</td><td style = \"text-align: right;\">0</td><td style = \"text-align: right;\">0</td><td style = \"text-align: right;\">0</td><td style = \"text-align: right;\">1.03919e6</td></tr><tr><td class = \"rowNumber\" style = \"font-weight: bold; text-align: right;\">7</td><td style = \"text-align: left;\">4756498cb0b499431d8364a0bc1a2394</td><td style = \"text-align: right;\">435000</td><td style = \"text-align: left;\">1</td><td style = \"text-align: right;\">60</td><td style = \"text-align: left;\">blockOfFlats</td><td style = \"text-align: left;\">3</td><td style = \"text-align: right;\">1.52</td><td style = \"text-align: right;\">0.092</td><td style = \"text-align: right;\">0.508</td><td style = \"text-align: right;\">0.205</td><td style = \"text-align: right;\">0.614</td><td style = \"text-align: right;\">0.159</td><td style = \"text-align: right;\">0.641</td><td style = \"text-align: right;\">0.16</td><td style = \"text-align: left;\">condominium</td><td style = \"text-align: left;\">brick</td><td style = \"text-align: right;\">0</td><td style = \"text-align: right;\">0</td><td style = \"text-align: right;\">0</td><td style = \"text-align: right;\">0</td><td style = \"text-align: right;\">1</td><td style = \"text-align: right;\">3600</td><td style = \"text-align: left;\">0</td><td style = \"text-align: right;\">1</td><td style = \"text-align: right;\">0</td><td style = \"text-align: right;\">0</td><td style = \"text-align: right;\">0</td><td style = \"text-align: right;\">0</td><td style = \"text-align: right;\">0</td><td style = \"text-align: right;\">0</td><td style = \"text-align: right;\">0</td><td style = \"text-align: right;\">0</td><td style = \"text-align: right;\">0</td><td style = \"text-align: right;\">7.26235e5</td></tr><tr><td class = \"rowNumber\" style = \"font-weight: bold; text-align: right;\">8</td><td style = \"text-align: left;\">85a998a8af8e7f942179436dd40b0f84</td><td style = \"text-align: right;\">450000</td><td style = \"text-align: left;\">1</td><td style = \"text-align: right;\">50</td><td style = \"text-align: left;\">blockOfFlats</td><td style = \"text-align: left;\">2</td><td style = \"text-align: right;\">9.28</td><td style = \"text-align: right;\">0.255</td><td style = \"text-align: right;\">1.295</td><td style = \"text-align: right;\">0.36</td><td style = \"text-align: right;\">0.272</td><td style = \"text-align: right;\">0.401</td><td style = \"font-style: italic; text-align: right;\">missing</td><td style = \"text-align: right;\">0.473</td><td style = \"text-align: left;\">cooperative</td><td style = \"font-style: italic; text-align: left;\">missing</td><td style = \"text-align: right;\">0</td><td style = \"text-align: right;\">0</td><td style = \"text-align: right;\">0</td><td style = \"text-align: right;\">0</td><td style = \"text-align: right;\">1</td><td style = \"text-align: right;\">2500</td><td style = \"text-align: left;\">0</td><td style = \"text-align: right;\">1</td><td style = \"text-align: right;\">0</td><td style = \"text-align: right;\">0</td><td style = \"text-align: right;\">0</td><td style = \"text-align: right;\">0</td><td style = \"text-align: right;\">0</td><td style = \"text-align: right;\">0</td><td style = \"text-align: right;\">0</td><td style = \"text-align: right;\">0</td><td style = \"text-align: right;\">0</td><td style = \"font-style: italic; text-align: right;\">missing</td></tr><tr><td class = \"rowNumber\" style = \"font-weight: bold; text-align: right;\">9</td><td style = \"text-align: left;\">58befe5c1440c3053dd14353e8ea8521</td><td style = \"text-align: right;\">599000</td><td style = \"text-align: left;\">1</td><td style = \"text-align: right;\">80</td><td style = \"text-align: left;\">tenement</td><td style = \"text-align: left;\">4</td><td style = \"text-align: right;\">3.85</td><td style = \"text-align: right;\">0.411</td><td style = \"text-align: right;\">0.361</td><td style = \"text-align: right;\">0.076</td><td style = \"text-align: right;\">0.522</td><td style = \"text-align: right;\">0.643</td><td style = \"text-align: right;\">1.287</td><td style = \"text-align: right;\">0.051</td><td style = \"text-align: left;\">condominium</td><td style = \"text-align: left;\">brick</td><td style = \"text-align: right;\">0</td><td style = \"text-align: right;\">0</td><td style = \"text-align: right;\">0</td><td style = \"text-align: right;\">0</td><td style = \"text-align: right;\">0</td><td style = \"text-align: right;\">6400</td><td style = \"text-align: left;\">0</td><td style = \"text-align: right;\">1</td><td style = \"text-align: right;\">0</td><td style = \"text-align: right;\">0</td><td style = \"text-align: right;\">0</td><td style = \"text-align: right;\">0</td><td style = \"text-align: right;\">0</td><td style = \"text-align: right;\">0</td><td style = \"text-align: right;\">0</td><td style = \"text-align: right;\">0</td><td style = \"text-align: right;\">0</td><td style = \"text-align: right;\">1.0327e6</td></tr><tr><td class = \"rowNumber\" style = \"font-weight: bold; text-align: right;\">10</td><td style = \"text-align: left;\">2b9e0c70bab3a8224c2ed92d17ca8016</td><td style = \"text-align: right;\">890000</td><td style = \"text-align: left;\">1</td><td style = \"text-align: right;\">60</td><td style = \"font-style: italic; text-align: left;\">missing</td><td style = \"text-align: left;\">3</td><td style = \"text-align: right;\">1.76</td><td style = \"text-align: right;\">0.127</td><td style = \"text-align: right;\">0.599</td><td style = \"text-align: right;\">0.434</td><td style = \"text-align: right;\">0.315</td><td style = \"text-align: right;\">0.263</td><td style = \"text-align: right;\">1.101</td><td style = \"text-align: right;\">0.362</td><td style = \"text-align: left;\">condominium</td><td style = \"text-align: left;\">brick</td><td style = \"text-align: right;\">0</td><td style = \"text-align: right;\">0</td><td style = \"text-align: right;\">1</td><td style = \"text-align: right;\">0</td><td style = \"text-align: right;\">0</td><td style = \"text-align: right;\">3600</td><td style = \"text-align: left;\">0</td><td style = \"text-align: right;\">1</td><td style = \"text-align: right;\">0</td><td style = \"text-align: right;\">0</td><td style = \"text-align: right;\">0</td><td style = \"text-align: right;\">0</td><td style = \"text-align: right;\">0</td><td style = \"text-align: right;\">0</td><td style = \"text-align: right;\">0</td><td style = \"text-align: right;\">0</td><td style = \"text-align: right;\">0</td><td style = \"text-align: right;\">1.0357e6</td></tr><tr><td class = \"rowNumber\" style = \"font-weight: bold; text-align: right;\">11</td><td style = \"text-align: left;\">79be1c14640ad3bd58341fd172a71b64</td><td style = \"text-align: right;\">480000</td><td style = \"text-align: left;\">1</td><td style = \"text-align: right;\">50</td><td style = \"text-align: left;\">blockOfFlats</td><td style = \"text-align: left;\">2</td><td style = \"text-align: right;\">4.32</td><td style = \"text-align: right;\">0.467</td><td style = \"text-align: right;\">0.179</td><td style = \"text-align: right;\">0.226</td><td style = \"text-align: right;\">0.28</td><td style = \"text-align: right;\">0.274</td><td style = \"text-align: right;\">1.677</td><td style = \"text-align: right;\">0.249</td><td style = \"text-align: left;\">condominium</td><td style = \"text-align: left;\">brick</td><td style = \"text-align: right;\">0</td><td style = \"text-align: right;\">0</td><td style = \"text-align: right;\">0</td><td style = \"text-align: right;\">0</td><td style = \"text-align: right;\">0</td><td style = \"text-align: right;\">2500</td><td style = \"text-align: left;\">0</td><td style = \"text-align: right;\">1</td><td style = \"text-align: right;\">0</td><td style = \"text-align: right;\">0</td><td style = \"text-align: right;\">0</td><td style = \"text-align: right;\">0</td><td style = \"text-align: right;\">0</td><td style = \"text-align: right;\">0</td><td style = \"text-align: right;\">0</td><td style = \"text-align: right;\">0</td><td style = \"text-align: right;\">0</td><td style = \"text-align: right;\">6.61407e5</td></tr><tr><td class = \"rowNumber\" style = \"font-weight: bold; text-align: right;\">12</td><td style = \"text-align: left;\">1de81625daa6d917894091247f468441</td><td style = \"text-align: right;\">395000</td><td style = \"text-align: left;\">1</td><td style = \"text-align: right;\">50</td><td style = \"text-align: left;\">tenement</td><td style = \"text-align: left;\">2</td><td style = \"text-align: right;\">3.74</td><td style = \"text-align: right;\">0.174</td><td style = \"text-align: right;\">0.955</td><td style = \"text-align: right;\">0.352</td><td style = \"text-align: right;\">0.347</td><td style = \"text-align: right;\">0.552</td><td style = \"text-align: right;\">1.629</td><td style = \"text-align: right;\">0.345</td><td style = \"text-align: left;\">cooperative</td><td style = \"text-align: left;\">brick</td><td style = \"text-align: right;\">0</td><td style = \"text-align: right;\">0</td><td style = \"text-align: right;\">0</td><td style = \"text-align: right;\">0</td><td style = \"text-align: right;\">1</td><td style = \"text-align: right;\">2500</td><td style = \"text-align: left;\">0</td><td style = \"text-align: right;\">1</td><td style = \"text-align: right;\">0</td><td style = \"text-align: right;\">0</td><td style = \"text-align: right;\">0</td><td style = \"text-align: right;\">0</td><td style = \"text-align: right;\">0</td><td style = \"text-align: right;\">0</td><td style = \"text-align: right;\">0</td><td style = \"text-align: right;\">0</td><td style = \"text-align: right;\">0</td><td style = \"text-align: right;\">5.66054e5</td></tr><tr><td class = \"rowNumber\" style = \"font-weight: bold; text-align: right;\">13</td><td style = \"text-align: left;\">744c6d6283dc89054f187e452443e6a1</td><td style = \"text-align: right;\">560000</td><td style = \"text-align: left;\">1</td><td style = \"text-align: right;\">50</td><td style = \"text-align: left;\">blockOfFlats</td><td style = \"text-align: left;\">2</td><td style = \"text-align: right;\">5.86</td><td style = \"text-align: right;\">0.888</td><td style = \"text-align: right;\">2.189</td><td style = \"text-align: right;\">0.795</td><td style = \"text-align: right;\">0.494</td><td style = \"text-align: right;\">0.598</td><td style = \"text-align: right;\">3.013</td><td style = \"text-align: right;\">0.662</td><td style = \"text-align: left;\">condominium</td><td style = \"text-align: left;\">brick</td><td style = \"text-align: right;\">0</td><td style = \"text-align: right;\">0</td><td style = \"text-align: right;\">1</td><td style = \"text-align: right;\">0</td><td style = \"text-align: right;\">0</td><td style = \"text-align: right;\">2500</td><td style = \"text-align: left;\">0</td><td style = \"text-align: right;\">1</td><td style = \"text-align: right;\">0</td><td style = \"text-align: right;\">0</td><td style = \"text-align: right;\">0</td><td style = \"text-align: right;\">0</td><td style = \"text-align: right;\">0</td><td style = \"text-align: right;\">0</td><td style = \"text-align: right;\">0</td><td style = \"text-align: right;\">0</td><td style = \"text-align: right;\">0</td><td style = \"text-align: right;\">8.08518e5</td></tr><tr><td style = \"text-align: right;\">&vellip;</td><td style = \"text-align: right;\">&vellip;</td><td style = \"text-align: right;\">&vellip;</td><td style = \"text-align: right;\">&vellip;</td><td style = \"text-align: right;\">&vellip;</td><td style = \"text-align: right;\">&vellip;</td><td style = \"text-align: right;\">&vellip;</td><td style = \"text-align: right;\">&vellip;</td><td style = \"text-align: right;\">&vellip;</td><td style = \"text-align: right;\">&vellip;</td><td style = \"text-align: right;\">&vellip;</td><td style = \"text-align: right;\">&vellip;</td><td style = \"text-align: right;\">&vellip;</td><td style = \"text-align: right;\">&vellip;</td><td style = \"text-align: right;\">&vellip;</td><td style = \"text-align: right;\">&vellip;</td><td style = \"text-align: right;\">&vellip;</td><td style = \"text-align: right;\">&vellip;</td><td style = \"text-align: right;\">&vellip;</td><td style = \"text-align: right;\">&vellip;</td><td style = \"text-align: right;\">&vellip;</td><td style = \"text-align: right;\">&vellip;</td><td style = \"text-align: right;\">&vellip;</td><td style = \"text-align: right;\">&vellip;</td><td style = \"text-align: right;\">&vellip;</td><td style = \"text-align: right;\">&vellip;</td><td style = \"text-align: right;\">&vellip;</td><td style = \"text-align: right;\">&vellip;</td><td style = \"text-align: right;\">&vellip;</td><td style = \"text-align: right;\">&vellip;</td><td style = \"text-align: right;\">&vellip;</td><td style = \"text-align: right;\">&vellip;</td><td style = \"text-align: right;\">&vellip;</td><td style = \"text-align: right;\">&vellip;</td><td style = \"text-align: right;\">&vellip;</td></tr><tr><td class = \"rowNumber\" style = \"font-weight: bold; text-align: right;\">12640</td><td style = \"text-align: left;\">0e6a903b88ef09ee2b75718dbf137ef6</td><td style = \"text-align: right;\">869900</td><td style = \"text-align: left;\">6</td><td style = \"text-align: right;\">110</td><td style = \"text-align: left;\">tenement</td><td style = \"text-align: left;\">4</td><td style = \"text-align: right;\">1.29</td><td style = \"text-align: right;\">0.301</td><td style = \"text-align: right;\">0.411</td><td style = \"text-align: right;\">0.041</td><td style = \"text-align: right;\">0.182</td><td style = \"text-align: right;\">0.235</td><td style = \"text-align: right;\">0.117</td><td style = \"text-align: right;\">0.156</td><td style = \"text-align: left;\">condominium</td><td style = \"text-align: left;\">brick</td><td style = \"text-align: right;\">0</td><td style = \"text-align: right;\">0</td><td style = \"text-align: right;\">0</td><td style = \"text-align: right;\">0</td><td style = \"text-align: right;\">0</td><td style = \"text-align: right;\">12100</td><td style = \"text-align: left;\">0</td><td style = \"text-align: right;\">1</td><td style = \"text-align: right;\">0</td><td style = \"text-align: right;\">0</td><td style = \"text-align: right;\">0</td><td style = \"text-align: right;\">0</td><td style = \"text-align: right;\">0</td><td style = \"text-align: right;\">0</td><td style = \"text-align: right;\">0</td><td style = \"text-align: right;\">0</td><td style = \"text-align: right;\">0</td><td style = \"text-align: right;\">1.4922e6</td></tr><tr><td class = \"rowNumber\" style = \"font-weight: bold; text-align: right;\">12641</td><td style = \"text-align: left;\">f794d5daf6d864d3c1b57cb46414eb09</td><td style = \"text-align: right;\">420000</td><td style = \"text-align: left;\">6</td><td style = \"text-align: right;\">70</td><td style = \"text-align: left;\">tenement</td><td style = \"text-align: left;\">2</td><td style = \"text-align: right;\">0.52</td><td style = \"text-align: right;\">0.263</td><td style = \"text-align: right;\">0.62</td><td style = \"text-align: right;\">0.366</td><td style = \"text-align: right;\">0.453</td><td style = \"text-align: right;\">0.046</td><td style = \"text-align: right;\">0.521</td><td style = \"text-align: right;\">0.172</td><td style = \"text-align: left;\">condominium</td><td style = \"text-align: left;\">brick</td><td style = \"text-align: right;\">0</td><td style = \"text-align: right;\">0</td><td style = \"text-align: right;\">0</td><td style = \"text-align: right;\">0</td><td style = \"text-align: right;\">1</td><td style = \"text-align: right;\">4900</td><td style = \"text-align: left;\">0</td><td style = \"text-align: right;\">1</td><td style = \"text-align: right;\">0</td><td style = \"text-align: right;\">0</td><td style = \"text-align: right;\">0</td><td style = \"text-align: right;\">0</td><td style = \"text-align: right;\">0</td><td style = \"text-align: right;\">0</td><td style = \"text-align: right;\">0</td><td style = \"text-align: right;\">0</td><td style = \"text-align: right;\">0</td><td style = \"text-align: right;\">8.5949e5</td></tr><tr><td class = \"rowNumber\" style = \"font-weight: bold; text-align: right;\">12642</td><td style = \"text-align: left;\">ac83029ae673c96f77816b04b1b31094</td><td style = \"text-align: right;\">269000</td><td style = \"text-align: left;\">6</td><td style = \"text-align: right;\">40</td><td style = \"text-align: left;\">tenement</td><td style = \"text-align: left;\">2</td><td style = \"text-align: right;\">0.56</td><td style = \"text-align: right;\">0.301</td><td style = \"text-align: right;\">0.455</td><td style = \"text-align: right;\">0.801</td><td style = \"text-align: right;\">0.313</td><td style = \"text-align: right;\">0.123</td><td style = \"text-align: right;\">0.268</td><td style = \"text-align: right;\">0.3</td><td style = \"text-align: left;\">cooperative</td><td style = \"text-align: left;\">brick</td><td style = \"text-align: right;\">0</td><td style = \"text-align: right;\">0</td><td style = \"text-align: right;\">0</td><td style = \"text-align: right;\">0</td><td style = \"text-align: right;\">1</td><td style = \"text-align: right;\">1600</td><td style = \"text-align: left;\">0</td><td style = \"text-align: right;\">1</td><td style = \"text-align: right;\">0</td><td style = \"text-align: right;\">0</td><td style = \"text-align: right;\">0</td><td style = \"text-align: right;\">0</td><td style = \"text-align: right;\">0</td><td style = \"text-align: right;\">0</td><td style = \"text-align: right;\">0</td><td style = \"text-align: right;\">0</td><td style = \"text-align: right;\">0</td><td style = \"text-align: right;\">4.63e5</td></tr><tr><td class = \"rowNumber\" style = \"font-weight: bold; text-align: right;\">12643</td><td style = \"text-align: left;\">74233b0ed242782d4e1cc88e5a823d5c</td><td style = \"text-align: right;\">289900</td><td style = \"text-align: left;\">6</td><td style = \"text-align: right;\">40</td><td style = \"text-align: left;\">tenement</td><td style = \"text-align: left;\">2</td><td style = \"text-align: right;\">0.56</td><td style = \"text-align: right;\">0.301</td><td style = \"text-align: right;\">0.455</td><td style = \"text-align: right;\">0.801</td><td style = \"text-align: right;\">0.313</td><td style = \"text-align: right;\">0.123</td><td style = \"text-align: right;\">0.268</td><td style = \"text-align: right;\">0.3</td><td style = \"text-align: left;\">condominium</td><td style = \"text-align: left;\">brick</td><td style = \"text-align: right;\">0</td><td style = \"text-align: right;\">0</td><td style = \"text-align: right;\">0</td><td style = \"text-align: right;\">0</td><td style = \"text-align: right;\">1</td><td style = \"text-align: right;\">1600</td><td style = \"text-align: left;\">0</td><td style = \"text-align: right;\">1</td><td style = \"text-align: right;\">0</td><td style = \"text-align: right;\">0</td><td style = \"text-align: right;\">0</td><td style = \"text-align: right;\">0</td><td style = \"text-align: right;\">0</td><td style = \"text-align: right;\">0</td><td style = \"text-align: right;\">0</td><td style = \"text-align: right;\">0</td><td style = \"text-align: right;\">0</td><td style = \"text-align: right;\">4.84498e5</td></tr><tr><td class = \"rowNumber\" style = \"font-weight: bold; text-align: right;\">12644</td><td style = \"text-align: left;\">8cf7f2af1dfbffd2c21b950bd70285f8</td><td style = \"text-align: right;\">349000</td><td style = \"text-align: left;\">6</td><td style = \"text-align: right;\">40</td><td style = \"text-align: left;\">tenement</td><td style = \"text-align: left;\">2</td><td style = \"text-align: right;\">0.5</td><td style = \"text-align: right;\">0.171</td><td style = \"text-align: right;\">0.358</td><td style = \"text-align: right;\">0.097</td><td style = \"text-align: right;\">0.32</td><td style = \"text-align: right;\">0.172</td><td style = \"text-align: right;\">0.329</td><td style = \"text-align: right;\">0.389</td><td style = \"text-align: left;\">condominium</td><td style = \"text-align: left;\">brick</td><td style = \"text-align: right;\">0</td><td style = \"text-align: right;\">0</td><td style = \"text-align: right;\">0</td><td style = \"text-align: right;\">0</td><td style = \"text-align: right;\">0</td><td style = \"text-align: right;\">1600</td><td style = \"text-align: left;\">0</td><td style = \"text-align: right;\">1</td><td style = \"text-align: right;\">0</td><td style = \"text-align: right;\">0</td><td style = \"text-align: right;\">0</td><td style = \"text-align: right;\">0</td><td style = \"text-align: right;\">0</td><td style = \"text-align: right;\">0</td><td style = \"text-align: right;\">0</td><td style = \"text-align: right;\">0</td><td style = \"text-align: right;\">0</td><td style = \"text-align: right;\">5.46957e5</td></tr><tr><td class = \"rowNumber\" style = \"font-weight: bold; text-align: right;\">12645</td><td style = \"text-align: left;\">b66871d413bd2b5a823f578ec319bf1b</td><td style = \"text-align: right;\">569000</td><td style = \"text-align: left;\">6</td><td style = \"text-align: right;\">50</td><td style = \"font-style: italic; text-align: left;\">missing</td><td style = \"text-align: left;\">3</td><td style = \"text-align: right;\">3.65</td><td style = \"text-align: right;\">0.292</td><td style = \"text-align: right;\">0.954</td><td style = \"text-align: right;\">0.28</td><td style = \"text-align: right;\">0.588</td><td style = \"text-align: right;\">1.419</td><td style = \"text-align: right;\">1.274</td><td style = \"text-align: right;\">0.259</td><td style = \"text-align: left;\">condominium</td><td style = \"text-align: left;\">concreteSlab</td><td style = \"text-align: right;\">0</td><td style = \"text-align: right;\">0</td><td style = \"text-align: right;\">0</td><td style = \"text-align: right;\">0</td><td style = \"text-align: right;\">1</td><td style = \"text-align: right;\">2500</td><td style = \"text-align: left;\">0</td><td style = \"text-align: right;\">1</td><td style = \"text-align: right;\">0</td><td style = \"text-align: right;\">0</td><td style = \"text-align: right;\">0</td><td style = \"text-align: right;\">0</td><td style = \"text-align: right;\">0</td><td style = \"text-align: right;\">0</td><td style = \"text-align: right;\">0</td><td style = \"text-align: right;\">0</td><td style = \"text-align: right;\">0</td><td style = \"text-align: right;\">3.9699e5</td></tr><tr><td class = \"rowNumber\" style = \"font-weight: bold; text-align: right;\">12646</td><td style = \"text-align: left;\">c7882b46375ba4fc8f45eda9da42b134</td><td style = \"text-align: right;\">279000</td><td style = \"text-align: left;\">6</td><td style = \"text-align: right;\">40</td><td style = \"text-align: left;\">tenement</td><td style = \"text-align: left;\">2</td><td style = \"text-align: right;\">2.31</td><td style = \"text-align: right;\">0.461</td><td style = \"text-align: right;\">0.986</td><td style = \"text-align: right;\">0.733</td><td style = \"text-align: right;\">0.543</td><td style = \"text-align: right;\">0.55</td><td style = \"text-align: right;\">0.352</td><td style = \"text-align: right;\">0.54</td><td style = \"text-align: left;\">condominium</td><td style = \"text-align: left;\">brick</td><td style = \"text-align: right;\">0</td><td style = \"text-align: right;\">0</td><td style = \"font-style: italic; text-align: right;\">missing</td><td style = \"text-align: right;\">0</td><td style = \"text-align: right;\">0</td><td style = \"text-align: right;\">1600</td><td style = \"text-align: left;\">0</td><td style = \"text-align: right;\">1</td><td style = \"text-align: right;\">0</td><td style = \"text-align: right;\">0</td><td style = \"text-align: right;\">0</td><td style = \"text-align: right;\">0</td><td style = \"text-align: right;\">0</td><td style = \"text-align: right;\">0</td><td style = \"text-align: right;\">0</td><td style = \"text-align: right;\">0</td><td style = \"text-align: right;\">0</td><td style = \"font-style: italic; text-align: right;\">missing</td></tr><tr><td class = \"rowNumber\" style = \"font-weight: bold; text-align: right;\">12647</td><td style = \"text-align: left;\">eeac35af28b08d19337d6f9c968aa8e8</td><td style = \"text-align: right;\">289000</td><td style = \"text-align: left;\">6</td><td style = \"text-align: right;\">40</td><td style = \"font-style: italic; text-align: left;\">missing</td><td style = \"text-align: left;\">3</td><td style = \"text-align: right;\">2.31</td><td style = \"text-align: right;\">0.466</td><td style = \"text-align: right;\">0.995</td><td style = \"text-align: right;\">0.728</td><td style = \"text-align: right;\">0.542</td><td style = \"text-align: right;\">0.559</td><td style = \"text-align: right;\">0.346</td><td style = \"text-align: right;\">0.539</td><td style = \"text-align: left;\">condominium</td><td style = \"font-style: italic; text-align: left;\">missing</td><td style = \"text-align: right;\">0</td><td style = \"text-align: right;\">0</td><td style = \"text-align: right;\">0</td><td style = \"text-align: right;\">0</td><td style = \"text-align: right;\">1</td><td style = \"text-align: right;\">1600</td><td style = \"text-align: left;\">0</td><td style = \"text-align: right;\">1</td><td style = \"text-align: right;\">0</td><td style = \"text-align: right;\">0</td><td style = \"text-align: right;\">0</td><td style = \"text-align: right;\">0</td><td style = \"text-align: right;\">0</td><td style = \"text-align: right;\">0</td><td style = \"text-align: right;\">0</td><td style = \"text-align: right;\">0</td><td style = \"text-align: right;\">0</td><td style = \"font-style: italic; text-align: right;\">missing</td></tr><tr><td class = \"rowNumber\" style = \"font-weight: bold; text-align: right;\">12648</td><td style = \"text-align: left;\">6c34a9dc8f8fbefefd0a6a890bbab8b0</td><td style = \"text-align: right;\">335000</td><td style = \"text-align: left;\">6</td><td style = \"text-align: right;\">30</td><td style = \"text-align: left;\">tenement</td><td style = \"text-align: left;\">1</td><td style = \"text-align: right;\">0.39</td><td style = \"text-align: right;\">0.135</td><td style = \"text-align: right;\">0.434</td><td style = \"text-align: right;\">0.055</td><td style = \"text-align: right;\">0.241</td><td style = \"text-align: right;\">0.089</td><td style = \"text-align: right;\">0.344</td><td style = \"text-align: right;\">0.267</td><td style = \"text-align: left;\">condominium</td><td style = \"text-align: left;\">brick</td><td style = \"text-align: right;\">0</td><td style = \"text-align: right;\">0</td><td style = \"text-align: right;\">0</td><td style = \"text-align: right;\">0</td><td style = \"text-align: right;\">0</td><td style = \"text-align: right;\">900</td><td style = \"text-align: left;\">0</td><td style = \"text-align: right;\">1</td><td style = \"text-align: right;\">0</td><td style = \"text-align: right;\">0</td><td style = \"text-align: right;\">0</td><td style = \"text-align: right;\">0</td><td style = \"text-align: right;\">0</td><td style = \"text-align: right;\">0</td><td style = \"text-align: right;\">0</td><td style = \"text-align: right;\">0</td><td style = \"text-align: right;\">0</td><td style = \"text-align: right;\">4.16377e5</td></tr><tr><td class = \"rowNumber\" style = \"font-weight: bold; text-align: right;\">12649</td><td style = \"text-align: left;\">c09803ebd4cc139c497abbf6e244a607</td><td style = \"text-align: right;\">890000</td><td style = \"text-align: left;\">6</td><td style = \"text-align: right;\">80</td><td style = \"font-style: italic; text-align: left;\">missing</td><td style = \"text-align: left;\">3</td><td style = \"text-align: right;\">0.65</td><td style = \"text-align: right;\">0.111</td><td style = \"text-align: right;\">0.205</td><td style = \"text-align: right;\">0.351</td><td style = \"text-align: right;\">0.405</td><td style = \"text-align: right;\">0.058</td><td style = \"text-align: right;\">0.622</td><td style = \"text-align: right;\">0.205</td><td style = \"text-align: left;\">condominium</td><td style = \"text-align: left;\">brick</td><td style = \"text-align: right;\">0</td><td style = \"text-align: right;\">0</td><td style = \"text-align: right;\">0</td><td style = \"text-align: right;\">0</td><td style = \"text-align: right;\">0</td><td style = \"text-align: right;\">6400</td><td style = \"text-align: left;\">0</td><td style = \"text-align: right;\">1</td><td style = \"text-align: right;\">0</td><td style = \"text-align: right;\">0</td><td style = \"text-align: right;\">0</td><td style = \"text-align: right;\">0</td><td style = \"text-align: right;\">0</td><td style = \"text-align: right;\">0</td><td style = \"text-align: right;\">0</td><td style = \"text-align: right;\">0</td><td style = \"text-align: right;\">0</td><td style = \"text-align: right;\">1.05567e6</td></tr><tr><td class = \"rowNumber\" style = \"font-weight: bold; text-align: right;\">12650</td><td style = \"text-align: left;\">2ac016f953ec63e36c3f99783b94d9cf</td><td style = \"text-align: right;\">208035</td><td style = \"text-align: left;\">6</td><td style = \"text-align: right;\">30</td><td style = \"font-style: italic; text-align: left;\">missing</td><td style = \"text-align: left;\">1</td><td style = \"text-align: right;\">1.21</td><td style = \"text-align: right;\">0.204</td><td style = \"text-align: right;\">1.15</td><td style = \"text-align: right;\">0.156</td><td style = \"text-align: right;\">0.064</td><td style = \"text-align: right;\">0.346</td><td style = \"text-align: right;\">0.348</td><td style = \"text-align: right;\">0.058</td><td style = \"text-align: left;\">condominium</td><td style = \"text-align: left;\">brick</td><td style = \"text-align: right;\">0</td><td style = \"text-align: right;\">0</td><td style = \"text-align: right;\">0</td><td style = \"text-align: right;\">0</td><td style = \"text-align: right;\">0</td><td style = \"text-align: right;\">900</td><td style = \"text-align: left;\">0</td><td style = \"text-align: right;\">1</td><td style = \"text-align: right;\">0</td><td style = \"text-align: right;\">0</td><td style = \"text-align: right;\">0</td><td style = \"text-align: right;\">0</td><td style = \"text-align: right;\">0</td><td style = \"text-align: right;\">0</td><td style = \"text-align: right;\">0</td><td style = \"text-align: right;\">0</td><td style = \"text-align: right;\">0</td><td style = \"text-align: right;\">3.72736e5</td></tr><tr><td class = \"rowNumber\" style = \"font-weight: bold; text-align: right;\">12651</td><td style = \"text-align: left;\">1e7f4f1fdfea31eb84e071d697839632</td><td style = \"text-align: right;\">360000</td><td style = \"text-align: left;\">6</td><td style = \"text-align: right;\">50</td><td style = \"font-style: italic; text-align: left;\">missing</td><td style = \"text-align: left;\">2</td><td style = \"text-align: right;\">0.88</td><td style = \"text-align: right;\">0.174</td><td style = \"text-align: right;\">0.496</td><td style = \"text-align: right;\">0.388</td><td style = \"text-align: right;\">0.46</td><td style = \"text-align: right;\">0.079</td><td style = \"text-align: right;\">0.332</td><td style = \"text-align: right;\">0.25</td><td style = \"text-align: left;\">condominium</td><td style = \"text-align: left;\">brick</td><td style = \"text-align: right;\">0</td><td style = \"text-align: right;\">0</td><td style = \"text-align: right;\">0</td><td style = \"text-align: right;\">0</td><td style = \"text-align: right;\">0</td><td style = \"text-align: right;\">2500</td><td style = \"text-align: left;\">0</td><td style = \"text-align: right;\">1</td><td style = \"text-align: right;\">0</td><td style = \"text-align: right;\">0</td><td style = \"text-align: right;\">0</td><td style = \"text-align: right;\">0</td><td style = \"text-align: right;\">0</td><td style = \"text-align: right;\">0</td><td style = \"text-align: right;\">0</td><td style = \"text-align: right;\">0</td><td style = \"text-align: right;\">0</td><td style = \"text-align: right;\">6.42923e5</td></tr></tbody></table></div>"
      ],
      "text/latex": [
       "\\begin{tabular}{r|ccccccc}\n",
       "\t& id & price & month & area & type & rooms & \\\\\n",
       "\t\\hline\n",
       "\t& String & Int64 & Cat… & Int64 & Cat…? & Cat… & \\\\\n",
       "\t\\hline\n",
       "\t1 & 39404087c054348c27522c74ca21a973 & 689000 & 1 & 70 & blockOfFlats & 3 & $\\dots$ \\\\\n",
       "\t2 & 1d5625a24125ddf6482753dedb30454b & 426000 & 1 & 80 & tenement & 4 & $\\dots$ \\\\\n",
       "\t3 & b525921b35146fbe0d845801234562cd & 839000 & 1 & 80 & blockOfFlats & 3 & $\\dots$ \\\\\n",
       "\t4 & 7ec1e260b3f3985259ec7626756775c0 & 810000 & 1 & 90 & tenement & 4 & $\\dots$ \\\\\n",
       "\t5 & a8f33c3bf9461849f1b8914b9ab7c3cd & 485000 & 1 & 60 & tenement & 3 & $\\dots$ \\\\\n",
       "\t6 & 4fd74e394f0cfe9aa5304c9c8bd20f59 & 426000 & 1 & 80 & tenement & 4 & $\\dots$ \\\\\n",
       "\t7 & 4756498cb0b499431d8364a0bc1a2394 & 435000 & 1 & 60 & blockOfFlats & 3 & $\\dots$ \\\\\n",
       "\t8 & 85a998a8af8e7f942179436dd40b0f84 & 450000 & 1 & 50 & blockOfFlats & 2 & $\\dots$ \\\\\n",
       "\t9 & 58befe5c1440c3053dd14353e8ea8521 & 599000 & 1 & 80 & tenement & 4 & $\\dots$ \\\\\n",
       "\t10 & 2b9e0c70bab3a8224c2ed92d17ca8016 & 890000 & 1 & 60 & \\emph{missing} & 3 & $\\dots$ \\\\\n",
       "\t11 & 79be1c14640ad3bd58341fd172a71b64 & 480000 & 1 & 50 & blockOfFlats & 2 & $\\dots$ \\\\\n",
       "\t12 & 1de81625daa6d917894091247f468441 & 395000 & 1 & 50 & tenement & 2 & $\\dots$ \\\\\n",
       "\t13 & 744c6d6283dc89054f187e452443e6a1 & 560000 & 1 & 50 & blockOfFlats & 2 & $\\dots$ \\\\\n",
       "\t14 & 80678a17024d65391ca23f83ee014295 & 550000 & 1 & 50 & blockOfFlats & 2 & $\\dots$ \\\\\n",
       "\t15 & 0da040e8bde29ed29ed21ce93059c4c8 & 650000 & 1 & 50 & apartmentBuilding & 2 & $\\dots$ \\\\\n",
       "\t16 & 46299238ff7e8a56601b9f67bc7ca201 & 615000 & 1 & 70 & tenement & 3 & $\\dots$ \\\\\n",
       "\t17 & 4cf761d142392e524c266be8921644cf & 589000 & 1 & 70 & blockOfFlats & 3 & $\\dots$ \\\\\n",
       "\t18 & 29a3db062b4436aea1dce0f22b03db9f & 650000 & 1 & 80 & tenement & 4 & $\\dots$ \\\\\n",
       "\t19 & bd2a775e0c383440546defc4953374ce & 1160000 & 1 & 140 & blockOfFlats & 5 & $\\dots$ \\\\\n",
       "\t20 & b227727c3552c54668276df5ad0ce2e2 & 450000 & 1 & 40 & blockOfFlats & 2 & $\\dots$ \\\\\n",
       "\t21 & b9d0758abf545a395978284519adfe0f & 579000 & 1 & 70 & blockOfFlats & 4 & $\\dots$ \\\\\n",
       "\t22 & cfd34e8ad4362c33c12664959230d84f & 450000 & 1 & 40 & blockOfFlats & 2 & $\\dots$ \\\\\n",
       "\t23 & 8561e8477038da1642738cc8a8566abe & 689000 & 1 & 70 & blockOfFlats & 3 & $\\dots$ \\\\\n",
       "\t24 & 0a811b83d4e02ba749799adb9c7cad1e & 560000 & 1 & 50 & apartmentBuilding & 2 & $\\dots$ \\\\\n",
       "\t25 & 8b8046c4c6c5d9a66a8f0caebb03f283 & 339000 & 1 & 40 & blockOfFlats & 3 & $\\dots$ \\\\\n",
       "\t26 & 30bc9631cdd66760d29f20391977ac7e & 559000 & 1 & 50 & blockOfFlats & 2 & $\\dots$ \\\\\n",
       "\t27 & a2edc3d36a8c86b3b362f34e3292c843 & 560000 & 1 & 60 & blockOfFlats & 2 & $\\dots$ \\\\\n",
       "\t28 & 88b96cbec946d66ed05f2695da6ff81e & 600000 & 1 & 100 & blockOfFlats & 4 & $\\dots$ \\\\\n",
       "\t29 & 82e495b06079a20d476bc6cd73e4534c & 709000 & 1 & 60 & \\emph{missing} & 3 & $\\dots$ \\\\\n",
       "\t30 & 39b4c480f521d314ad9bffea752999f9 & 499000 & 1 & 60 & blockOfFlats & 2 & $\\dots$ \\\\\n",
       "\t$\\dots$ & $\\dots$ & $\\dots$ & $\\dots$ & $\\dots$ & $\\dots$ & $\\dots$ &  \\\\\n",
       "\\end{tabular}\n"
      ],
      "text/plain": [
       "\u001b[1m12651×34 DataFrame\u001b[0m\n",
       "\u001b[1m   Row \u001b[0m│\u001b[1m id                               \u001b[0m\u001b[1m price  \u001b[0m\u001b[1m month \u001b[0m\u001b[1m area  \u001b[0m\u001b[1m type         \u001b[0m\u001b[1m\u001b[0m ⋯\n",
       "       │\u001b[90m String                           \u001b[0m\u001b[90m Int64  \u001b[0m\u001b[90m Cat…  \u001b[0m\u001b[90m Int64 \u001b[0m\u001b[90m Cat…?        \u001b[0m\u001b[90m\u001b[0m ⋯\n",
       "───────┼────────────────────────────────────────────────────────────────────────\n",
       "     1 │ 39404087c054348c27522c74ca21a973  689000  1         70  blockOfFlats  ⋯\n",
       "     2 │ 1d5625a24125ddf6482753dedb30454b  426000  1         80  tenement\n",
       "     3 │ b525921b35146fbe0d845801234562cd  839000  1         80  blockOfFlats\n",
       "     4 │ 7ec1e260b3f3985259ec7626756775c0  810000  1         90  tenement\n",
       "     5 │ a8f33c3bf9461849f1b8914b9ab7c3cd  485000  1         60  tenement      ⋯\n",
       "     6 │ 4fd74e394f0cfe9aa5304c9c8bd20f59  426000  1         80  tenement\n",
       "     7 │ 4756498cb0b499431d8364a0bc1a2394  435000  1         60  blockOfFlats\n",
       "     8 │ 85a998a8af8e7f942179436dd40b0f84  450000  1         50  blockOfFlats\n",
       "     9 │ 58befe5c1440c3053dd14353e8ea8521  599000  1         80  tenement      ⋯\n",
       "    10 │ 2b9e0c70bab3a8224c2ed92d17ca8016  890000  1         60 \u001b[90m missing      \u001b[0m\n",
       "    11 │ 79be1c14640ad3bd58341fd172a71b64  480000  1         50  blockOfFlats\n",
       "   ⋮   │                ⋮                    ⋮       ⋮      ⋮         ⋮        ⋱\n",
       " 12642 │ ac83029ae673c96f77816b04b1b31094  269000  6         40  tenement\n",
       " 12643 │ 74233b0ed242782d4e1cc88e5a823d5c  289900  6         40  tenement      ⋯\n",
       " 12644 │ 8cf7f2af1dfbffd2c21b950bd70285f8  349000  6         40  tenement\n",
       " 12645 │ b66871d413bd2b5a823f578ec319bf1b  569000  6         50 \u001b[90m missing      \u001b[0m\n",
       " 12646 │ c7882b46375ba4fc8f45eda9da42b134  279000  6         40  tenement\n",
       " 12647 │ eeac35af28b08d19337d6f9c968aa8e8  289000  6         40 \u001b[90m missing      \u001b[0m ⋯\n",
       " 12648 │ 6c34a9dc8f8fbefefd0a6a890bbab8b0  335000  6         30  tenement\n",
       " 12649 │ c09803ebd4cc139c497abbf6e244a607  890000  6         80 \u001b[90m missing      \u001b[0m\n",
       " 12650 │ 2ac016f953ec63e36c3f99783b94d9cf  208035  6         30 \u001b[90m missing      \u001b[0m\n",
       " 12651 │ 1e7f4f1fdfea31eb84e071d697839632  360000  6         50 \u001b[90m missing      \u001b[0m ⋯\n",
       "\u001b[36m                                               29 columns and 12630 rows omitted\u001b[0m"
      ]
     },
     "execution_count": 51,
     "metadata": {},
     "output_type": "execute_result"
    }
   ],
   "source": [
    "dataud0 = data[data.ud_0 .== 1, :]"
   ]
  },
  {
   "cell_type": "code",
   "execution_count": 53,
   "id": "6f7c00ca-e1d5-4608-8bc8-7feef62631cb",
   "metadata": {},
   "outputs": [
    {
     "data": {
      "text/plain": [
       "877229.2945306288"
      ]
     },
     "execution_count": 53,
     "metadata": {},
     "output_type": "execute_result"
    }
   ],
   "source": [
    "using Statistics\n",
    "avgprice = mean(dataud0.price)\n",
    "avgpredicted = mean(skipmissing(dataud0.price_predicted))"
   ]
  },
  {
   "cell_type": "code",
   "execution_count": 54,
   "id": "3fce59e4-7cab-485c-96bd-ea076d023392",
   "metadata": {},
   "outputs": [
    {
     "data": {
      "text/html": [
       "<div><div style = \"float: left;\"><span>1×2 DataFrame</span></div><div style = \"clear: both;\"></div></div><div class = \"data-frame\" style = \"overflow-x: scroll;\"><table class = \"data-frame\" style = \"margin-bottom: 6px;\"><thead><tr class = \"header\"><th class = \"rowNumber\" style = \"font-weight: bold; text-align: right;\">Row</th><th style = \"text-align: left;\">avgprice</th><th style = \"text-align: left;\">avgpredicted</th></tr><tr class = \"subheader headerLastRow\"><th class = \"rowNumber\" style = \"font-weight: bold; text-align: right;\"></th><th title = \"Float64\" style = \"text-align: left;\">Float64</th><th title = \"Float64\" style = \"text-align: left;\">Float64</th></tr></thead><tbody><tr><td class = \"rowNumber\" style = \"font-weight: bold; text-align: right;\">1</td><td style = \"text-align: right;\">8.73616e5</td><td style = \"text-align: right;\">8.77229e5</td></tr></tbody></table></div>"
      ],
      "text/latex": [
       "\\begin{tabular}{r|cc}\n",
       "\t& avgprice & avgpredicted\\\\\n",
       "\t\\hline\n",
       "\t& Float64 & Float64\\\\\n",
       "\t\\hline\n",
       "\t1 & 8.73616e5 & 8.77229e5 \\\\\n",
       "\\end{tabular}\n"
      ],
      "text/plain": [
       "\u001b[1m1×2 DataFrame\u001b[0m\n",
       "\u001b[1m Row \u001b[0m│\u001b[1m avgprice  \u001b[0m\u001b[1m avgpredicted \u001b[0m\n",
       "     │\u001b[90m Float64   \u001b[0m\u001b[90m Float64      \u001b[0m\n",
       "─────┼─────────────────────────\n",
       "   1 │ 8.73616e5     8.77229e5"
      ]
     },
     "execution_count": 54,
     "metadata": {},
     "output_type": "execute_result"
    }
   ],
   "source": [
    "Comparison = DataFrame(\n",
    "    avgprice = [avgprice],\n",
    "    avgpredicted = [avgpredicted]\n",
    ")\n"
   ]
  }
 ],
 "metadata": {
  "kernelspec": {
   "display_name": "Julia 1.11.6",
   "language": "julia",
   "name": "julia-1.11"
  },
  "language_info": {
   "file_extension": ".jl",
   "mimetype": "application/julia",
   "name": "julia",
   "version": "1.11.6"
  }
 },
 "nbformat": 4,
 "nbformat_minor": 5
}
